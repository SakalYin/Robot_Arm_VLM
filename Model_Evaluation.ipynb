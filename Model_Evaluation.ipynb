{
 "cells": [
  {
   "cell_type": "code",
   "execution_count": 1,
   "metadata": {},
   "outputs": [
    {
     "name": "stdout",
     "output_type": "stream",
     "text": [
      "🦥 Unsloth: Will patch your computer to enable 2x faster free finetuning.\n",
      "🦥 Unsloth Zoo will now patch everything to make training faster!\n"
     ]
    }
   ],
   "source": [
    "import pandas as pd\n",
    "from model.evaluation import eval_model\n",
    "from model.loader import load_model"
   ]
  },
  {
   "cell_type": "code",
   "execution_count": 2,
   "metadata": {},
   "outputs": [
    {
     "data": {
      "application/vnd.microsoft.datawrangler.viewer.v0+json": {
       "columns": [
        {
         "name": "index",
         "rawType": "int64",
         "type": "integer"
        },
        {
         "name": "images",
         "rawType": "object",
         "type": "string"
        },
        {
         "name": "prompt",
         "rawType": "object",
         "type": "string"
        },
        {
         "name": "output",
         "rawType": "object",
         "type": "string"
        },
        {
         "name": "name",
         "rawType": "object",
         "type": "string"
        },
        {
         "name": "object",
         "rawType": "object",
         "type": "string"
        }
       ],
       "conversionMethod": "pd.DataFrame",
       "ref": "88e62bf1-b371-4d0e-9af2-6a2819789883",
       "rows": [
        [
         "0",
         "Robot_Arm_Data/bright_default_cam/image_20250324_165623_1.png",
         "I want a drink that gives me a quick burst of energy.<camera>0.5,-0.75,1.8</camera>",
         "<obj>coke_can</obj> <pose>0.78,-1.265,0.72</pose> <orient>0.37508,0.92699,-0.00045,0.00284</orient>",
         "bright_default_cam",
         "<obj>coke_can</obj>"
        ],
        [
         "1",
         "Robot_Arm_Data/bright_offset1/image_20250325_230220_0.png",
         "I need to separate this portion from the rest.<camera>0.7,-0.75,1.8</camera>",
         "<obj>bowl</obj> <pose>0.645,-1.2,0.58</pose> <orient>0.4468,0.8508,0.2185,0.147</orient>",
         "bright_offset1",
         "<obj>bowl</obj>"
        ],
        [
         "2",
         "Robot_Arm_Data/bright_default_cam/image_20250324_154010_1.png",
         "This meal would be easier to eat with something to hold it.<camera>0.5,-0.75,1.8</camera>",
         "<obj>bowl</obj> <pose>0.63,-0.85,0.58</pose> <orient>0.4468,0.8508,0.2185,0.147</orient>",
         "bright_default_cam",
         "<obj>bowl</obj>"
        ],
        [
         "3",
         "Robot_Arm_Data/bright_default_cam/image_20250325_082541_1.png",
         "Where can I find a plastic cup? I don’t want to drink from the bottle.<camera>0.5,-0.75,1.8</camera>",
         "<obj>plastic_cup</obj> <pose>0.92,-0.785,0.548</pose> <orient>0.35478,0.71881,0.30505,0.5141</orient>",
         "bright_default_cam",
         "<obj>plastic_cup</obj>"
        ],
        [
         "4",
         "Robot_Arm_Data/bright_default_cam/image_20250324_151705_2.png",
         "I need to take a picture of this moment.<camera>0.5,-0.75,1.8</camera>",
         "<obj>samsung_j8_black</obj> <pose>0.535,-0.09,0.58</pose> <orient>0.37508,0.92699,-0.00045,0.00284</orient>",
         "bright_default_cam",
         "<obj>samsung_j8_black</obj>"
        ],
        [
         "5",
         "Robot_Arm_Data/dark_offset2/image_20250325_162637_1.png",
         "Where’s something I can grab for a light snack?<camera>0.65,-0.65,1.7</camera>",
         "<obj>peach</obj> <pose>0.555,-1.345,0.63</pose> <orient>0.4468,0.8508,0.2185,0.147</orient>",
         "dark_offset2",
         "<obj>peach</obj>"
        ],
        [
         "6",
         "Robot_Arm_Data/bright_offset1/image_20250325_225426_2.png",
         "I should grab something that can hold both cold and hot drinks.<camera>0.7,-0.75,1.8</camera>",
         "<obj>plastic_cup</obj> <pose>0.415,-1.175,0.548</pose> <orient>0.35478,0.71881,0.30505,0.5141</orient>",
         "bright_offset1",
         "<obj>plastic_cup</obj>"
        ],
        [
         "7",
         "Robot_Arm_Data/bright_default_cam/image_20250324_150935_1.png",
         "I need a healthy snack with a rich color.<camera>0.5,-0.75,1.8</camera>",
         "<obj>strawberry</obj> <pose>1.005,-0.485,0.58</pose> <orient>0.37508,0.92699,-0.00045,0.00284</orient>",
         "bright_default_cam",
         "<obj>strawberry</obj>"
        ],
        [
         "8",
         "Robot_Arm_Data/dark_offset4_mud/image_20250326_112500_2.png",
         "I need a device that helps me stay connected to the world.<camera>0.78,-0.68,1.7</camera>",
         "<obj>samsung_j8_black</obj> <pose>0.685,-0.885,0.58</pose> <orient>0.37508,0.92699,-0.00045,0.00284</orient>",
         "dark_offset4_mud",
         "<obj>samsung_j8_black</obj>"
        ],
        [
         "9",
         "Robot_Arm_Data/bright_default_cam/image_20250324_152534_2.png",
         "Go back to the first position you were in.<camera>0.5,-0.75,1.8</camera>",
         "<obj>reset</obj> <pose>0.32,-0.65897,1.5002</pose> <orient>0.70711,0.0006,0.00068,0.70711</orient>",
         "bright_default_cam",
         "<obj>reset</obj>"
        ],
        [
         "10",
         "Robot_Arm_Data/dark_offset2/image_20250325_162648_0.png",
         "I should grab a bottle of something with a recognizable taste.<camera>0.65,-0.65,1.7</camera>",
         "<obj>coke_can</obj> <pose>0.685,-0.18,0.72</pose> <orient>0.37508,0.92699,-0.00045,0.00284</orient>",
         "dark_offset2",
         "<obj>coke_can</obj>"
        ],
        [
         "11",
         "Robot_Arm_Data/bright_default_cam/image_20250325_082900_0.png",
         "I need a healthy snack.<camera>0.5,-0.75,1.8</camera>",
         "<obj>peach</obj> <pose>0.615,-1.095,0.63</pose> <orient>0.4468,0.8508,0.2185,0.147</orient>",
         "bright_default_cam",
         "<obj>peach</obj>"
        ],
        [
         "12",
         "Robot_Arm_Data/dark_default_cam/image_20250325_222450_0.png",
         "A canned drink would be perfect right now.<camera>0.5,-0.75,1.8</camera>",
         "<obj>coke_can</obj> <pose>0.9,-0.58,0.72</pose> <orient>0.37508,0.92699,-0.00045,0.00284</orient>",
         "dark_default_cam",
         "<obj>coke_can</obj>"
        ],
        [
         "13",
         "Robot_Arm_Data/bright_offset3_mud/image_20250326_105942_1.png",
         "I’m looking for a soft drink.<camera>0.75,-0.7,1.7</camera>",
         "<obj>coke_can</obj> <pose>0.96,-0.455,0.72</pose> <orient>0.37508,0.92699,-0.00045,0.00284</orient>",
         "bright_offset3_mud",
         "<obj>coke_can</obj>"
        ],
        [
         "14",
         "Robot_Arm_Data/bright_offset1/image_20250325_230039_1.png",
         "I need something that satisfies my craving for something sugary.<camera>0.7,-0.75,1.8</camera>",
         "<obj>coke_can</obj> <pose>0.95,-0.64,0.72</pose> <orient>0.37508,0.92699,-0.00045,0.00284</orient>",
         "bright_offset1",
         "<obj>coke_can</obj>"
        ],
        [
         "15",
         "Robot_Arm_Data/bright_offset1/image_20250325_225415_2.png",
         "I’m looking for a fruit that pairs well with chocolate.<camera>0.7,-0.75,1.8</camera>",
         "<obj>strawberry</obj> <pose>0.995,-0.795,0.58</pose> <orient>0.37508,0.92699,-0.00045,0.00284</orient>",
         "bright_offset1",
         "<obj>strawberry</obj>"
        ],
        [
         "16",
         "Robot_Arm_Data/bright_default_cam/image_20250325_085937_0.png",
         "This breakfast could use a fresh topping.<camera>0.5,-0.75,1.8</camera>",
         "<obj>strawberry</obj> <pose>0.63,-0.575,0.58</pose> <orient>0.37508,0.92699,-0.00045,0.00284</orient>",
         "bright_default_cam",
         "<obj>strawberry</obj>"
        ],
        [
         "17",
         "Robot_Arm_Data/bright_default_cam/image_20250325_083435_2.png",
         "I want to keep all my food together instead of it spreading out.<camera>0.5,-0.75,1.8</camera>",
         "<obj>bowl</obj> <pose>0.69,-0.25,0.58</pose> <orient>0.4468,0.8508,0.2185,0.147</orient>",
         "bright_default_cam",
         "<obj>bowl</obj>"
        ],
        [
         "18",
         "Robot_Arm_Data/bright_default_cam/image_20250324_164941_2.png",
         "Where’s something I can grab for a light snack?<camera>0.5,-0.75,1.8</camera>",
         "<obj>peach</obj> <pose>0.73,-0.795,0.63</pose> <orient>0.4468,0.8508,0.2185,0.147</orient>",
         "bright_default_cam",
         "<obj>peach</obj>"
        ],
        [
         "19",
         "Robot_Arm_Data/dark_default_cam/image_20250325_223214_1.png",
         "Where can I check my messages?<camera>0.5,-0.75,1.8</camera>",
         "<obj>samsung_j8_black</obj> <pose>0.77,-1.1,0.58</pose> <orient>0.37508,0.92699,-0.00045,0.00284</orient>",
         "dark_default_cam",
         "<obj>samsung_j8_black</obj>"
        ],
        [
         "20",
         "Robot_Arm_Data/bright_default_cam/image_20250325_083632_0.png",
         "Something round and slightly fuzzy sounds like the perfect treat.<camera>0.5,-0.75,1.8</camera>",
         "<obj>peach</obj> <pose>0.96,-0.5,0.63</pose> <orient>0.4468,0.8508,0.2185,0.147</orient>",
         "bright_default_cam",
         "<obj>peach</obj>"
        ],
        [
         "21",
         "Robot_Arm_Data/bright_default_cam/image_20250324_154926_0.png",
         "Pouring directly from the pitcher is messy—I need something else.<camera>0.5,-0.75,1.8</camera>",
         "<obj>plastic_cup</obj> <pose>0.61,-1.205,0.548</pose> <orient>0.35478,0.71881,0.30505,0.5141</orient>",
         "bright_default_cam",
         "<obj>plastic_cup</obj>"
        ],
        [
         "22",
         "Robot_Arm_Data/bright_default_cam/image_20250325_083710_1.png",
         "Something refreshing and slightly fuzzy to the touch would be nice.<camera>0.5,-0.75,1.8</camera>",
         "<obj>peach</obj> <pose>0.845,-0.97,0.63</pose> <orient>0.4468,0.8508,0.2185,0.147</orient>",
         "bright_default_cam",
         "<obj>peach</obj>"
        ],
        [
         "23",
         "Robot_Arm_Data/dark_default_cam/image_20250325_222527_1.png",
         "Return to the default stance.<camera>0.5,-0.75,1.8</camera>",
         "<obj>reset</obj> <pose>0.32,-0.65897,1.5002</pose> <orient>0.70711,0.0006,0.00068,0.70711</orient>",
         "dark_default_cam",
         "<obj>reset</obj>"
        ],
        [
         "24",
         "Robot_Arm_Data/bright_default_cam/image_20250324_154243_0.png",
         "A small, sweet and sour treat would be perfect right now.<camera>0.5,-0.75,1.8</camera>",
         "<obj>strawberry</obj> <pose>0.645,-0.805,0.58</pose> <orient>0.37508,0.92699,-0.00045,0.00284</orient>",
         "bright_default_cam",
         "<obj>strawberry</obj>"
        ],
        [
         "25",
         "Robot_Arm_Data/bright_default_cam/image_20250325_090122_0.png",
         "I need something that can hold both solid and liquid food.<camera>0.5,-0.75,1.8</camera>",
         "<obj>bowl</obj> <pose>0.625,-0.41,0.58</pose> <orient>0.4468,0.8508,0.2185,0.147</orient>",
         "bright_default_cam",
         "<obj>bowl</obj>"
        ],
        [
         "26",
         "Robot_Arm_Data/bright_default_cam/image_20250324_145855_1.png",
         "I could go for something with a fragrant aroma and soft flesh.<camera>0.5,-0.75,1.8</camera>",
         "<obj>peach</obj> <pose>0.785,-0.27,0.63</pose> <orient>0.4468,0.8508,0.2185,0.147</orient>",
         "bright_default_cam",
         "<obj>peach</obj>"
        ],
        [
         "27",
         "Robot_Arm_Data/bright_default_cam/image_20250324_153756_0.png",
         "Is there something sugary to drink around here?<camera>0.5,-0.75,1.8</camera>",
         "<obj>coke_can</obj> <pose>0.95,-0.61,0.72</pose> <orient>0.37508,0.92699,-0.00045,0.00284</orient>",
         "bright_default_cam",
         "<obj>coke_can</obj>"
        ],
        [
         "28",
         "Robot_Arm_Data/dark_offset2/image_20250325_162418_1.png",
         "I need a berry to add to my dessert.<camera>0.65,-0.65,1.7</camera>",
         "<obj>strawberry</obj> <pose>0.8,-0.955,0.58</pose> <orient>0.37508,0.92699,-0.00045,0.00284</orient>",
         "dark_offset2",
         "<obj>strawberry</obj>"
        ],
        [
         "29",
         "Robot_Arm_Data/bright_default_cam/image_20250324_154502_0.png",
         "I need something deep to hold liquid food.<camera>0.5,-0.75,1.8</camera>",
         "<obj>bowl</obj> <pose>0.445,-1.215,0.58</pose> <orient>0.4468,0.8508,0.2185,0.147</orient>",
         "bright_default_cam",
         "<obj>bowl</obj>"
        ],
        [
         "30",
         "Robot_Arm_Data/bright_default_cam/image_20250325_083446_0.png",
         "Where’s something I can use to hold my juice?<camera>0.5,-0.75,1.8</camera>",
         "<obj>plastic_cup</obj> <pose>0.625,-0.91,0.548</pose> <orient>0.35478,0.71881,0.30505,0.5141</orient>",
         "bright_default_cam",
         "<obj>plastic_cup</obj>"
        ],
        [
         "31",
         "Robot_Arm_Data/bright_default_cam/image_20250324_164930_2.png",
         "A drink with some fizz would really hit the spot.<camera>0.5,-0.75,1.8</camera>",
         "<obj>coke_can</obj> <pose>0.995,-0.895,0.72</pose> <orient>0.37508,0.92699,-0.00045,0.00284</orient>",
         "bright_default_cam",
         "<obj>coke_can</obj>"
        ],
        [
         "32",
         "Robot_Arm_Data/dark_offset4_mud/image_20250326_113655_2.png",
         "A berry that’s both tart and sweet would be nice.<camera>0.78,-0.68,1.7</camera>",
         "<obj>strawberry</obj> <pose>0.905,-0.275,0.58</pose> <orient>0.37508,0.92699,-0.00045,0.00284</orient>",
         "dark_offset4_mud",
         "<obj>strawberry</obj>"
        ],
        [
         "33",
         "Robot_Arm_Data/bright_offset1/image_20250325_230140_0.png",
         "Something round and slightly fuzzy sounds like the perfect treat.<camera>0.7,-0.75,1.8</camera>",
         "<obj>peach</obj> <pose>0.53,-0.135,0.63</pose> <orient>0.4468,0.8508,0.2185,0.147</orient>",
         "bright_offset1",
         "<obj>peach</obj>"
        ],
        [
         "34",
         "Robot_Arm_Data/dark_default_cam/image_20250325_222714_2.png",
         "I need something to hold my fruit.<camera>0.5,-0.75,1.8</camera>",
         "<obj>bowl</obj> <pose>0.67,-0.51,0.58</pose> <orient>0.4468,0.8508,0.2185,0.147</orient>",
         "dark_default_cam",
         "<obj>bowl</obj>"
        ],
        [
         "35",
         "Robot_Arm_Data/bright_default_cam/image_20250324_164429_1.png",
         "I’m looking for a fruit that’s small, sweet, and easy to eat.<camera>0.5,-0.75,1.8</camera>",
         "<obj>strawberry</obj> <pose>0.935,-0.885,0.58</pose> <orient>0.37508,0.92699,-0.00045,0.00284</orient>",
         "bright_default_cam",
         "<obj>strawberry</obj>"
        ],
        [
         "36",
         "Robot_Arm_Data/bright_default_cam/image_20250325_081841_2.png",
         "Go back to where you started.<camera>0.5,-0.75,1.8</camera>",
         "<obj>reset</obj> <pose>0.32,-0.65897,1.5002</pose> <orient>0.70711,0.0006,0.00068,0.70711</orient>",
         "bright_default_cam",
         "<obj>reset</obj>"
        ],
        [
         "37",
         "Robot_Arm_Data/bright_default_cam/image_20250324_163313_0.png",
         "I need something that keeps my food from spilling over the edges.<camera>0.5,-0.75,1.8</camera>",
         "<obj>bowl</obj> <pose>0.45,-0.855,0.58</pose> <orient>0.4468,0.8508,0.2185,0.147</orient>",
         "bright_default_cam",
         "<obj>bowl</obj>"
        ],
        [
         "38",
         "Robot_Arm_Data/bright_default_cam/image_20250324_164656_2.png",
         "I’m looking for a soft drink.<camera>0.5,-0.75,1.8</camera>",
         "<obj>coke_can</obj> <pose>0.795,-0.465,0.72</pose> <orient>0.37508,0.92699,-0.00045,0.00284</orient>",
         "bright_default_cam",
         "<obj>coke_can</obj>"
        ],
        [
         "39",
         "Robot_Arm_Data/bright_default_cam/image_20250324_145751_2.png",
         "I need a cold beverage to cool down.<camera>0.5,-0.75,1.8</camera>",
         "<obj>coke_can</obj> <pose>0.82,-1.095,0.72</pose> <orient>0.37508,0.92699,-0.00045,0.00284</orient>",
         "bright_default_cam",
         "<obj>coke_can</obj>"
        ],
        [
         "40",
         "Robot_Arm_Data/bright_default_cam/image_20250325_084135_2.png",
         "I’m looking for a soft drink.<camera>0.5,-0.75,1.8</camera>",
         "<obj>coke_can</obj> <pose>0.97,-0.715,0.72</pose> <orient>0.37508,0.92699,-0.00045,0.00284</orient>",
         "bright_default_cam",
         "<obj>coke_can</obj>"
        ],
        [
         "41",
         "Robot_Arm_Data/bright_default_cam/image_20250325_085521_1.png",
         "A soft drink would really hit the spot.<camera>0.5,-0.75,1.8</camera>",
         "<obj>coke_can</obj> <pose>0.93,-0.77,0.72</pose> <orient>0.37508,0.92699,-0.00045,0.00284</orient>",
         "bright_default_cam",
         "<obj>coke_can</obj>"
        ],
        [
         "42",
         "Robot_Arm_Data/dark_offset4_mud/image_20250326_112104_1.png",
         "Where is the fresh fruit?<camera>0.78,-0.68,1.7</camera>",
         "<obj>peach</obj> <pose>0.705,-1.035,0.63</pose> <orient>0.4468,0.8508,0.2185,0.147</orient>",
         "dark_offset4_mud",
         "<obj>peach</obj>"
        ],
        [
         "43",
         "Robot_Arm_Data/bright_default_cam/image_20250325_082234_0.png",
         "A wide and deep container is exactly what I need right now.<camera>0.5,-0.75,1.8</camera>",
         "<obj>bowl</obj> <pose>0.7,-0.4,0.58</pose> <orient>0.4468,0.8508,0.2185,0.147</orient>",
         "bright_default_cam",
         "<obj>bowl</obj>"
        ],
        [
         "44",
         "Robot_Arm_Data/bright_default_cam/image_20250324_163858_2.png",
         "I should find something I can bite into and enjoy.<camera>0.5,-0.75,1.8</camera>",
         "<obj>peach</obj> <pose>0.67,-0.105,0.63</pose> <orient>0.4468,0.8508,0.2185,0.147</orient>",
         "bright_default_cam",
         "<obj>peach</obj>"
        ],
        [
         "45",
         "Robot_Arm_Data/bright_default_cam/image_20250325_082627_1.png",
         "Something bright red and juicy would be a great addition to my snack.<camera>0.5,-0.75,1.8</camera>",
         "<obj>strawberry</obj> <pose>0.58,-1.035,0.58</pose> <orient>0.37508,0.92699,-0.00045,0.00284</orient>",
         "bright_default_cam",
         "<obj>strawberry</obj>"
        ],
        [
         "46",
         "Robot_Arm_Data/bright_offset3_mud/image_20250326_104504_1.png",
         "I want something fizzy to drink.<camera>0.75,-0.7,1.7</camera>",
         "<obj>coke_can</obj> <pose>0.79,-0.925,0.72</pose> <orient>0.37508,0.92699,-0.00045,0.00284</orient>",
         "bright_offset3_mud",
         "<obj>coke_can</obj>"
        ],
        [
         "47",
         "Robot_Arm_Data/bright_default_cam/image_20250324_154549_1.png",
         "Move to the original spot.<camera>0.5,-0.75,1.8</camera>",
         "<obj>reset</obj> <pose>0.32,-0.65897,1.5002</pose> <orient>0.70711,0.0006,0.00068,0.70711</orient>",
         "bright_default_cam",
         "<obj>reset</obj>"
        ],
        [
         "48",
         "Robot_Arm_Data/dark_offset2/image_20250325_163910_0.png",
         "I should check my calendar to see what I have planned today.<camera>0.65,-0.65,1.7</camera>",
         "<obj>samsung_j8_black</obj> <pose>0.825,-0.205,0.58</pose> <orient>0.37508,0.92699,-0.00045,0.00284</orient>",
         "dark_offset2",
         "<obj>samsung_j8_black</obj>"
        ],
        [
         "49",
         "Robot_Arm_Data/bright_offset3_mud/image_20250326_104651_1.png",
         "I need something lightweight to hold my drink.<camera>0.75,-0.7,1.7</camera>",
         "<obj>plastic_cup</obj> <pose>0.55,-0.29,0.548</pose> <orient>0.35478,0.71881,0.30505,0.5141</orient>",
         "bright_offset3_mud",
         "<obj>plastic_cup</obj>"
        ]
       ],
       "shape": {
        "columns": 5,
        "rows": 192
       }
      },
      "text/html": [
       "<div>\n",
       "<style scoped>\n",
       "    .dataframe tbody tr th:only-of-type {\n",
       "        vertical-align: middle;\n",
       "    }\n",
       "\n",
       "    .dataframe tbody tr th {\n",
       "        vertical-align: top;\n",
       "    }\n",
       "\n",
       "    .dataframe thead th {\n",
       "        text-align: right;\n",
       "    }\n",
       "</style>\n",
       "<table border=\"1\" class=\"dataframe\">\n",
       "  <thead>\n",
       "    <tr style=\"text-align: right;\">\n",
       "      <th></th>\n",
       "      <th>images</th>\n",
       "      <th>prompt</th>\n",
       "      <th>output</th>\n",
       "      <th>name</th>\n",
       "      <th>object</th>\n",
       "    </tr>\n",
       "  </thead>\n",
       "  <tbody>\n",
       "    <tr>\n",
       "      <th>0</th>\n",
       "      <td>Robot_Arm_Data/bright_default_cam/image_202503...</td>\n",
       "      <td>I want a drink that gives me a quick burst of ...</td>\n",
       "      <td>&lt;obj&gt;coke_can&lt;/obj&gt; &lt;pose&gt;0.78,-1.265,0.72&lt;/po...</td>\n",
       "      <td>bright_default_cam</td>\n",
       "      <td>&lt;obj&gt;coke_can&lt;/obj&gt;</td>\n",
       "    </tr>\n",
       "    <tr>\n",
       "      <th>1</th>\n",
       "      <td>Robot_Arm_Data/bright_offset1/image_20250325_2...</td>\n",
       "      <td>I need to separate this portion from the rest....</td>\n",
       "      <td>&lt;obj&gt;bowl&lt;/obj&gt; &lt;pose&gt;0.645,-1.2,0.58&lt;/pose&gt; &lt;...</td>\n",
       "      <td>bright_offset1</td>\n",
       "      <td>&lt;obj&gt;bowl&lt;/obj&gt;</td>\n",
       "    </tr>\n",
       "    <tr>\n",
       "      <th>2</th>\n",
       "      <td>Robot_Arm_Data/bright_default_cam/image_202503...</td>\n",
       "      <td>This meal would be easier to eat with somethin...</td>\n",
       "      <td>&lt;obj&gt;bowl&lt;/obj&gt; &lt;pose&gt;0.63,-0.85,0.58&lt;/pose&gt; &lt;...</td>\n",
       "      <td>bright_default_cam</td>\n",
       "      <td>&lt;obj&gt;bowl&lt;/obj&gt;</td>\n",
       "    </tr>\n",
       "    <tr>\n",
       "      <th>3</th>\n",
       "      <td>Robot_Arm_Data/bright_default_cam/image_202503...</td>\n",
       "      <td>Where can I find a plastic cup? I don’t want t...</td>\n",
       "      <td>&lt;obj&gt;plastic_cup&lt;/obj&gt; &lt;pose&gt;0.92,-0.785,0.548...</td>\n",
       "      <td>bright_default_cam</td>\n",
       "      <td>&lt;obj&gt;plastic_cup&lt;/obj&gt;</td>\n",
       "    </tr>\n",
       "    <tr>\n",
       "      <th>4</th>\n",
       "      <td>Robot_Arm_Data/bright_default_cam/image_202503...</td>\n",
       "      <td>I need to take a picture of this moment.&lt;camer...</td>\n",
       "      <td>&lt;obj&gt;samsung_j8_black&lt;/obj&gt; &lt;pose&gt;0.535,-0.09,...</td>\n",
       "      <td>bright_default_cam</td>\n",
       "      <td>&lt;obj&gt;samsung_j8_black&lt;/obj&gt;</td>\n",
       "    </tr>\n",
       "    <tr>\n",
       "      <th>...</th>\n",
       "      <td>...</td>\n",
       "      <td>...</td>\n",
       "      <td>...</td>\n",
       "      <td>...</td>\n",
       "      <td>...</td>\n",
       "    </tr>\n",
       "    <tr>\n",
       "      <th>187</th>\n",
       "      <td>Robot_Arm_Data/bright_default_cam/image_202503...</td>\n",
       "      <td>I need to take a picture of this moment.&lt;camer...</td>\n",
       "      <td>&lt;obj&gt;samsung_j8_black&lt;/obj&gt; &lt;pose&gt;0.745,-0.885...</td>\n",
       "      <td>bright_default_cam</td>\n",
       "      <td>&lt;obj&gt;samsung_j8_black&lt;/obj&gt;</td>\n",
       "    </tr>\n",
       "    <tr>\n",
       "      <th>188</th>\n",
       "      <td>Robot_Arm_Data/bright_default_cam/image_202503...</td>\n",
       "      <td>A piece of fruit with a firm outside and juicy...</td>\n",
       "      <td>&lt;obj&gt;peach&lt;/obj&gt; &lt;pose&gt;0.845,-0.765,0.63&lt;/pose...</td>\n",
       "      <td>bright_default_cam</td>\n",
       "      <td>&lt;obj&gt;peach&lt;/obj&gt;</td>\n",
       "    </tr>\n",
       "    <tr>\n",
       "      <th>189</th>\n",
       "      <td>Robot_Arm_Data/bright_default_cam/image_202503...</td>\n",
       "      <td>I should grab a plastic cup for my coffee.&lt;cam...</td>\n",
       "      <td>&lt;obj&gt;plastic_cup&lt;/obj&gt; &lt;pose&gt;0.425,0.0,0.548&lt;/...</td>\n",
       "      <td>bright_default_cam</td>\n",
       "      <td>&lt;obj&gt;plastic_cup&lt;/obj&gt;</td>\n",
       "    </tr>\n",
       "    <tr>\n",
       "      <th>190</th>\n",
       "      <td>Robot_Arm_Data/bright_default_cam/image_202503...</td>\n",
       "      <td>Move back to the neutral state.&lt;camera&gt;0.5,-0....</td>\n",
       "      <td>&lt;obj&gt;reset&lt;/obj&gt; &lt;pose&gt;0.32,-0.65897,1.5002&lt;/p...</td>\n",
       "      <td>bright_default_cam</td>\n",
       "      <td>&lt;obj&gt;reset&lt;/obj&gt;</td>\n",
       "    </tr>\n",
       "    <tr>\n",
       "      <th>191</th>\n",
       "      <td>Robot_Arm_Data/bright_default_cam/image_202503...</td>\n",
       "      <td>I want something refreshing to eat.&lt;camera&gt;0.5...</td>\n",
       "      <td>&lt;obj&gt;peach&lt;/obj&gt; &lt;pose&gt;0.49,-0.025,0.63&lt;/pose&gt;...</td>\n",
       "      <td>bright_default_cam</td>\n",
       "      <td>&lt;obj&gt;peach&lt;/obj&gt;</td>\n",
       "    </tr>\n",
       "  </tbody>\n",
       "</table>\n",
       "<p>192 rows × 5 columns</p>\n",
       "</div>"
      ],
      "text/plain": [
       "                                                images  \\\n",
       "0    Robot_Arm_Data/bright_default_cam/image_202503...   \n",
       "1    Robot_Arm_Data/bright_offset1/image_20250325_2...   \n",
       "2    Robot_Arm_Data/bright_default_cam/image_202503...   \n",
       "3    Robot_Arm_Data/bright_default_cam/image_202503...   \n",
       "4    Robot_Arm_Data/bright_default_cam/image_202503...   \n",
       "..                                                 ...   \n",
       "187  Robot_Arm_Data/bright_default_cam/image_202503...   \n",
       "188  Robot_Arm_Data/bright_default_cam/image_202503...   \n",
       "189  Robot_Arm_Data/bright_default_cam/image_202503...   \n",
       "190  Robot_Arm_Data/bright_default_cam/image_202503...   \n",
       "191  Robot_Arm_Data/bright_default_cam/image_202503...   \n",
       "\n",
       "                                                prompt  \\\n",
       "0    I want a drink that gives me a quick burst of ...   \n",
       "1    I need to separate this portion from the rest....   \n",
       "2    This meal would be easier to eat with somethin...   \n",
       "3    Where can I find a plastic cup? I don’t want t...   \n",
       "4    I need to take a picture of this moment.<camer...   \n",
       "..                                                 ...   \n",
       "187  I need to take a picture of this moment.<camer...   \n",
       "188  A piece of fruit with a firm outside and juicy...   \n",
       "189  I should grab a plastic cup for my coffee.<cam...   \n",
       "190  Move back to the neutral state.<camera>0.5,-0....   \n",
       "191  I want something refreshing to eat.<camera>0.5...   \n",
       "\n",
       "                                                output                name  \\\n",
       "0    <obj>coke_can</obj> <pose>0.78,-1.265,0.72</po...  bright_default_cam   \n",
       "1    <obj>bowl</obj> <pose>0.645,-1.2,0.58</pose> <...      bright_offset1   \n",
       "2    <obj>bowl</obj> <pose>0.63,-0.85,0.58</pose> <...  bright_default_cam   \n",
       "3    <obj>plastic_cup</obj> <pose>0.92,-0.785,0.548...  bright_default_cam   \n",
       "4    <obj>samsung_j8_black</obj> <pose>0.535,-0.09,...  bright_default_cam   \n",
       "..                                                 ...                 ...   \n",
       "187  <obj>samsung_j8_black</obj> <pose>0.745,-0.885...  bright_default_cam   \n",
       "188  <obj>peach</obj> <pose>0.845,-0.765,0.63</pose...  bright_default_cam   \n",
       "189  <obj>plastic_cup</obj> <pose>0.425,0.0,0.548</...  bright_default_cam   \n",
       "190  <obj>reset</obj> <pose>0.32,-0.65897,1.5002</p...  bright_default_cam   \n",
       "191  <obj>peach</obj> <pose>0.49,-0.025,0.63</pose>...  bright_default_cam   \n",
       "\n",
       "                          object  \n",
       "0            <obj>coke_can</obj>  \n",
       "1                <obj>bowl</obj>  \n",
       "2                <obj>bowl</obj>  \n",
       "3         <obj>plastic_cup</obj>  \n",
       "4    <obj>samsung_j8_black</obj>  \n",
       "..                           ...  \n",
       "187  <obj>samsung_j8_black</obj>  \n",
       "188             <obj>peach</obj>  \n",
       "189       <obj>plastic_cup</obj>  \n",
       "190             <obj>reset</obj>  \n",
       "191             <obj>peach</obj>  \n",
       "\n",
       "[192 rows x 5 columns]"
      ]
     },
     "execution_count": 2,
     "metadata": {},
     "output_type": "execute_result"
    }
   ],
   "source": [
    "data = pd.read_json('Robot_Arm_Data/test.json')\n",
    "data"
   ]
  },
  {
   "cell_type": "code",
   "execution_count": 3,
   "metadata": {},
   "outputs": [],
   "source": [
    "# data[['pose', 'orient', 'object']] = data['output'].apply(\n",
    "#     lambda x: pd.Series(extract_position_and_orientation(x, format=2)))\n",
    "# # data['pose'] = data['pose'].apply(lambda x: str(x).replace('[', '').replace(']', ''))\n",
    "# # data['orient'] = data['orient'].apply(lambda x: str(x).replace('[', '').replace(']', ''))\n",
    "# data"
   ]
  },
  {
   "cell_type": "code",
   "execution_count": 4,
   "metadata": {},
   "outputs": [
    {
     "name": "stderr",
     "output_type": "stream",
     "text": [
      "c:\\ProgramData\\anaconda3\\Lib\\site-packages\\unsloth_zoo\\gradient_checkpointing.py:325: UserWarning: expandable_segments not supported on this platform (Triggered internally at C:\\actions-runner\\_work\\pytorch\\pytorch\\pytorch\\c10/cuda/CUDAAllocatorConfig.h:28.)\n",
      "  GPU_BUFFER = torch.empty(2*256*2048, dtype = dtype, device = \"cuda:0\")\n"
     ]
    },
    {
     "name": "stdout",
     "output_type": "stream",
     "text": [
      "==((====))==  Unsloth 2025.3.1: Fast Qwen2_Vl vision patching. Transformers: 4.49.0.\n",
      "   \\\\   /|    GPU: NVIDIA GeForce RTX 3060. Max memory: 12.0 GB. Platform: Windows.\n",
      "O^O/ \\_/ \\    Torch: 2.6.0+cu124. CUDA: 8.6. CUDA Toolkit: 12.4. Triton: 3.2.0\n",
      "\\        /    Bfloat16 = TRUE. FA [Xformers = 0.0.29.post3. FA2 = True]\n",
      " \"-____-\"     Free Apache license: http://github.com/unslothai/unsloth\n",
      "Unsloth: Fast downloading is enabled - ignore downloading bars which are red colored!\n"
     ]
    },
    {
     "name": "stderr",
     "output_type": "stream",
     "text": [
      "Using a slow image processor as `use_fast` is unset and a slow processor was saved with this model. `use_fast=True` will be the default behavior in v4.48, even if the model was saved with a slow processor. This will result in minor differences in outputs. You'll still be able to use a slow processor with `use_fast=False`.\n"
     ]
    }
   ],
   "source": [
    "model, processor = load_model('D:/Sakal/AI_FARM/Qwen2vl_Robot_Arm/Qwen2b-Robot-Arm-Unsloth-mixed-cases(6)/checkpoint-645')"
   ]
  },
  {
   "cell_type": "code",
   "execution_count": 5,
   "metadata": {},
   "outputs": [],
   "source": [
    "system_message = 'You are a Visual Language Model Trained to output robot arm end-effectors parameters.' \\\n",
    "'Base on the user requests, locate the appropriate object in the image and you must return the position and orientation to reach it in xml format.' \\\n",
    "'The camera position relative to the robot arm is also provide inside <camera> </camera> tag, study them to understand object positions from different view angle.'"
   ]
  },
  {
   "cell_type": "code",
   "execution_count": 6,
   "metadata": {},
   "outputs": [
    {
     "name": "stdout",
     "output_type": "stream",
     "text": [
      "Inferencing on dataset of 192 records with batch size of 3 per iteration:\n",
      "Progress: 100.00%        |==================================================|\n",
      "Extracting true value from the output...\n",
      "\n",
      "Object Poistion (X,Y,Z) Evaluation:\n",
      "---------------------------------------------------------------\n",
      "Euclidean           |                  0.1001                 |\n",
      "---------------------------------------------------------------\n",
      "\n",
      "---------------------------------------------------------------\n",
      "Regression          | X           | Y           | Z           |\n",
      "---------------------------------------------------------------\n",
      "R² Score            | 0.7531      | 0.8699      | 0.8290      |\n",
      "Mean Absolute Error | 0.0586      | 0.0489      | 0.0153      |\n",
      "---------------------------------------------------------------\n",
      "\n",
      "Object Orientation (X,Y,Z,W) Evaluation:\n",
      "------------------------------------------------------------------\n",
      "Mean Quaternion Error  |                 17.5682                 |\n",
      "------------------------------------------------------------------\n",
      "\n",
      "------------------------------------------------------------------\n",
      "3-Axis Rotation        | Roll        | Pitch       | Yaw         |\n",
      "------------------------------------------------------------------\n",
      "Mean Errors            | 11.8585     | 3.7846      | 10.3396     |\n",
      "------------------------------------------------------------------\n",
      "\n",
      "Object Class Evaluation:\n",
      "---------------------------------------------------------\n",
      "                  precision    recall  f1-score   support\n",
      "\n",
      "            bowl       1.00      0.79      0.88        24\n",
      "        coke_can       0.97      1.00      0.98        32\n",
      "           peach       0.94      0.97      0.96        33\n",
      "     plastic_cup       0.90      1.00      0.95        28\n",
      "           reset       1.00      1.00      1.00        16\n",
      "samsung_j8_black       1.00      1.00      1.00        30\n",
      "      strawberry       1.00      1.00      1.00        29\n",
      "\n",
      "        accuracy                           0.97       192\n",
      "       macro avg       0.97      0.97      0.97       192\n",
      "    weighted avg       0.97      0.97      0.97       192\n",
      "\n",
      "---------------------------------------------------------\n",
      "\n"
     ]
    }
   ],
   "source": [
    "results, truths, raw, index = eval_model(model=model, tokenizer=processor, system_message=system_message, eval_dataset=data, batch_size=3, return_raw=True)"
   ]
  }
 ],
 "metadata": {
  "kernelspec": {
   "display_name": "base",
   "language": "python",
   "name": "python3"
  },
  "language_info": {
   "codemirror_mode": {
    "name": "ipython",
    "version": 3
   },
   "file_extension": ".py",
   "mimetype": "text/x-python",
   "name": "python",
   "nbconvert_exporter": "python",
   "pygments_lexer": "ipython3",
   "version": "3.12.4"
  }
 },
 "nbformat": 4,
 "nbformat_minor": 2
}
