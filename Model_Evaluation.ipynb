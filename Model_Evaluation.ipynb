{
 "cells": [
  {
   "cell_type": "code",
   "execution_count": 1,
   "metadata": {},
   "outputs": [
    {
     "name": "stdout",
     "output_type": "stream",
     "text": [
      "🦥 Unsloth: Will patch your computer to enable 2x faster free finetuning.\n"
     ]
    },
    {
     "name": "stderr",
     "output_type": "stream",
     "text": [
      "c:\\ProgramData\\anaconda3\\Lib\\site-packages\\unsloth_zoo\\peft_utils.py:222: SyntaxWarning: invalid escape sequence '\\.'\n",
      "  name = re.sub(\"\\.([\\d]{1,})\\.\", r\"[\\1].\", name)\n"
     ]
    },
    {
     "name": "stdout",
     "output_type": "stream",
     "text": [
      "🦥 Unsloth Zoo will now patch everything to make training faster!\n"
     ]
    }
   ],
   "source": [
    "import pandas as pd\n",
    "from model.evaluation import eval_model\n",
    "from model.qwenvl.loader import load_model"
   ]
  },
  {
   "cell_type": "code",
   "execution_count": 2,
   "metadata": {},
   "outputs": [
    {
     "data": {
      "application/vnd.microsoft.datawrangler.viewer.v0+json": {
       "columns": [
        {
         "name": "index",
         "rawType": "int64",
         "type": "integer"
        },
        {
         "name": "images",
         "rawType": "object",
         "type": "string"
        },
        {
         "name": "prompt",
         "rawType": "object",
         "type": "string"
        },
        {
         "name": "output",
         "rawType": "object",
         "type": "string"
        },
        {
         "name": "name",
         "rawType": "object",
         "type": "string"
        },
        {
         "name": "object",
         "rawType": "object",
         "type": "string"
        }
       ],
       "conversionMethod": "pd.DataFrame",
       "ref": "f0924e71-1885-4f46-a886-59ee60da5d9c",
       "rows": [
        [
         "0",
         "Robot_Arm_Data/bright_default_cam/image_20250325_082143_1.png",
         "A drink with some fizz would really hit the spot.",
         "<obj>coke_can</obj> <pose>0.635,-0.1,0.72</pose> <orient>0.37508,0.92699,-0.00045,0.00284</orient>",
         "bright_default_cam",
         "<obj>coke_can</obj>"
        ],
        [
         "1",
         "Robot_Arm_Data/dark_offset6_cafe1_cafetable/image_20250331_150318_2.png",
         "Where can I pour my juice?",
         "<obj>plastic_cup</obj> <pose>0.71,-1.185,0.548</pose> <orient>0.35478,0.71881,0.30505,0.5141</orient>",
         "dark_offset6_cafe1_cafetable",
         "<obj>plastic_cup</obj>"
        ],
        [
         "2",
         "Robot_Arm_Data/dark_offset13_field_marbletable/image_20250401_104450_0.png",
         "A few strawberries would make this snack perfect.",
         "<obj>strawberry</obj> <pose>0.655,-0.765,0.58</pose> <orient>0.37508,0.92699,-0.00045,0.00284</orient>",
         "dark_offset13_field_marbletable",
         "<obj>strawberry</obj>"
        ],
        [
         "3",
         "Robot_Arm_Data/bright_offset14_cafe2_marbletable/image_20250401_111530_2.png",
         "This ramen needs a bowl so I can eat it properly.",
         "<obj>bowl</obj> <pose>0.385,-0.02,0.58</pose> <orient>0.4468,0.8508,0.2185,0.147</orient>",
         "bright_offset14_cafe2_marbletable",
         "<obj>bowl</obj>"
        ],
        [
         "4",
         "Robot_Arm_Data/bright_offset16_cafe1_marbletable/image_20250401_132933_1.png",
         "A screen with access to everything I need would be perfect.",
         "<obj>samsung_j8_black</obj> <pose>0.635,0.065,0.58</pose> <orient>0.37508,0.92699,-0.00045,0.00284</orient>",
         "bright_offset16_cafe1_marbletable",
         "<obj>samsung_j8_black</obj>"
        ],
        [
         "5",
         "Robot_Arm_Data/bright_default_cam/image_20250324_151953_2.png",
         "A piece of fruit sounds like a good idea.",
         "<obj>peach</obj> <pose>0.605,-1.24,0.63</pose> <orient>0.4468,0.8508,0.2185,0.147</orient>",
         "bright_default_cam",
         "<obj>peach</obj>"
        ],
        [
         "6",
         "Robot_Arm_Data/dark_offset17_cafe1_marbletable/image_20250401_135618_1.png",
         "Please restore your default posture.",
         "<obj>reset</obj> <pose>0.32,-0.65897,1.5002</pose> <orient>0.70711,0.0006,0.00068,0.70711</orient>",
         "dark_offset17_cafe1_marbletable",
         "<obj>reset</obj>"
        ],
        [
         "7",
         "Robot_Arm_Data/bright_offset18_mud_marbletable/image_20250401_142140_1.png",
         "Can you reposition yourself to where you began?",
         "<obj>reset</obj> <pose>0.32,-0.65897,1.5002</pose> <orient>0.70711,0.0006,0.00068,0.70711</orient>",
         "bright_offset18_mud_marbletable",
         "<obj>reset</obj>"
        ],
        [
         "8",
         "Robot_Arm_Data/bright_offset5_cafe1_cafetable/image_20250331_141654_1.png",
         "Return to the base location.",
         "<obj>reset</obj> <pose>0.32,-0.65897,1.5002</pose> <orient>0.70711,0.0006,0.00068,0.70711</orient>",
         "bright_offset5_cafe1_cafetable",
         "<obj>reset</obj>"
        ],
        [
         "9",
         "Robot_Arm_Data/bright_offset14_cafe2_marbletable/image_20250401_112307_0.png",
         "I’m looking for something juicy and bite-sized.",
         "<obj>strawberry</obj> <pose>0.835,-1.19,0.58</pose> <orient>0.37508,0.92699,-0.00045,0.00284</orient>",
         "bright_offset14_cafe2_marbletable",
         "<obj>strawberry</obj>"
        ],
        [
         "10",
         "Robot_Arm_Data/bright_offset16_cafe1_marbletable/image_20250401_131530_0.png",
         "A piece of fruit with a firm outside and juicy inside sounds great.",
         "<obj>peach</obj> <pose>0.49,-1.12,0.63</pose> <orient>0.4468,0.8508,0.2185,0.147</orient>",
         "bright_offset16_cafe1_marbletable",
         "<obj>peach</obj>"
        ],
        [
         "11",
         "Robot_Arm_Data/dark_offset15_cafe2_marbletable/image_20250401_120151_0.png",
         "I should find a fruit that grows in small clusters and has a fresh aroma.",
         "<obj>strawberry</obj> <pose>0.945,-1.04,0.58</pose> <orient>0.37508,0.92699,-0.00045,0.00284</orient>",
         "dark_offset15_cafe2_marbletable",
         "<obj>strawberry</obj>"
        ],
        [
         "12",
         "Robot_Arm_Data/bright_offset1/image_20250325_225553_0.png",
         "Something in a bottle with bubbles would be nice.",
         "<obj>coke_can</obj> <pose>0.515,-1.09,0.72</pose> <orient>0.37508,0.92699,-0.00045,0.00284</orient>",
         "bright_offset1",
         "<obj>coke_can</obj>"
        ],
        [
         "13",
         "Robot_Arm_Data/bright_offset12_field_marbletable/image_20250401_100222_0.png",
         "Where is the fresh fruit?",
         "<obj>peach</obj> <pose>0.71,-0.55,0.63</pose> <orient>0.4468,0.8508,0.2185,0.147</orient>",
         "bright_offset12_field_marbletable",
         "<obj>peach</obj>"
        ],
        [
         "14",
         "Robot_Arm_Data/bright_offset14_cafe2_marbletable/image_20250401_111955_0.png",
         "This meal would be easier to eat with something to hold it.",
         "<obj>bowl</obj> <pose>0.565,-0.845,0.58</pose> <orient>0.4468,0.8508,0.2185,0.147</orient>",
         "bright_offset14_cafe2_marbletable",
         "<obj>bowl</obj>"
        ],
        [
         "15",
         "Robot_Arm_Data/bright_default_cam/image_20250324_164837_0.png",
         "I should check the notifications I just heard.",
         "<obj>samsung_j8_black</obj> <pose>0.76,-1.035,0.58</pose> <orient>0.37508,0.92699,-0.00045,0.00284</orient>",
         "bright_default_cam",
         "<obj>samsung_j8_black</obj>"
        ],
        [
         "16",
         "Robot_Arm_Data/bright_offset7_mud_cafetable/image_20250331_152035_2.png",
         "A carbonated drink sounds like a good idea.",
         "<obj>coke_can</obj> <pose>0.805,-1.02,0.72</pose> <orient>0.37508,0.92699,-0.00045,0.00284</orient>",
         "bright_offset7_mud_cafetable",
         "<obj>coke_can</obj>"
        ],
        [
         "17",
         "Robot_Arm_Data/dark_offset9_cafe2_cafetable/image_20250401_083342_2.png",
         "A carbonated drink sounds like a good idea.",
         "<obj>coke_can</obj> <pose>0.78,-0.415,0.72</pose> <orient>0.37508,0.92699,-0.00045,0.00284</orient>",
         "dark_offset9_cafe2_cafetable",
         "<obj>coke_can</obj>"
        ],
        [
         "18",
         "Robot_Arm_Data/bright_offset5_cafe1_cafetable/image_20250331_141617_1.png",
         "Where can I pour my juice?",
         "<obj>plastic_cup</obj> <pose>0.71,-1.185,0.548</pose> <orient>0.35478,0.71881,0.30505,0.5141</orient>",
         "bright_offset5_cafe1_cafetable",
         "<obj>plastic_cup</obj>"
        ],
        [
         "19",
         "Robot_Arm_Data/bright_offset5_cafe1_cafetable/image_20250331_141303_0.png",
         "A drink with some fizz would really hit the spot.",
         "<obj>coke_can</obj> <pose>0.675,-0.88,0.72</pose> <orient>0.37508,0.92699,-0.00045,0.00284</orient>",
         "bright_offset5_cafe1_cafetable",
         "<obj>coke_can</obj>"
        ],
        [
         "20",
         "Robot_Arm_Data/bright_default_cam/image_20250324_154056_0.png",
         "I should check the notifications I just heard.",
         "<obj>samsung_j8_black</obj> <pose>0.59,-1.12,0.58</pose> <orient>0.37508,0.92699,-0.00045,0.00284</orient>",
         "bright_default_cam",
         "<obj>samsung_j8_black</obj>"
        ],
        [
         "21",
         "Robot_Arm_Data/bright_offset14_cafe2_marbletable/image_20250401_112355_2.png",
         "I need to respond to an email.",
         "<obj>samsung_j8_black</obj> <pose>0.675,-0.805,0.58</pose> <orient>0.37508,0.92699,-0.00045,0.00284</orient>",
         "bright_offset14_cafe2_marbletable",
         "<obj>samsung_j8_black</obj>"
        ],
        [
         "22",
         "Robot_Arm_Data/dark_offset11_field_cafetable/image_20250401_094022_2.png",
         "I want to serve my salad properly instead of just piling it up.",
         "<obj>bowl</obj> <pose>0.57,-0.94,0.58</pose> <orient>0.4468,0.8508,0.2185,0.147</orient>",
         "dark_offset11_field_cafetable",
         "<obj>bowl</obj>"
        ],
        [
         "23",
         "Robot_Arm_Data/bright_offset8_cafe2_cafetable/image_20250331_164511_0.png",
         "Is there something disposable I can use for this?",
         "<obj>plastic_cup</obj> <pose>0.635,-1.07,0.548</pose> <orient>0.35478,0.71881,0.30505,0.5141</orient>",
         "bright_offset8_cafe2_cafetable",
         "<obj>plastic_cup</obj>"
        ],
        [
         "24",
         "Robot_Arm_Data/bright_offset12_field_marbletable/image_20250401_100355_1.png",
         "Let me look up the directions for where I'm going.",
         "<obj>samsung_j8_black</obj> <pose>0.545,-0.235,0.58</pose> <orient>0.37508,0.92699,-0.00045,0.00284</orient>",
         "bright_offset12_field_marbletable",
         "<obj>samsung_j8_black</obj>"
        ],
        [
         "25",
         "Robot_Arm_Data/bright_offset3_mud/image_20250326_104831_1.png",
         "I wonder if anyone has texted me back yet.",
         "<obj>samsung_j8_black</obj> <pose>0.81,-0.87,0.58</pose> <orient>0.37508,0.92699,-0.00045,0.00284</orient>",
         "bright_offset3_mud",
         "<obj>samsung_j8_black</obj>"
        ],
        [
         "26",
         "Robot_Arm_Data/bright_offset18_mud_marbletable/image_20250401_140832_0.png",
         "I should add some strawberries to this dessert.",
         "<obj>strawberry</obj> <pose>0.545,-0.145,0.58</pose> <orient>0.37508,0.92699,-0.00045,0.00284</orient>",
         "bright_offset18_mud_marbletable",
         "<obj>strawberry</obj>"
        ],
        [
         "27",
         "Robot_Arm_Data/bright_offset8_cafe2_cafetable/image_20250331_163008_2.png",
         "I should grab a bottle of something with a recognizable taste.",
         "<obj>coke_can</obj> <pose>0.67,-0.53,0.72</pose> <orient>0.37508,0.92699,-0.00045,0.00284</orient>",
         "bright_offset8_cafe2_cafetable",
         "<obj>coke_can</obj>"
        ],
        [
         "28",
         "Robot_Arm_Data/dark_offset2/image_20250325_162648_2.png",
         "I need a cold refreshment.",
         "<obj>coke_can</obj> <pose>0.685,-0.18,0.72</pose> <orient>0.37508,0.92699,-0.00045,0.00284</orient>",
         "dark_offset2",
         "<obj>coke_can</obj>"
        ],
        [
         "29",
         "Robot_Arm_Data/dark_offset17_cafe1_marbletable/image_20250401_134605_1.png",
         "Where’s something I can grab for a light snack?",
         "<obj>peach</obj> <pose>0.505,-0.04,0.63</pose> <orient>0.4468,0.8508,0.2185,0.147</orient>",
         "dark_offset17_cafe1_marbletable",
         "<obj>peach</obj>"
        ],
        [
         "30",
         "Robot_Arm_Data/dark_offset13_field_marbletable/image_20250401_104212_0.png",
         "I should find something I can reuse to reduce waste.",
         "<obj>plastic_cup</obj> <pose>0.705,-0.41,0.548</pose> <orient>0.35478,0.71881,0.30505,0.5141</orient>",
         "dark_offset13_field_marbletable",
         "<obj>plastic_cup</obj>"
        ],
        [
         "31",
         "Robot_Arm_Data/bright_default_cam/image_20250324_145844_2.png",
         "I’m looking for something juicy and bite-sized.",
         "<obj>strawberry</obj> <pose>0.655,-0.685,0.58</pose> <orient>0.37508,0.92699,-0.00045,0.00284</orient>",
         "bright_default_cam",
         "<obj>strawberry</obj>"
        ],
        [
         "32",
         "Robot_Arm_Data/bright_offset18_mud_marbletable/image_20250401_141150_1.png",
         "This meal would taste better with a peach on the side.",
         "<obj>peach</obj> <pose>0.81,-0.285,0.63</pose> <orient>0.4468,0.8508,0.2185,0.147</orient>",
         "bright_offset18_mud_marbletable",
         "<obj>peach</obj>"
        ],
        [
         "33",
         "Robot_Arm_Data/bright_offset12_field_marbletable/image_20250401_100130_2.png",
         "I want to grab a canned soda.",
         "<obj>coke_can</obj> <pose>0.725,-0.55,0.72</pose> <orient>0.37508,0.92699,-0.00045,0.00284</orient>",
         "bright_offset12_field_marbletable",
         "<obj>coke_can</obj>"
        ],
        [
         "34",
         "Robot_Arm_Data/bright_default_cam/image_20250325_082106_1.png",
         "I need to check my notifications.",
         "<obj>samsung_j8_black</obj> <pose>0.525,-0.09,0.58</pose> <orient>0.37508,0.92699,-0.00045,0.00284</orient>",
         "bright_default_cam",
         "<obj>samsung_j8_black</obj>"
        ],
        [
         "35",
         "Robot_Arm_Data/bright_offset8_cafe2_cafetable/image_20250331_163200_1.png",
         "I’m looking for something juicy and bite-sized.",
         "<obj>strawberry</obj> <pose>0.75,-1.25,0.58</pose> <orient>0.37508,0.92699,-0.00045,0.00284</orient>",
         "bright_offset8_cafe2_cafetable",
         "<obj>strawberry</obj>"
        ],
        [
         "36",
         "Robot_Arm_Data/dark_offset2/image_20250325_162243_1.png",
         "There’s something I need to search up quickly.",
         "<obj>samsung_j8_black</obj> <pose>0.59,-1.255,0.58</pose> <orient>0.37508,0.92699,-0.00045,0.00284</orient>",
         "dark_offset2",
         "<obj>samsung_j8_black</obj>"
        ],
        [
         "37",
         "Robot_Arm_Data/bright_default_cam/image_20250325_083217_1.png",
         "A handful of something sweet would be refreshing.",
         "<obj>strawberry</obj> <pose>0.83,-1.215,0.58</pose> <orient>0.37508,0.92699,-0.00045,0.00284</orient>",
         "bright_default_cam",
         "<obj>strawberry</obj>"
        ],
        [
         "38",
         "Robot_Arm_Data/dark_offset17_cafe1_marbletable/image_20250401_134025_2.png",
         "I need to take a picture.",
         "<obj>samsung_j8_black</obj> <pose>0.79,-0.815,0.58</pose> <orient>0.37508,0.92699,-0.00045,0.00284</orient>",
         "dark_offset17_cafe1_marbletable",
         "<obj>samsung_j8_black</obj>"
        ],
        [
         "39",
         "Robot_Arm_Data/dark_offset17_cafe1_marbletable/image_20250401_135528_0.png",
         "A smartphone would help me look up directions.",
         "<obj>samsung_j8_black</obj> <pose>0.69,-0.3,0.58</pose> <orient>0.37508,0.92699,-0.00045,0.00284</orient>",
         "dark_offset17_cafe1_marbletable",
         "<obj>samsung_j8_black</obj>"
        ],
        [
         "40",
         "Robot_Arm_Data/dark_offset6_cafe1_cafetable/image_20250331_150808_1.png",
         "I'm thirsty for some sweet drinks.",
         "<obj>coke_can</obj> <pose>0.77,-0.57,0.72</pose> <orient>0.37508,0.92699,-0.00045,0.00284</orient>",
         "dark_offset6_cafe1_cafetable",
         "<obj>coke_can</obj>"
        ],
        [
         "41",
         "Robot_Arm_Data/bright_offset8_cafe2_cafetable/image_20250331_164834_1.png",
         "A fruit with a pit in the middle would be a nice snack.",
         "<obj>peach</obj> <pose>0.46,-1.225,0.63</pose> <orient>0.4468,0.8508,0.2185,0.147</orient>",
         "bright_offset8_cafe2_cafetable",
         "<obj>peach</obj>"
        ],
        [
         "42",
         "Robot_Arm_Data/dark_offset13_field_marbletable/image_20250401_105322_1.png",
         "I need to serve this dish properly.",
         "<obj>bowl</obj> <pose>0.44,-0.325,0.58</pose> <orient>0.4468,0.8508,0.2185,0.147</orient>",
         "dark_offset13_field_marbletable",
         "<obj>bowl</obj>"
        ],
        [
         "43",
         "Robot_Arm_Data/bright_offset5_cafe1_cafetable/image_20250331_142012_1.png",
         "I want to put some soup in something.",
         "<obj>bowl</obj> <pose>0.815,-0.925,0.58</pose> <orient>0.4468,0.8508,0.2185,0.147</orient>",
         "bright_offset5_cafe1_cafetable",
         "<obj>bowl</obj>"
        ],
        [
         "44",
         "Robot_Arm_Data/bright_default_cam/image_20250325_083217_2.png",
         "I should add some strawberries to this dessert.",
         "<obj>strawberry</obj> <pose>0.83,-1.215,0.58</pose> <orient>0.37508,0.92699,-0.00045,0.00284</orient>",
         "bright_default_cam",
         "<obj>strawberry</obj>"
        ],
        [
         "45",
         "Robot_Arm_Data/dark_offset9_cafe2_cafetable/image_20250401_082929_2.png",
         "I need to check my email before I forget.",
         "<obj>samsung_j8_black</obj> <pose>0.875,-0.8,0.58</pose> <orient>0.37508,0.92699,-0.00045,0.00284</orient>",
         "dark_offset9_cafe2_cafetable",
         "<obj>samsung_j8_black</obj>"
        ],
        [
         "46",
         "Robot_Arm_Data/bright_default_cam/image_20250324_150749_0.png",
         "I want to put some soup in something.",
         "<obj>bowl</obj> <pose>0.48,-0.26,0.58</pose> <orient>0.4468,0.8508,0.2185,0.147</orient>",
         "bright_default_cam",
         "<obj>bowl</obj>"
        ],
        [
         "47",
         "Robot_Arm_Data/bright_default_cam/image_20250325_083538_0.png",
         "I want something slightly tangy but sweet.",
         "<obj>strawberry</obj> <pose>0.615,-1.085,0.58</pose> <orient>0.37508,0.92699,-0.00045,0.00284</orient>",
         "bright_default_cam",
         "<obj>strawberry</obj>"
        ],
        [
         "48",
         "Robot_Arm_Data/bright_default_cam/image_20250325_084355_1.png",
         "I need to separate this portion from the rest.",
         "<obj>bowl</obj> <pose>0.655,-0.55,0.58</pose> <orient>0.4468,0.8508,0.2185,0.147</orient>",
         "bright_default_cam",
         "<obj>bowl</obj>"
        ],
        [
         "49",
         "Robot_Arm_Data/bright_offset14_cafe2_marbletable/image_20250401_112031_0.png",
         "I need something that pairs well with cream or chocolate.",
         "<obj>strawberry</obj> <pose>0.86,-1.055,0.58</pose> <orient>0.37508,0.92699,-0.00045,0.00284</orient>",
         "bright_offset14_cafe2_marbletable",
         "<obj>strawberry</obj>"
        ]
       ],
       "shape": {
        "columns": 5,
        "rows": 392
       }
      },
      "text/html": [
       "<div>\n",
       "<style scoped>\n",
       "    .dataframe tbody tr th:only-of-type {\n",
       "        vertical-align: middle;\n",
       "    }\n",
       "\n",
       "    .dataframe tbody tr th {\n",
       "        vertical-align: top;\n",
       "    }\n",
       "\n",
       "    .dataframe thead th {\n",
       "        text-align: right;\n",
       "    }\n",
       "</style>\n",
       "<table border=\"1\" class=\"dataframe\">\n",
       "  <thead>\n",
       "    <tr style=\"text-align: right;\">\n",
       "      <th></th>\n",
       "      <th>images</th>\n",
       "      <th>prompt</th>\n",
       "      <th>output</th>\n",
       "      <th>name</th>\n",
       "      <th>object</th>\n",
       "    </tr>\n",
       "  </thead>\n",
       "  <tbody>\n",
       "    <tr>\n",
       "      <th>0</th>\n",
       "      <td>Robot_Arm_Data/bright_default_cam/image_202503...</td>\n",
       "      <td>A drink with some fizz would really hit the spot.</td>\n",
       "      <td>&lt;obj&gt;coke_can&lt;/obj&gt; &lt;pose&gt;0.635,-0.1,0.72&lt;/pos...</td>\n",
       "      <td>bright_default_cam</td>\n",
       "      <td>&lt;obj&gt;coke_can&lt;/obj&gt;</td>\n",
       "    </tr>\n",
       "    <tr>\n",
       "      <th>1</th>\n",
       "      <td>Robot_Arm_Data/dark_offset6_cafe1_cafetable/im...</td>\n",
       "      <td>Where can I pour my juice?</td>\n",
       "      <td>&lt;obj&gt;plastic_cup&lt;/obj&gt; &lt;pose&gt;0.71,-1.185,0.548...</td>\n",
       "      <td>dark_offset6_cafe1_cafetable</td>\n",
       "      <td>&lt;obj&gt;plastic_cup&lt;/obj&gt;</td>\n",
       "    </tr>\n",
       "    <tr>\n",
       "      <th>2</th>\n",
       "      <td>Robot_Arm_Data/dark_offset13_field_marbletable...</td>\n",
       "      <td>A few strawberries would make this snack perfect.</td>\n",
       "      <td>&lt;obj&gt;strawberry&lt;/obj&gt; &lt;pose&gt;0.655,-0.765,0.58&lt;...</td>\n",
       "      <td>dark_offset13_field_marbletable</td>\n",
       "      <td>&lt;obj&gt;strawberry&lt;/obj&gt;</td>\n",
       "    </tr>\n",
       "    <tr>\n",
       "      <th>3</th>\n",
       "      <td>Robot_Arm_Data/bright_offset14_cafe2_marbletab...</td>\n",
       "      <td>This ramen needs a bowl so I can eat it properly.</td>\n",
       "      <td>&lt;obj&gt;bowl&lt;/obj&gt; &lt;pose&gt;0.385,-0.02,0.58&lt;/pose&gt; ...</td>\n",
       "      <td>bright_offset14_cafe2_marbletable</td>\n",
       "      <td>&lt;obj&gt;bowl&lt;/obj&gt;</td>\n",
       "    </tr>\n",
       "    <tr>\n",
       "      <th>4</th>\n",
       "      <td>Robot_Arm_Data/bright_offset16_cafe1_marbletab...</td>\n",
       "      <td>A screen with access to everything I need woul...</td>\n",
       "      <td>&lt;obj&gt;samsung_j8_black&lt;/obj&gt; &lt;pose&gt;0.635,0.065,...</td>\n",
       "      <td>bright_offset16_cafe1_marbletable</td>\n",
       "      <td>&lt;obj&gt;samsung_j8_black&lt;/obj&gt;</td>\n",
       "    </tr>\n",
       "    <tr>\n",
       "      <th>...</th>\n",
       "      <td>...</td>\n",
       "      <td>...</td>\n",
       "      <td>...</td>\n",
       "      <td>...</td>\n",
       "      <td>...</td>\n",
       "    </tr>\n",
       "    <tr>\n",
       "      <th>387</th>\n",
       "      <td>Robot_Arm_Data/bright_default_cam/image_202503...</td>\n",
       "      <td>I want something sweet and juicy to eat.</td>\n",
       "      <td>&lt;obj&gt;peach&lt;/obj&gt; &lt;pose&gt;0.95,-0.71,0.63&lt;/pose&gt; ...</td>\n",
       "      <td>bright_default_cam</td>\n",
       "      <td>&lt;obj&gt;peach&lt;/obj&gt;</td>\n",
       "    </tr>\n",
       "    <tr>\n",
       "      <th>388</th>\n",
       "      <td>Robot_Arm_Data/bright_default_cam/image_202503...</td>\n",
       "      <td>I'm craving a soft fruit.</td>\n",
       "      <td>&lt;obj&gt;peach&lt;/obj&gt; &lt;pose&gt;0.77,-0.275,0.63&lt;/pose&gt;...</td>\n",
       "      <td>bright_default_cam</td>\n",
       "      <td>&lt;obj&gt;peach&lt;/obj&gt;</td>\n",
       "    </tr>\n",
       "    <tr>\n",
       "      <th>389</th>\n",
       "      <td>Robot_Arm_Data/dark_offset15_cafe2_marbletable...</td>\n",
       "      <td>Something cold and fizzy would go well with my...</td>\n",
       "      <td>&lt;obj&gt;coke_can&lt;/obj&gt; &lt;pose&gt;0.825,-0.3,0.72&lt;/pos...</td>\n",
       "      <td>dark_offset15_cafe2_marbletable</td>\n",
       "      <td>&lt;obj&gt;coke_can&lt;/obj&gt;</td>\n",
       "    </tr>\n",
       "    <tr>\n",
       "      <th>390</th>\n",
       "      <td>Robot_Arm_Data/bright_default_cam/image_202503...</td>\n",
       "      <td>I should grab something that can hold both col...</td>\n",
       "      <td>&lt;obj&gt;plastic_cup&lt;/obj&gt; &lt;pose&gt;0.67,-0.705,0.548...</td>\n",
       "      <td>bright_default_cam</td>\n",
       "      <td>&lt;obj&gt;plastic_cup&lt;/obj&gt;</td>\n",
       "    </tr>\n",
       "    <tr>\n",
       "      <th>391</th>\n",
       "      <td>Robot_Arm_Data/dark_offset4_mud/image_20250326...</td>\n",
       "      <td>I should find something I can reuse to reduce ...</td>\n",
       "      <td>&lt;obj&gt;plastic_cup&lt;/obj&gt; &lt;pose&gt;0.615,-1.195,0.54...</td>\n",
       "      <td>dark_offset4_mud</td>\n",
       "      <td>&lt;obj&gt;plastic_cup&lt;/obj&gt;</td>\n",
       "    </tr>\n",
       "  </tbody>\n",
       "</table>\n",
       "<p>392 rows × 5 columns</p>\n",
       "</div>"
      ],
      "text/plain": [
       "                                                images  \\\n",
       "0    Robot_Arm_Data/bright_default_cam/image_202503...   \n",
       "1    Robot_Arm_Data/dark_offset6_cafe1_cafetable/im...   \n",
       "2    Robot_Arm_Data/dark_offset13_field_marbletable...   \n",
       "3    Robot_Arm_Data/bright_offset14_cafe2_marbletab...   \n",
       "4    Robot_Arm_Data/bright_offset16_cafe1_marbletab...   \n",
       "..                                                 ...   \n",
       "387  Robot_Arm_Data/bright_default_cam/image_202503...   \n",
       "388  Robot_Arm_Data/bright_default_cam/image_202503...   \n",
       "389  Robot_Arm_Data/dark_offset15_cafe2_marbletable...   \n",
       "390  Robot_Arm_Data/bright_default_cam/image_202503...   \n",
       "391  Robot_Arm_Data/dark_offset4_mud/image_20250326...   \n",
       "\n",
       "                                                prompt  \\\n",
       "0    A drink with some fizz would really hit the spot.   \n",
       "1                           Where can I pour my juice?   \n",
       "2    A few strawberries would make this snack perfect.   \n",
       "3    This ramen needs a bowl so I can eat it properly.   \n",
       "4    A screen with access to everything I need woul...   \n",
       "..                                                 ...   \n",
       "387           I want something sweet and juicy to eat.   \n",
       "388                          I'm craving a soft fruit.   \n",
       "389  Something cold and fizzy would go well with my...   \n",
       "390  I should grab something that can hold both col...   \n",
       "391  I should find something I can reuse to reduce ...   \n",
       "\n",
       "                                                output  \\\n",
       "0    <obj>coke_can</obj> <pose>0.635,-0.1,0.72</pos...   \n",
       "1    <obj>plastic_cup</obj> <pose>0.71,-1.185,0.548...   \n",
       "2    <obj>strawberry</obj> <pose>0.655,-0.765,0.58<...   \n",
       "3    <obj>bowl</obj> <pose>0.385,-0.02,0.58</pose> ...   \n",
       "4    <obj>samsung_j8_black</obj> <pose>0.635,0.065,...   \n",
       "..                                                 ...   \n",
       "387  <obj>peach</obj> <pose>0.95,-0.71,0.63</pose> ...   \n",
       "388  <obj>peach</obj> <pose>0.77,-0.275,0.63</pose>...   \n",
       "389  <obj>coke_can</obj> <pose>0.825,-0.3,0.72</pos...   \n",
       "390  <obj>plastic_cup</obj> <pose>0.67,-0.705,0.548...   \n",
       "391  <obj>plastic_cup</obj> <pose>0.615,-1.195,0.54...   \n",
       "\n",
       "                                  name                       object  \n",
       "0                   bright_default_cam          <obj>coke_can</obj>  \n",
       "1         dark_offset6_cafe1_cafetable       <obj>plastic_cup</obj>  \n",
       "2      dark_offset13_field_marbletable        <obj>strawberry</obj>  \n",
       "3    bright_offset14_cafe2_marbletable              <obj>bowl</obj>  \n",
       "4    bright_offset16_cafe1_marbletable  <obj>samsung_j8_black</obj>  \n",
       "..                                 ...                          ...  \n",
       "387                 bright_default_cam             <obj>peach</obj>  \n",
       "388                 bright_default_cam             <obj>peach</obj>  \n",
       "389    dark_offset15_cafe2_marbletable          <obj>coke_can</obj>  \n",
       "390                 bright_default_cam       <obj>plastic_cup</obj>  \n",
       "391                   dark_offset4_mud       <obj>plastic_cup</obj>  \n",
       "\n",
       "[392 rows x 5 columns]"
      ]
     },
     "execution_count": 2,
     "metadata": {},
     "output_type": "execute_result"
    }
   ],
   "source": [
    "data = pd.read_json('Robot_Arm_Data/test.json')\n",
    "data"
   ]
  },
  {
   "cell_type": "code",
   "execution_count": 3,
   "metadata": {},
   "outputs": [],
   "source": [
    "# data[['pose', 'orient', 'object']] = data['output'].apply(\n",
    "#     lambda x: pd.Series(extract_position_and_orientation(x, format=2)))\n",
    "# # data['pose'] = data['pose'].apply(lambda x: str(x).replace('[', '').replace(']', ''))\n",
    "# # data['orient'] = data['orient'].apply(lambda x: str(x).replace('[', '').replace(']', ''))\n",
    "# data"
   ]
  },
  {
   "cell_type": "code",
   "execution_count": 4,
   "metadata": {},
   "outputs": [
    {
     "name": "stdout",
     "output_type": "stream",
     "text": [
      "==((====))==  Unsloth 2025.3.1: Fast Mllama vision patching. Transformers: 4.49.0.\n",
      "   \\\\   /|    GPU: NVIDIA GeForce RTX 3060. Max memory: 12.0 GB. Platform: Windows.\n",
      "O^O/ \\_/ \\    Torch: 2.6.0+cu124. CUDA: 8.6. CUDA Toolkit: 12.4. Triton: 3.2.0\n",
      "\\        /    Bfloat16 = TRUE. FA [Xformers = 0.0.29.post3. FA2 = True]\n",
      " \"-____-\"     Free Apache license: http://github.com/unslothai/unsloth\n",
      "Unsloth: Fast downloading is enabled - ignore downloading bars which are red colored!\n"
     ]
    },
    {
     "name": "stderr",
     "output_type": "stream",
     "text": [
      "c:\\ProgramData\\anaconda3\\Lib\\site-packages\\accelerate\\utils\\modeling.py:784: UserWarning: expandable_segments not supported on this platform (Triggered internally at C:\\actions-runner\\_work\\pytorch\\pytorch\\pytorch\\c10/cuda/CUDAAllocatorConfig.h:28.)\n",
      "  _ = torch.tensor([0], device=i)\n"
     ]
    },
    {
     "data": {
      "application/vnd.jupyter.widget-view+json": {
       "model_id": "0d79b2ef7fdb4a39a8247c9b3683648c",
       "version_major": 2,
       "version_minor": 0
      },
      "text/plain": [
       "Loading checkpoint shards:   0%|          | 0/2 [00:00<?, ?it/s]"
      ]
     },
     "metadata": {},
     "output_type": "display_data"
    }
   ],
   "source": [
    "model, processor = load_model(r'checkpoints\\LlamaVision-Output\\checkpoint-441')                      "
   ]
  },
  {
   "cell_type": "code",
   "execution_count": 5,
   "metadata": {},
   "outputs": [],
   "source": [
    "# system_message = 'You are a Visual Language Model Trained to output robot arm end-effectors parameters.' \\\n",
    "# 'Base on the user requests, locate the appropriate object in the image and you must return the position and orientation to reach it in xml format.' \\\n",
    "# 'The camera position relative to the robot arm is also provide inside <camera> </camera> tag, study them to understand object positions from different view angle.'"
   ]
  },
  {
   "cell_type": "code",
   "execution_count": 5,
   "metadata": {},
   "outputs": [],
   "source": [
    "system_message = 'You are a Visual Language Model Trained to output robot arm end-effectors parameters.' \\\n",
    "'Base on the user requests, locate the appropriate object in the image and you must return the position and orientation to reach it in xml format.'"
   ]
  },
  {
   "cell_type": "markdown",
   "metadata": {},
   "source": [
    "# 2B Models"
   ]
  },
  {
   "cell_type": "markdown",
   "metadata": {},
   "source": [
    "## V2 Result"
   ]
  },
  {
   "cell_type": "code",
   "execution_count": null,
   "metadata": {},
   "outputs": [
    {
     "name": "stdout",
     "output_type": "stream",
     "text": [
      "Inferencing on dataset of 192 records with batch size of 3 per iteration:\n",
      "Progress: 100.00%        |==================================================|\n",
      "Extracting true value from the output...\n",
      "\n",
      "Object Poistion (X,Y,Z) Evaluation:\n",
      "---------------------------------------------------------------\n",
      "Euclidean           |                  0.1001                 |\n",
      "---------------------------------------------------------------\n",
      "\n",
      "---------------------------------------------------------------\n",
      "Regression          | X           | Y           | Z           |\n",
      "---------------------------------------------------------------\n",
      "R² Score            | 0.7531      | 0.8699      | 0.8290      |\n",
      "Mean Absolute Error | 0.0586      | 0.0489      | 0.0153      |\n",
      "---------------------------------------------------------------\n",
      "\n",
      "Object Orientation (X,Y,Z,W) Evaluation:\n",
      "------------------------------------------------------------------\n",
      "Mean Quaternion Error  |                 17.5682                 |\n",
      "------------------------------------------------------------------\n",
      "\n",
      "------------------------------------------------------------------\n",
      "3-Axis Rotation        | Roll        | Pitch       | Yaw         |\n",
      "------------------------------------------------------------------\n",
      "Mean Errors            | 11.8585     | 3.7846      | 10.3396     |\n",
      "------------------------------------------------------------------\n",
      "\n",
      "Object Class Evaluation:\n",
      "---------------------------------------------------------\n",
      "                  precision    recall  f1-score   support\n",
      "\n",
      "            bowl       1.00      0.79      0.88        24\n",
      "        coke_can       0.97      1.00      0.98        32\n",
      "           peach       0.94      0.97      0.96        33\n",
      "     plastic_cup       0.90      1.00      0.95        28\n",
      "           reset       1.00      1.00      1.00        16\n",
      "samsung_j8_black       1.00      1.00      1.00        30\n",
      "      strawberry       1.00      1.00      1.00        29\n",
      "\n",
      "        accuracy                           0.97       192\n",
      "       macro avg       0.97      0.97      0.97       192\n",
      "    weighted avg       0.97      0.97      0.97       192\n",
      "\n",
      "---------------------------------------------------------\n",
      "\n"
     ]
    }
   ],
   "source": [
    "results, index = eval_model(model=model, tokenizer=processor, system_message=system_message, eval_dataset=data, batch_size=3, return_raw=True)"
   ]
  },
  {
   "cell_type": "markdown",
   "metadata": {},
   "source": [
    "## V3 Result"
   ]
  },
  {
   "cell_type": "code",
   "execution_count": 6,
   "metadata": {},
   "outputs": [
    {
     "name": "stdout",
     "output_type": "stream",
     "text": [
      "Inferencing on dataset of 392 records with batch size of 3 per iteration:\n",
      "Progress: 100.00%        |==================================================|\n",
      "Extracting true value from the output...\n",
      "[INFO] 2 records are excluded from the evaluation due to inconsistent output format\n",
      "\n",
      "Object Poistion (X,Y,Z) Evaluation:\n",
      "---------------------------------------------------------------\n",
      "Euclidean           |                  0.1089                 |\n",
      "---------------------------------------------------------------\n",
      "\n",
      "---------------------------------------------------------------\n",
      "Regression          | X           | Y           | Z           |\n",
      "---------------------------------------------------------------\n",
      "R² Score            | 0.7573      | 0.8130      | 0.5394      |\n",
      "Mean Absolute Error | 0.0505      | 0.0575      | 0.0363      |\n",
      "---------------------------------------------------------------\n",
      "\n",
      "Object Orientation (X,Y,Z,W) Evaluation:\n",
      "------------------------------------------------------------------\n",
      "Mean Quaternion Error  |                 11.9194                 |\n",
      "------------------------------------------------------------------\n",
      "\n",
      "------------------------------------------------------------------\n",
      "3-Axis Rotation        | Roll        | Pitch       | Yaw         |\n",
      "------------------------------------------------------------------\n",
      "Mean Errors            | 6.8334      | 5.4204      | 6.7619      |\n",
      "------------------------------------------------------------------\n",
      "\n",
      "Object Class Evaluation:\n",
      "---------------------------------------------------------\n",
      "                  precision    recall  f1-score   support\n",
      "\n",
      "            bowl       1.00      0.80      0.89        60\n",
      "        coke_can       0.97      0.98      0.98        66\n",
      "           peach       0.85      0.97      0.91        60\n",
      "     plastic_cup       0.89      0.97      0.93        58\n",
      "           reset       0.83      1.00      0.91        29\n",
      "samsung_j8_black       1.00      0.98      0.99        57\n",
      "      strawberry       0.96      0.85      0.90        60\n",
      "\n",
      "        accuracy                           0.93       390\n",
      "       macro avg       0.93      0.94      0.93       390\n",
      "    weighted avg       0.94      0.93      0.93       390\n",
      "\n",
      "---------------------------------------------------------\n",
      "\n"
     ]
    }
   ],
   "source": [
    "results, index = eval_model(model=model, tokenizer=processor, system_message=system_message, eval_dataset=data, batch_size=3)"
   ]
  },
  {
   "cell_type": "code",
   "execution_count": 7,
   "metadata": {},
   "outputs": [],
   "source": [
    "results.to_csv('V3_result.csv', index=False)"
   ]
  },
  {
   "cell_type": "markdown",
   "metadata": {},
   "source": [
    "## V4 Results"
   ]
  },
  {
   "cell_type": "code",
   "execution_count": 5,
   "metadata": {},
   "outputs": [
    {
     "name": "stdout",
     "output_type": "stream",
     "text": [
      "Inferencing on dataset of 392 records with batch size of 3 per iteration:\n",
      "Progress: 100.00%        |==================================================|\n",
      "Extracting true value from the output...\n",
      "[INFO] 2 records are excluded from the evaluation due to inconsistent output format\n",
      "\n",
      "Object Poistion (X,Y,Z) Evaluation:\n",
      "---------------------------------------------------------------\n",
      "Euclidean           |                  0.3865                 |\n",
      "---------------------------------------------------------------\n",
      "\n",
      "---------------------------------------------------------------\n",
      "Regression          | X           | Y           | Z           |\n",
      "---------------------------------------------------------------\n",
      "R² Score            | 0.1492      | -0.4058     | 1.0000      |\n",
      "Mean Absolute Error | 0.1239      | 0.3411      | 0.0000      |\n",
      "---------------------------------------------------------------\n",
      "\n",
      "Object Orientation (X,Y,Z,W) Evaluation:\n",
      "------------------------------------------------------------------\n",
      "Mean Quaternion Error  |                 2.4269                 |\n",
      "------------------------------------------------------------------\n",
      "\n",
      "------------------------------------------------------------------\n",
      "3-Axis Rotation        | Roll        | Pitch       | Yaw         |\n",
      "------------------------------------------------------------------\n",
      "Mean Errors            | 2.1462      | 0.9029      | 1.1966      |\n",
      "------------------------------------------------------------------\n",
      "\n",
      "Object Class Evaluation:\n",
      "---------------------------------------------------------\n",
      "                  precision    recall  f1-score   support\n",
      "\n",
      "            bowl       1.00      1.00      1.00        58\n",
      "        coke_can       1.00      1.00      1.00        65\n",
      "           peach       1.00      1.00      1.00        61\n",
      "     plastic_cup       1.00      1.00      1.00        57\n",
      "           reset       1.00      1.00      1.00        30\n",
      "samsung_j8_black       1.00      1.00      1.00        58\n",
      "      strawberry       1.00      1.00      1.00        61\n",
      "\n",
      "        accuracy                           1.00       390\n",
      "       macro avg       1.00      1.00      1.00       390\n",
      "    weighted avg       1.00      1.00      1.00       390\n",
      "\n",
      "---------------------------------------------------------\n",
      "\n"
     ]
    }
   ],
   "source": [
    "results, index = eval_model(model=model, tokenizer=processor, system_message=system_message, eval_dataset=data, batch_size=3)"
   ]
  },
  {
   "cell_type": "markdown",
   "metadata": {},
   "source": [
    "## V5-balanced"
   ]
  },
  {
   "cell_type": "code",
   "execution_count": 8,
   "metadata": {},
   "outputs": [
    {
     "name": "stdout",
     "output_type": "stream",
     "text": [
      "Inferencing on dataset of 392 records with batch size of 6 per iteration:\n",
      "All Images will be resized to (630, 360)\n",
      "Progress: 100.00%        |==================================================|\n",
      "Extracting true value from the output...\n",
      "[INFO] 2 records are excluded from the evaluation due to inconsistent output format\n",
      "\n",
      "Object Poistion (X,Y,Z) Evaluation:\n",
      "---------------------------------------------------------------\n",
      "Euclidean           |                  0.4206                 |\n",
      "---------------------------------------------------------------\n",
      "\n",
      "---------------------------------------------------------------\n",
      "Regression          | X           | Y           | Z           |\n",
      "---------------------------------------------------------------\n",
      "R² Score            | 0.4706      | 0.6397      | -4.4945     |\n",
      "Mean Absolute Error | 0.1018      | 0.1400      | 0.2959      |\n",
      "---------------------------------------------------------------\n",
      "\n",
      "Object Orientation (X,Y,Z,W) Evaluation:\n",
      "------------------------------------------------------------------\n",
      "Mean Quaternion Error  |                 43.8431                 |\n",
      "------------------------------------------------------------------\n",
      "\n",
      "------------------------------------------------------------------\n",
      "3-Axis Rotation        | Roll        | Pitch       | Yaw         |\n",
      "------------------------------------------------------------------\n",
      "Mean Errors            | 35.7609     | 11.6472     | 29.2342     |\n",
      "------------------------------------------------------------------\n",
      "\n",
      "Object Class Evaluation:\n",
      "---------------------------------------------------------\n",
      "                  precision    recall  f1-score   support\n",
      "\n",
      "            bowl       1.00      0.85      0.92        60\n",
      "        coke_can       0.93      1.00      0.96        65\n",
      "           peach       0.94      0.98      0.96        61\n",
      "     plastic_cup       0.93      1.00      0.97        57\n",
      "           reset       0.96      0.93      0.95        28\n",
      "samsung_j8_black       1.00      0.98      0.99        58\n",
      "      strawberry       0.98      0.97      0.98        61\n",
      "\n",
      "        accuracy                           0.96       390\n",
      "       macro avg       0.96      0.96      0.96       390\n",
      "    weighted avg       0.96      0.96      0.96       390\n",
      "\n",
      "---------------------------------------------------------\n",
      "\n"
     ]
    }
   ],
   "source": [
    "results, index = eval_model(model=model, tokenizer=processor, size=(630, 360), system_message=system_message, eval_dataset=data, batch_size=6)"
   ]
  },
  {
   "cell_type": "markdown",
   "metadata": {},
   "source": [
    "# 7B Models"
   ]
  },
  {
   "cell_type": "markdown",
   "metadata": {},
   "source": [
    "## V1 Results"
   ]
  },
  {
   "cell_type": "code",
   "execution_count": 7,
   "metadata": {},
   "outputs": [
    {
     "name": "stdout",
     "output_type": "stream",
     "text": [
      "Inferencing on dataset of 392 records with batch size of 2 per iteration:\n",
      "Progress: 100.00%        |==================================================|\n",
      "Extracting true value from the output...\n",
      "[INFO] 0 records are excluded from the evaluation due to inconsistent output format\n",
      "\n",
      "Object Poistion (X,Y,Z) Evaluation:\n",
      "---------------------------------------------------------------\n",
      "Euclidean           |                  0.0602                 |\n",
      "---------------------------------------------------------------\n",
      "\n",
      "---------------------------------------------------------------\n",
      "Regression          | X           | Y           | Z           |\n",
      "---------------------------------------------------------------\n",
      "R² Score            | 0.9281      | 0.9155      | 0.9269      |\n",
      "Mean Absolute Error | 0.0330      | 0.0359      | 0.0048      |\n",
      "---------------------------------------------------------------\n",
      "\n",
      "Object Orientation (X,Y,Z,W) Evaluation:\n",
      "------------------------------------------------------------------\n",
      "Mean Quaternion Error  |                 0.0008                 |\n",
      "------------------------------------------------------------------\n",
      "\n",
      "------------------------------------------------------------------\n",
      "3-Axis Rotation        | Roll        | Pitch       | Yaw         |\n",
      "------------------------------------------------------------------\n",
      "Mean Errors            | 0.0000      | 0.0000      | 0.0008      |\n",
      "------------------------------------------------------------------\n",
      "\n",
      "Object Class Evaluation:\n",
      "---------------------------------------------------------\n",
      "                  precision    recall  f1-score   support\n",
      "\n",
      "            bowl       1.00      1.00      1.00        60\n",
      "        coke_can       1.00      1.00      1.00        65\n",
      "           peach       1.00      0.98      0.99        61\n",
      "     plastic_cup       1.00      1.00      1.00        57\n",
      "           reset       1.00      1.00      1.00        30\n",
      "samsung_j8_black       1.00      1.00      1.00        58\n",
      "      strawberry       1.00      1.00      1.00        61\n",
      "          yogurt       0.00      0.00      0.00         0\n",
      "\n",
      "        accuracy                           1.00       392\n",
      "       macro avg       0.88      0.87      0.87       392\n",
      "    weighted avg       1.00      1.00      1.00       392\n",
      "\n",
      "---------------------------------------------------------\n",
      "\n"
     ]
    },
    {
     "name": "stderr",
     "output_type": "stream",
     "text": [
      "C:\\Users\\USER\\AppData\\Roaming\\Python\\Python312\\site-packages\\sklearn\\metrics\\_classification.py:1565: UndefinedMetricWarning: Recall is ill-defined and being set to 0.0 in labels with no true samples. Use `zero_division` parameter to control this behavior.\n",
      "  _warn_prf(average, modifier, f\"{metric.capitalize()} is\", len(result))\n",
      "C:\\Users\\USER\\AppData\\Roaming\\Python\\Python312\\site-packages\\sklearn\\metrics\\_classification.py:1565: UndefinedMetricWarning: Recall is ill-defined and being set to 0.0 in labels with no true samples. Use `zero_division` parameter to control this behavior.\n",
      "  _warn_prf(average, modifier, f\"{metric.capitalize()} is\", len(result))\n",
      "C:\\Users\\USER\\AppData\\Roaming\\Python\\Python312\\site-packages\\sklearn\\metrics\\_classification.py:1565: UndefinedMetricWarning: Recall is ill-defined and being set to 0.0 in labels with no true samples. Use `zero_division` parameter to control this behavior.\n",
      "  _warn_prf(average, modifier, f\"{metric.capitalize()} is\", len(result))\n"
     ]
    }
   ],
   "source": [
    "results, index = eval_model(model=model, tokenizer=processor, system_message=system_message, eval_dataset=data, batch_size=2)"
   ]
  },
  {
   "cell_type": "markdown",
   "metadata": {},
   "source": [
    "## V2 Results"
   ]
  },
  {
   "cell_type": "code",
   "execution_count": 6,
   "metadata": {},
   "outputs": [
    {
     "name": "stdout",
     "output_type": "stream",
     "text": [
      "Inferencing on dataset of 392 records with batch size of 2 per iteration:\n",
      "Progress: 100.00%        |==================================================|\n",
      "Extracting true value from the output...\n",
      "[INFO] 0 records are excluded from the evaluation due to inconsistent output format\n",
      "\n",
      "Object Poistion (X,Y,Z) Evaluation:\n",
      "---------------------------------------------------------------\n",
      "Euclidean           |                  0.0509                 |\n",
      "---------------------------------------------------------------\n",
      "\n",
      "---------------------------------------------------------------\n",
      "Regression          | X           | Y           | Z           |\n",
      "---------------------------------------------------------------\n",
      "R² Score            | 0.9298      | 0.9549      | 0.9988      |\n",
      "Mean Absolute Error | 0.0305      | 0.0320      | 0.0008      |\n",
      "---------------------------------------------------------------\n",
      "\n",
      "Object Orientation (X,Y,Z,W) Evaluation:\n",
      "------------------------------------------------------------------\n",
      "Mean Quaternion Error  |                 0.4588                 |\n",
      "------------------------------------------------------------------\n",
      "\n",
      "------------------------------------------------------------------\n",
      "3-Axis Rotation        | Roll        | Pitch       | Yaw         |\n",
      "------------------------------------------------------------------\n",
      "Mean Errors            | 0.4148      | 0.1066      | 0.1734      |\n",
      "------------------------------------------------------------------\n",
      "\n",
      "Object Class Evaluation:\n",
      "---------------------------------------------------------\n",
      "                  precision    recall  f1-score   support\n",
      "\n",
      "            bowl       1.00      0.97      0.98        60\n",
      "        coke_can       0.98      1.00      0.99        65\n",
      "           peach       0.97      0.98      0.98        61\n",
      "     plastic_cup       0.98      1.00      0.99        57\n",
      "           reset       1.00      1.00      1.00        30\n",
      "samsung_j8_black       1.00      1.00      1.00        58\n",
      "      strawberry       0.98      0.97      0.98        61\n",
      "\n",
      "        accuracy                           0.99       392\n",
      "       macro avg       0.99      0.99      0.99       392\n",
      "    weighted avg       0.99      0.99      0.99       392\n",
      "\n",
      "---------------------------------------------------------\n",
      "\n"
     ]
    }
   ],
   "source": [
    "results, index = eval_model(model=model, tokenizer=processor, system_message=system_message, eval_dataset=data, batch_size=2)"
   ]
  },
  {
   "cell_type": "code",
   "execution_count": 7,
   "metadata": {},
   "outputs": [
    {
     "name": "stdout",
     "output_type": "stream",
     "text": [
      "Inferencing on dataset of 392 records with batch size of 2 per iteration:\n",
      "All Images will be resized to (854, 480)\n",
      "Progress: 100.00%        |==================================================|\n",
      "Extracting true value from the output...\n",
      "[INFO] 1 records are excluded from the evaluation due to inconsistent output format\n",
      "\n",
      "Object Poistion (X,Y,Z) Evaluation:\n",
      "---------------------------------------------------------------\n",
      "Euclidean           |                  0.0525                 |\n",
      "---------------------------------------------------------------\n",
      "\n",
      "---------------------------------------------------------------\n",
      "Regression          | X           | Y           | Z           |\n",
      "---------------------------------------------------------------\n",
      "R² Score            | 0.9169      | 0.9625      | 0.9989      |\n",
      "Mean Absolute Error | 0.0330      | 0.0323      | 0.0007      |\n",
      "---------------------------------------------------------------\n",
      "\n",
      "Object Orientation (X,Y,Z,W) Evaluation:\n",
      "------------------------------------------------------------------\n",
      "Mean Quaternion Error  |                 0.3726                 |\n",
      "------------------------------------------------------------------\n",
      "\n",
      "------------------------------------------------------------------\n",
      "3-Axis Rotation        | Roll        | Pitch       | Yaw         |\n",
      "------------------------------------------------------------------\n",
      "Mean Errors            | 0.3375      | 0.0948      | 0.1437      |\n",
      "------------------------------------------------------------------\n",
      "\n",
      "Object Class Evaluation:\n",
      "---------------------------------------------------------\n",
      "                  precision    recall  f1-score   support\n",
      "\n",
      "            bowl       1.00      0.97      0.98        60\n",
      "        coke_can       0.98      1.00      0.99        65\n",
      "           peach       0.97      1.00      0.98        61\n",
      "     plastic_cup       0.98      1.00      0.99        57\n",
      "           reset       1.00      1.00      1.00        30\n",
      "samsung_j8_black       1.00      1.00      1.00        57\n",
      "      strawberry       1.00      0.97      0.98        61\n",
      "\n",
      "        accuracy                           0.99       391\n",
      "       macro avg       0.99      0.99      0.99       391\n",
      "    weighted avg       0.99      0.99      0.99       391\n",
      "\n",
      "---------------------------------------------------------\n",
      "\n"
     ]
    }
   ],
   "source": [
    "# V2 P4\n",
    "results, index = eval_model(model=model, tokenizer=processor, system_message=system_message, eval_dataset=data, batch_size=2)"
   ]
  },
  {
   "cell_type": "markdown",
   "metadata": {},
   "source": [
    "# Llava"
   ]
  },
  {
   "cell_type": "code",
   "execution_count": 8,
   "metadata": {},
   "outputs": [
    {
     "name": "stdout",
     "output_type": "stream",
     "text": [
      "Inferencing on dataset of 392 records with batch size of 3 per iteration:\n",
      "All Images will be resized to (854, 480)\n",
      "Progress: 100.00%        |==================================================|\n",
      "Extracting true value from the output...\n",
      "[INFO] 0 records are excluded from the evaluation due to inconsistent output format\n",
      "\n",
      "Object Poistion (X,Y,Z) Evaluation:\n",
      "---------------------------------------------------------------\n",
      "Euclidean           |                  0.0480                 |\n",
      "---------------------------------------------------------------\n",
      "\n",
      "---------------------------------------------------------------\n",
      "Regression          | X           | Y           | Z           |\n",
      "---------------------------------------------------------------\n",
      "R² Score            | 0.9451      | 0.9660      | 1.0000      |\n",
      "Mean Absolute Error | 0.0306      | 0.0296      | 0.0000      |\n",
      "---------------------------------------------------------------\n",
      "\n",
      "Object Orientation (X,Y,Z,W) Evaluation:\n",
      "------------------------------------------------------------------\n",
      "Mean Quaternion Error  |                 0.0000                 |\n",
      "------------------------------------------------------------------\n",
      "\n",
      "------------------------------------------------------------------\n",
      "3-Axis Rotation        | Roll        | Pitch       | Yaw         |\n",
      "------------------------------------------------------------------\n",
      "Mean Errors            | 0.0000      | 0.0000      | 0.0000      |\n",
      "------------------------------------------------------------------\n",
      "\n",
      "Object Class Evaluation:\n",
      "---------------------------------------------------------\n",
      "                  precision    recall  f1-score   support\n",
      "\n",
      "            bowl       1.00      1.00      1.00        60\n",
      "        coke_can       1.00      1.00      1.00        65\n",
      "           peach       1.00      1.00      1.00        61\n",
      "     plastic_cup       1.00      1.00      1.00        57\n",
      "           reset       1.00      1.00      1.00        30\n",
      "samsung_j8_black       1.00      1.00      1.00        58\n",
      "      strawberry       1.00      1.00      1.00        61\n",
      "\n",
      "        accuracy                           1.00       392\n",
      "       macro avg       1.00      1.00      1.00       392\n",
      "    weighted avg       1.00      1.00      1.00       392\n",
      "\n",
      "---------------------------------------------------------\n",
      "\n"
     ]
    }
   ],
   "source": [
    "results, index = eval_model(model=model, tokenizer=processor, system_message=system_message, eval_dataset=data, batch_size=3)"
   ]
  },
  {
   "cell_type": "markdown",
   "metadata": {},
   "source": [
    "# LLama Vision"
   ]
  },
  {
   "cell_type": "code",
   "execution_count": 5,
   "metadata": {},
   "outputs": [],
   "source": [
    "system_message = None"
   ]
  },
  {
   "cell_type": "code",
   "execution_count": 6,
   "metadata": {},
   "outputs": [
    {
     "name": "stdout",
     "output_type": "stream",
     "text": [
      "Inferencing on dataset of 392 records with batch size of 2 per iteration:\n",
      "All Images will be resized to (854, 480)\n",
      "Progress: 100.00%        |==================================================|\n",
      "Extracting true value from the output...\n",
      "[INFO] 181 records are excluded from the evaluation due to inconsistent output format\n",
      "\n",
      "Object Poistion (X,Y,Z) Evaluation:\n",
      "---------------------------------------------------------------\n",
      "Euclidean           |                  0.1724                 |\n",
      "---------------------------------------------------------------\n",
      "\n",
      "---------------------------------------------------------------\n",
      "Regression          | X           | Y           | Z           |\n",
      "---------------------------------------------------------------\n",
      "R² Score            | 0.7262      | 0.2990      | 0.9758      |\n",
      "Mean Absolute Error | 0.0680      | 0.1354      | 0.0093      |\n",
      "---------------------------------------------------------------\n",
      "\n",
      "Object Orientation (X,Y,Z,W) Evaluation:\n",
      "------------------------------------------------------------------\n",
      "Mean Quaternion Error  |                 5.9253                 |\n",
      "------------------------------------------------------------------\n",
      "\n",
      "------------------------------------------------------------------\n",
      "3-Axis Rotation        | Roll        | Pitch       | Yaw         |\n",
      "------------------------------------------------------------------\n",
      "Mean Errors            | 5.1233      | 1.7983      | 2.4023      |\n",
      "------------------------------------------------------------------\n",
      "\n",
      "Object Class Evaluation:\n",
      "---------------------------------------------------------\n",
      "                  precision    recall  f1-score   support\n",
      "\n",
      "            bowl       1.00      0.97      0.99        35\n",
      "        coke_can       0.95      1.00      0.97        39\n",
      "           peach       1.00      0.93      0.96        29\n",
      "     plastic_cup       1.00      0.97      0.98        33\n",
      "           reset       1.00      1.00      1.00        18\n",
      "samsung_j8_black       1.00      0.97      0.98        33\n",
      "      smartphone       0.00      0.00      0.00         0\n",
      "      strawberry       0.92      1.00      0.96        24\n",
      "\n",
      "        accuracy                           0.98       211\n",
      "       macro avg       0.86      0.86      0.86       211\n",
      "    weighted avg       0.98      0.98      0.98       211\n",
      "\n",
      "---------------------------------------------------------\n",
      "\n"
     ]
    },
    {
     "name": "stderr",
     "output_type": "stream",
     "text": [
      "C:\\Users\\USER\\AppData\\Roaming\\Python\\Python312\\site-packages\\sklearn\\metrics\\_classification.py:1565: UndefinedMetricWarning: Recall is ill-defined and being set to 0.0 in labels with no true samples. Use `zero_division` parameter to control this behavior.\n",
      "  _warn_prf(average, modifier, f\"{metric.capitalize()} is\", len(result))\n",
      "C:\\Users\\USER\\AppData\\Roaming\\Python\\Python312\\site-packages\\sklearn\\metrics\\_classification.py:1565: UndefinedMetricWarning: Recall is ill-defined and being set to 0.0 in labels with no true samples. Use `zero_division` parameter to control this behavior.\n",
      "  _warn_prf(average, modifier, f\"{metric.capitalize()} is\", len(result))\n",
      "C:\\Users\\USER\\AppData\\Roaming\\Python\\Python312\\site-packages\\sklearn\\metrics\\_classification.py:1565: UndefinedMetricWarning: Recall is ill-defined and being set to 0.0 in labels with no true samples. Use `zero_division` parameter to control this behavior.\n",
      "  _warn_prf(average, modifier, f\"{metric.capitalize()} is\", len(result))\n"
     ]
    }
   ],
   "source": [
    "results, index = eval_model(model=model, tokenizer=processor, system_message=system_message, eval_dataset=data, batch_size=2)"
   ]
  },
  {
   "cell_type": "markdown",
   "metadata": {},
   "source": [
    "# Other"
   ]
  },
  {
   "cell_type": "code",
   "execution_count": 14,
   "metadata": {},
   "outputs": [],
   "source": [
    "from model.qwenvl.utils import extract_position_and_orientation\n",
    "\n",
    "position = [extract_position_and_orientation(data['output'][i])[0] for i in range(len(data))]"
   ]
  },
  {
   "cell_type": "code",
   "execution_count": 33,
   "metadata": {},
   "outputs": [
    {
     "name": "stdout",
     "output_type": "stream",
     "text": [
      "X: ('min': 0.32, 'mean': 0.6616836734693877, 'max': 1.025, 'range': 0.7049999999999998)\n",
      "Y: ('min': -1.37, 'mean': -0.6902783163265307, 'max': 0.065, 'range': 1.435)\n",
      "Z: ('min': 0.548, 'mean': 0.676765306122449, 'max': 1.5002, 'range': 0.9521999999999999)\n"
     ]
    }
   ],
   "source": [
    "print(f\"X: ('min': {min(pose[0])}, 'mean': {np.mean(pose[0])}, 'max': {max(pose[0])}, 'range': {max(pose[0]) - min(pose[0])})\")\n",
    "print(f\"Y: ('min': {min(pose[1])}, 'mean': {np.mean(pose[1])}, 'max': {max(pose[1])}, 'range': {max(pose[1]) - min(pose[1])})\")\n",
    "print(f\"Z: ('min': {min(pose[2])}, 'mean': {np.mean(pose[2])}, 'max': {max(pose[2])}, 'range': {max(pose[2]) - min(pose[2])})\")"
   ]
  }
 ],
 "metadata": {
  "kernelspec": {
   "display_name": "base",
   "language": "python",
   "name": "python3"
  },
  "language_info": {
   "codemirror_mode": {
    "name": "ipython",
    "version": 3
   },
   "file_extension": ".py",
   "mimetype": "text/x-python",
   "name": "python",
   "nbconvert_exporter": "python",
   "pygments_lexer": "ipython3",
   "version": "3.12.4"
  }
 },
 "nbformat": 4,
 "nbformat_minor": 2
}
