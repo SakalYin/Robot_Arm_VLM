{
 "cells": [
  {
   "cell_type": "markdown",
   "metadata": {},
   "source": [
    "# Process Each Scenario Dataset"
   ]
  },
  {
   "cell_type": "code",
   "execution_count": 1,
   "metadata": {},
   "outputs": [],
   "source": [
    "from model.data_prep import prepare_data"
   ]
  },
  {
   "cell_type": "markdown",
   "metadata": {},
   "source": [
    "Camera Location: <br>\n",
    "default     0.5 -0.75 1.8 <br>\n",
    "offset1     0.7 -0.75 1.8 <br>\n",
    "offset2     0.65 -0.60 1.7 <br>\n",
    "offset3     0.75 -0.7 1.7 <br>\n",
    "offset4     0.78 -0.68 1.7"
   ]
  },
  {
   "cell_type": "code",
   "execution_count": 2,
   "metadata": {},
   "outputs": [
    {
     "name": "stdout",
     "output_type": "stream",
     "text": [
      "Removed 108 static images\n",
      "Removed 12 static images\n",
      "Removed 21 static images\n",
      "Removed 24 static images\n",
      "Removed 18 static images\n",
      "Removed 21 static images\n",
      "Removed 15 static images\n",
      "Removed 30 static images\n",
      "Removed 24 static images\n",
      "Removed 27 static images\n",
      "Removed 24 static images\n",
      "Removed 12 static images\n",
      "Removed 30 static images\n",
      "Removed 18 static images\n",
      "Removed 21 static images\n",
      "Removed 9 static images\n",
      "Removed 15 static images\n",
      "Removed 21 static images\n",
      "Removed 27 static images\n",
      "Removed 9 static images\n"
     ]
    }
   ],
   "source": [
    "prepare_data('Robot_Arm_Data/bright_default_cam', camera_loc='0.5,-0.75,1.8', drop_static=True)\n",
    "prepare_data('Robot_Arm_Data/dark_default_cam', camera_loc='0.5,-0.75,1.8', drop_static=True)\n",
    "prepare_data('Robot_Arm_Data/bright_offset1', camera_loc='0.7,-0.75,1.8', drop_static=True)\n",
    "prepare_data('Robot_Arm_Data/dark_offset2', camera_loc='0.65,-0.65,1.7', drop_static=True)\n",
    "prepare_data('Robot_Arm_Data/bright_offset3_mud', camera_loc='0.75,-0.7,1.7', drop_static=True)\n",
    "prepare_data('Robot_Arm_Data/dark_offset4_mud', camera_loc='0.78,-0.68,1.7', drop_static=True)\n",
    "prepare_data('Robot_Arm_Data/bright_offset5_cafe1_cafetable', camera_loc='0.71,-0.65,1.85', drop_static=True)\n",
    "prepare_data('Robot_Arm_Data/dark_offset6_cafe1_cafetable', camera_loc='0.68,-0.72,1.75', drop_static=True)\n",
    "prepare_data('Robot_Arm_Data/bright_offset7_mud_cafetable', camera_loc='0.71,-0.72,1.75', drop_static=True)\n",
    "prepare_data('Robot_Arm_Data/bright_offset8_cafe2_cafetable', camera_loc='0.64,-0.65,1.75', drop_static=True)\n",
    "prepare_data('Robot_Arm_Data/dark_offset9_cafe2_cafetable', camera_loc='0.53,-0.61,1.71', drop_static=True)\n",
    "prepare_data('Robot_Arm_Data/bright_offset10_field_cafetable', camera_loc='0.62,-0.62,1.77', drop_static=True)\n",
    "prepare_data('Robot_Arm_Data/dark_offset11_field_cafetable', camera_loc='0.54,-0.64,1.79', drop_static=True)\n",
    "prepare_data('Robot_Arm_Data/bright_offset12_field_marbletable', camera_loc='0.58,-0.67,1.84', drop_static=True)\n",
    "prepare_data('Robot_Arm_Data/dark_offset13_field_marbletable', camera_loc='0.59,-0.68,1.79', drop_static=True)\n",
    "prepare_data('Robot_Arm_Data/bright_offset14_cafe2_marbletable', camera_loc='0.77,-0.61,1.75', drop_static=True)\n",
    "prepare_data('Robot_Arm_Data/dark_offset15_cafe2_marbletable', camera_loc='0.5,-0.7,1.83', drop_static=True)\n",
    "prepare_data('Robot_Arm_Data/bright_offset16_cafe1_marbletable', camera_loc='0.78,-0.67,1.81', drop_static=True)\n",
    "prepare_data('Robot_Arm_Data/dark_offset17_cafe1_marbletable', camera_loc='0.59,-0.67,1.71', drop_static=True)\n",
    "prepare_data('Robot_Arm_Data/bright_offset18_mud_marbletable', camera_loc='0.72,-0.71,1.73', drop_static=True)"
   ]
  },
  {
   "cell_type": "markdown",
   "metadata": {},
   "source": [
    "# Combine for Training"
   ]
  },
  {
   "cell_type": "code",
   "execution_count": 3,
   "metadata": {},
   "outputs": [],
   "source": [
    "import pandas as pd\n",
    "from sklearn.model_selection import train_test_split"
   ]
  },
  {
   "cell_type": "code",
   "execution_count": 4,
   "metadata": {},
   "outputs": [],
   "source": [
    "bright_default_cam = pd.read_json('Robot_Arm_Data/bright_default_cam.json')\n",
    "bright_default_cam['name'] = 'bright_default_cam'\n",
    "\n",
    "dark_default_cam = pd.read_json('Robot_Arm_Data/dark_default_cam.json')\n",
    "dark_default_cam['name'] = 'dark_default_cam'\n",
    "\n",
    "bright_offset1 = pd.read_json('Robot_Arm_Data/bright_offset1.json')\n",
    "bright_offset1['name'] = 'bright_offset1'\n",
    "\n",
    "dark_offset2 = pd.read_json('Robot_Arm_Data/dark_offset2.json')\n",
    "dark_offset2['name'] = 'dark_offset2'\n",
    "\n",
    "bright_offset3_mud = pd.read_json('Robot_Arm_Data/bright_offset3_mud.json')\n",
    "bright_offset3_mud['name'] = 'bright_offset3_mud'\n",
    "\n",
    "dark_offset4_mud = pd.read_json('Robot_Arm_Data/dark_offset4_mud.json')\n",
    "dark_offset4_mud['name'] = 'dark_offset4_mud'\n",
    "\n",
    "bright_offset5_cafe1_cafetable = pd.read_json('Robot_Arm_Data/bright_offset5_cafe1_cafetable.json')\n",
    "bright_offset5_cafe1_cafetable['name'] = 'bright_offset5_cafe1_cafetable'\n",
    "\n",
    "dark_offset6_cafe1_cafetable = pd.read_json('Robot_Arm_Data/dark_offset6_cafe1_cafetable.json')\n",
    "dark_offset6_cafe1_cafetable['name'] = 'dark_offset6_cafe1_cafetable'\n",
    "\n",
    "bright_offset7_mud_cafetable = pd.read_json('Robot_Arm_Data/bright_offset7_mud_cafetable.json')\n",
    "bright_offset7_mud_cafetable['name'] = 'bright_offset7_mud_cafetable'\n",
    "\n",
    "bright_offset8_cafe2_cafetable = pd.read_json('Robot_Arm_Data/bright_offset8_cafe2_cafetable.json')\n",
    "bright_offset8_cafe2_cafetable['name'] = 'bright_offset8_cafe2_cafetable'\n",
    "\n",
    "dark_offset9_cafe2_cafetable = pd.read_json('Robot_Arm_Data/dark_offset9_cafe2_cafetable.json')\n",
    "dark_offset9_cafe2_cafetable['name'] = 'dark_offset9_cafe2_cafetable'\n",
    "\n",
    "bright_offset10_field_cafetable = pd.read_json('Robot_Arm_Data/bright_offset10_field_cafetable.json')\n",
    "bright_offset10_field_cafetable['name'] = 'bright_offset10_field_cafetable'\n",
    "\n",
    "dark_offset11_field_cafetable = pd.read_json('Robot_Arm_Data/dark_offset11_field_cafetable.json')\n",
    "dark_offset11_field_cafetable['name'] = 'dark_offset11_field_cafetable'\n",
    "\n",
    "bright_offset12_field_marbletable = pd.read_json('Robot_Arm_Data/bright_offset12_field_marbletable.json')\n",
    "bright_offset12_field_marbletable['name'] = 'bright_offset12_field_marbletable'\n",
    "\n",
    "dark_offset13_field_marbletable = pd.read_json('Robot_Arm_Data/dark_offset13_field_marbletable.json')\n",
    "dark_offset13_field_marbletable['name'] = 'dark_offset13_field_marbletable'\n",
    "\n",
    "bright_offset14_cafe2_marbletable = pd.read_json('Robot_Arm_Data/bright_offset14_cafe2_marbletable.json')\n",
    "bright_offset14_cafe2_marbletable['name'] = 'bright_offset14_cafe2_marbletable'\n",
    "\n",
    "dark_offset15_cafe2_marbletable = pd.read_json('Robot_Arm_Data/dark_offset15_cafe2_marbletable.json')\n",
    "dark_offset15_cafe2_marbletable['name'] = 'dark_offset15_cafe2_marbletable'\n",
    "\n",
    "bright_offset16_cafe1_marbletable = pd.read_json('Robot_Arm_Data/bright_offset16_cafe1_marbletable.json')\n",
    "bright_offset16_cafe1_marbletable['name'] = 'bright_offset16_cafe1_marbletable'\n",
    "\n",
    "dark_offset17_cafe1_marbletable = pd.read_json('Robot_Arm_Data/dark_offset17_cafe1_marbletable.json')\n",
    "dark_offset17_cafe1_marbletable['name'] = 'dark_offset17_cafe1_marbletable'\n",
    "\n",
    "bright_offset18_mud_marbletable = pd.read_json('Robot_Arm_Data/bright_offset18_mud_marbletable.json')\n",
    "bright_offset18_mud_marbletable['name'] = 'bright_offset18_mud_marbletable'"
   ]
  },
  {
   "cell_type": "code",
   "execution_count": 5,
   "metadata": {},
   "outputs": [],
   "source": [
    "df = pd.concat([bright_default_cam, dark_default_cam, bright_offset1, dark_offset2,\n",
    "                bright_offset3_mud, dark_offset4_mud, bright_offset5_cafe1_cafetable, dark_offset6_cafe1_cafetable,\n",
    "                bright_offset7_mud_cafetable, bright_offset8_cafe2_cafetable, dark_offset9_cafe2_cafetable, bright_offset10_field_cafetable,\n",
    "                dark_offset11_field_cafetable, bright_offset12_field_marbletable, dark_offset13_field_marbletable, bright_offset14_cafe2_marbletable,\n",
    "                dark_offset15_cafe2_marbletable, bright_offset16_cafe1_marbletable, dark_offset17_cafe1_marbletable, bright_offset18_mud_marbletable\n",
    "                ], ignore_index=True)"
   ]
  },
  {
   "cell_type": "code",
   "execution_count": 6,
   "metadata": {},
   "outputs": [
    {
     "data": {
      "text/plain": [
       "name\n",
       "bright_default_cam                   1198\n",
       "bright_offset14_cafe2_marbletable     155\n",
       "bright_offset10_field_cafetable       152\n",
       "dark_default_cam                      152\n",
       "dark_offset15_cafe2_marbletable       149\n",
       "bright_offset18_mud_marbletable       149\n",
       "bright_offset5_cafe1_cafetable        149\n",
       "bright_offset12_field_marbletable     145\n",
       "bright_offset3_mud                    145\n",
       "bright_offset16_cafe1_marbletable     142\n",
       "dark_offset4_mud                      142\n",
       "bright_offset1                        142\n",
       "dark_offset13_field_marbletable       142\n",
       "dark_offset2                          139\n",
       "dark_offset9_cafe2_cafetable          139\n",
       "bright_offset7_mud_cafetable          139\n",
       "dark_offset17_cafe1_marbletable       135\n",
       "bright_offset8_cafe2_cafetable        135\n",
       "dark_offset6_cafe1_cafetable          134\n",
       "dark_offset11_field_cafetable         132\n",
       "Name: count, dtype: int64"
      ]
     },
     "execution_count": 6,
     "metadata": {},
     "output_type": "execute_result"
    }
   ],
   "source": [
    "df.value_counts('name')"
   ]
  },
  {
   "cell_type": "code",
   "execution_count": 20,
   "metadata": {},
   "outputs": [
    {
     "data": {
      "text/plain": [
       "3915"
      ]
     },
     "execution_count": 20,
     "metadata": {},
     "output_type": "execute_result"
    }
   ],
   "source": [
    "len(df)"
   ]
  },
  {
   "cell_type": "markdown",
   "metadata": {},
   "source": [
    "Check Object counts"
   ]
  },
  {
   "cell_type": "code",
   "execution_count": 7,
   "metadata": {},
   "outputs": [
    {
     "data": {
      "application/vnd.microsoft.datawrangler.viewer.v0+json": {
       "columns": [
        {
         "name": "index",
         "rawType": "int64",
         "type": "integer"
        },
        {
         "name": "images",
         "rawType": "object",
         "type": "string"
        },
        {
         "name": "prompt",
         "rawType": "object",
         "type": "string"
        },
        {
         "name": "output",
         "rawType": "object",
         "type": "string"
        },
        {
         "name": "name",
         "rawType": "object",
         "type": "string"
        },
        {
         "name": "object",
         "rawType": "object",
         "type": "string"
        }
       ],
       "conversionMethod": "pd.DataFrame",
       "ref": "c76573ce-3536-4ab9-8561-4beb21d0e2e7",
       "rows": [
        [
         "0",
         "Robot_Arm_Data/bright_default_cam/image_20250325_082106_1.png",
         "I need to check my notifications.",
         "<obj>samsung_j8_black</obj> <pose>0.525,-0.09,0.58</pose> <orient>0.37508,0.92699,-0.00045,0.00284</orient>",
         "bright_default_cam",
         "<obj>samsung_j8_black</obj>"
        ],
        [
         "1",
         "Robot_Arm_Data/bright_default_cam/image_20250324_161209_1.png",
         "I need to look something up on the internet.",
         "<obj>samsung_j8_black</obj> <pose>0.63,-0.625,0.58</pose> <orient>0.37508,0.92699,-0.00045,0.00284</orient>",
         "bright_default_cam",
         "<obj>samsung_j8_black</obj>"
        ],
        [
         "2",
         "Robot_Arm_Data/bright_default_cam/image_20250325_084545_2.png",
         "I should find a fruit that grows in small clusters and has a fresh aroma.",
         "<obj>strawberry</obj> <pose>0.635,-1.24,0.58</pose> <orient>0.37508,0.92699,-0.00045,0.00284</orient>",
         "bright_default_cam",
         "<obj>strawberry</obj>"
        ],
        [
         "3",
         "Robot_Arm_Data/bright_default_cam/image_20250324_164656_0.png",
         "A dark, sweet beverage would be the perfect pairing for this meal.",
         "<obj>coke_can</obj> <pose>0.795,-0.465,0.72</pose> <orient>0.37508,0.92699,-0.00045,0.00284</orient>",
         "bright_default_cam",
         "<obj>coke_can</obj>"
        ],
        [
         "4",
         "Robot_Arm_Data/bright_default_cam/image_20250325_083527_1.png",
         "I don’t want to drink straight from the bottle—I need something else.",
         "<obj>plastic_cup</obj> <pose>0.45,-1.395,0.548</pose> <orient>0.35478,0.71881,0.30505,0.5141</orient>",
         "bright_default_cam",
         "<obj>plastic_cup</obj>"
        ]
       ],
       "shape": {
        "columns": 5,
        "rows": 5
       }
      },
      "text/html": [
       "<div>\n",
       "<style scoped>\n",
       "    .dataframe tbody tr th:only-of-type {\n",
       "        vertical-align: middle;\n",
       "    }\n",
       "\n",
       "    .dataframe tbody tr th {\n",
       "        vertical-align: top;\n",
       "    }\n",
       "\n",
       "    .dataframe thead th {\n",
       "        text-align: right;\n",
       "    }\n",
       "</style>\n",
       "<table border=\"1\" class=\"dataframe\">\n",
       "  <thead>\n",
       "    <tr style=\"text-align: right;\">\n",
       "      <th></th>\n",
       "      <th>images</th>\n",
       "      <th>prompt</th>\n",
       "      <th>output</th>\n",
       "      <th>name</th>\n",
       "      <th>object</th>\n",
       "    </tr>\n",
       "  </thead>\n",
       "  <tbody>\n",
       "    <tr>\n",
       "      <th>0</th>\n",
       "      <td>Robot_Arm_Data/bright_default_cam/image_202503...</td>\n",
       "      <td>I need to check my notifications.</td>\n",
       "      <td>&lt;obj&gt;samsung_j8_black&lt;/obj&gt; &lt;pose&gt;0.525,-0.09,...</td>\n",
       "      <td>bright_default_cam</td>\n",
       "      <td>&lt;obj&gt;samsung_j8_black&lt;/obj&gt;</td>\n",
       "    </tr>\n",
       "    <tr>\n",
       "      <th>1</th>\n",
       "      <td>Robot_Arm_Data/bright_default_cam/image_202503...</td>\n",
       "      <td>I need to look something up on the internet.</td>\n",
       "      <td>&lt;obj&gt;samsung_j8_black&lt;/obj&gt; &lt;pose&gt;0.63,-0.625,...</td>\n",
       "      <td>bright_default_cam</td>\n",
       "      <td>&lt;obj&gt;samsung_j8_black&lt;/obj&gt;</td>\n",
       "    </tr>\n",
       "    <tr>\n",
       "      <th>2</th>\n",
       "      <td>Robot_Arm_Data/bright_default_cam/image_202503...</td>\n",
       "      <td>I should find a fruit that grows in small clus...</td>\n",
       "      <td>&lt;obj&gt;strawberry&lt;/obj&gt; &lt;pose&gt;0.635,-1.24,0.58&lt;/...</td>\n",
       "      <td>bright_default_cam</td>\n",
       "      <td>&lt;obj&gt;strawberry&lt;/obj&gt;</td>\n",
       "    </tr>\n",
       "    <tr>\n",
       "      <th>3</th>\n",
       "      <td>Robot_Arm_Data/bright_default_cam/image_202503...</td>\n",
       "      <td>A dark, sweet beverage would be the perfect pa...</td>\n",
       "      <td>&lt;obj&gt;coke_can&lt;/obj&gt; &lt;pose&gt;0.795,-0.465,0.72&lt;/p...</td>\n",
       "      <td>bright_default_cam</td>\n",
       "      <td>&lt;obj&gt;coke_can&lt;/obj&gt;</td>\n",
       "    </tr>\n",
       "    <tr>\n",
       "      <th>4</th>\n",
       "      <td>Robot_Arm_Data/bright_default_cam/image_202503...</td>\n",
       "      <td>I don’t want to drink straight from the bottle...</td>\n",
       "      <td>&lt;obj&gt;plastic_cup&lt;/obj&gt; &lt;pose&gt;0.45,-1.395,0.548...</td>\n",
       "      <td>bright_default_cam</td>\n",
       "      <td>&lt;obj&gt;plastic_cup&lt;/obj&gt;</td>\n",
       "    </tr>\n",
       "  </tbody>\n",
       "</table>\n",
       "</div>"
      ],
      "text/plain": [
       "                                              images  \\\n",
       "0  Robot_Arm_Data/bright_default_cam/image_202503...   \n",
       "1  Robot_Arm_Data/bright_default_cam/image_202503...   \n",
       "2  Robot_Arm_Data/bright_default_cam/image_202503...   \n",
       "3  Robot_Arm_Data/bright_default_cam/image_202503...   \n",
       "4  Robot_Arm_Data/bright_default_cam/image_202503...   \n",
       "\n",
       "                                              prompt  \\\n",
       "0                  I need to check my notifications.   \n",
       "1       I need to look something up on the internet.   \n",
       "2  I should find a fruit that grows in small clus...   \n",
       "3  A dark, sweet beverage would be the perfect pa...   \n",
       "4  I don’t want to drink straight from the bottle...   \n",
       "\n",
       "                                              output                name  \\\n",
       "0  <obj>samsung_j8_black</obj> <pose>0.525,-0.09,...  bright_default_cam   \n",
       "1  <obj>samsung_j8_black</obj> <pose>0.63,-0.625,...  bright_default_cam   \n",
       "2  <obj>strawberry</obj> <pose>0.635,-1.24,0.58</...  bright_default_cam   \n",
       "3  <obj>coke_can</obj> <pose>0.795,-0.465,0.72</p...  bright_default_cam   \n",
       "4  <obj>plastic_cup</obj> <pose>0.45,-1.395,0.548...  bright_default_cam   \n",
       "\n",
       "                        object  \n",
       "0  <obj>samsung_j8_black</obj>  \n",
       "1  <obj>samsung_j8_black</obj>  \n",
       "2        <obj>strawberry</obj>  \n",
       "3          <obj>coke_can</obj>  \n",
       "4       <obj>plastic_cup</obj>  "
      ]
     },
     "execution_count": 7,
     "metadata": {},
     "output_type": "execute_result"
    }
   ],
   "source": [
    "df['object'] = df['output'].apply(lambda x: x.split(' ')[0])\n",
    "df.head()"
   ]
  },
  {
   "cell_type": "code",
   "execution_count": 8,
   "metadata": {},
   "outputs": [
    {
     "data": {
      "text/plain": [
       "object\n",
       "<obj>coke_can</obj>            657\n",
       "<obj>samsung_j8_black</obj>    603\n",
       "<obj>peach</obj>               590\n",
       "<obj>bowl</obj>                588\n",
       "<obj>strawberry</obj>          582\n",
       "<obj>plastic_cup</obj>         537\n",
       "<obj>reset</obj>               358\n",
       "Name: count, dtype: int64"
      ]
     },
     "execution_count": 8,
     "metadata": {},
     "output_type": "execute_result"
    }
   ],
   "source": [
    "df.value_counts('object')"
   ]
  },
  {
   "cell_type": "markdown",
   "metadata": {},
   "source": [
    "## Split dataset"
   ]
  },
  {
   "cell_type": "markdown",
   "metadata": {},
   "source": [
    "Split dataset by stratifying based on the \"scenario + object type\""
   ]
  },
  {
   "cell_type": "code",
   "execution_count": 9,
   "metadata": {},
   "outputs": [],
   "source": [
    "y = df['name'] + df['object']\n",
    "X_train, X_test, y_train, y_test = train_test_split(df, y, test_size=0.1, stratify=y)"
   ]
  },
  {
   "cell_type": "code",
   "execution_count": 10,
   "metadata": {},
   "outputs": [
    {
     "data": {
      "text/plain": [
       "object\n",
       "<obj>coke_can</obj>            592\n",
       "<obj>samsung_j8_black</obj>    545\n",
       "<obj>peach</obj>               529\n",
       "<obj>bowl</obj>                528\n",
       "<obj>strawberry</obj>          521\n",
       "<obj>plastic_cup</obj>         480\n",
       "<obj>reset</obj>               328\n",
       "Name: count, dtype: int64"
      ]
     },
     "execution_count": 10,
     "metadata": {},
     "output_type": "execute_result"
    }
   ],
   "source": [
    "X_train.object.value_counts()"
   ]
  },
  {
   "cell_type": "code",
   "execution_count": 11,
   "metadata": {},
   "outputs": [
    {
     "data": {
      "text/plain": [
       "object\n",
       "<obj>coke_can</obj>            65\n",
       "<obj>peach</obj>               61\n",
       "<obj>strawberry</obj>          61\n",
       "<obj>bowl</obj>                60\n",
       "<obj>samsung_j8_black</obj>    58\n",
       "<obj>plastic_cup</obj>         57\n",
       "<obj>reset</obj>               30\n",
       "Name: count, dtype: int64"
      ]
     },
     "execution_count": 11,
     "metadata": {},
     "output_type": "execute_result"
    }
   ],
   "source": [
    "X_test.object.value_counts()"
   ]
  },
  {
   "cell_type": "code",
   "execution_count": 12,
   "metadata": {},
   "outputs": [
    {
     "data": {
      "text/plain": [
       "name\n",
       "bright_default_cam                   1078\n",
       "bright_offset14_cafe2_marbletable     139\n",
       "bright_offset10_field_cafetable       137\n",
       "dark_default_cam                      136\n",
       "bright_offset5_cafe1_cafetable        135\n",
       "dark_offset15_cafe2_marbletable       134\n",
       "bright_offset18_mud_marbletable       133\n",
       "bright_offset3_mud                    131\n",
       "bright_offset12_field_marbletable     131\n",
       "bright_offset1                        129\n",
       "bright_offset16_cafe1_marbletable     128\n",
       "dark_offset4_mud                      128\n",
       "dark_offset13_field_marbletable       127\n",
       "dark_offset9_cafe2_cafetable          125\n",
       "bright_offset7_mud_cafetable          125\n",
       "dark_offset2                          124\n",
       "dark_offset17_cafe1_marbletable       122\n",
       "bright_offset8_cafe2_cafetable        121\n",
       "dark_offset6_cafe1_cafetable          120\n",
       "dark_offset11_field_cafetable         120\n",
       "Name: count, dtype: int64"
      ]
     },
     "execution_count": 12,
     "metadata": {},
     "output_type": "execute_result"
    }
   ],
   "source": [
    "X_train.name.value_counts()"
   ]
  },
  {
   "cell_type": "code",
   "execution_count": 13,
   "metadata": {},
   "outputs": [
    {
     "data": {
      "text/plain": [
       "name\n",
       "bright_default_cam                   120\n",
       "bright_offset18_mud_marbletable       16\n",
       "dark_default_cam                      16\n",
       "bright_offset14_cafe2_marbletable     16\n",
       "dark_offset15_cafe2_marbletable       15\n",
       "bright_offset10_field_cafetable       15\n",
       "dark_offset2                          15\n",
       "dark_offset13_field_marbletable       15\n",
       "bright_offset8_cafe2_cafetable        14\n",
       "bright_offset7_mud_cafetable          14\n",
       "bright_offset16_cafe1_marbletable     14\n",
       "bright_offset5_cafe1_cafetable        14\n",
       "dark_offset4_mud                      14\n",
       "dark_offset9_cafe2_cafetable          14\n",
       "bright_offset3_mud                    14\n",
       "bright_offset12_field_marbletable     14\n",
       "dark_offset6_cafe1_cafetable          14\n",
       "bright_offset1                        13\n",
       "dark_offset17_cafe1_marbletable       13\n",
       "dark_offset11_field_cafetable         12\n",
       "Name: count, dtype: int64"
      ]
     },
     "execution_count": 13,
     "metadata": {},
     "output_type": "execute_result"
    }
   ],
   "source": [
    "X_test.name.value_counts()"
   ]
  },
  {
   "cell_type": "markdown",
   "metadata": {},
   "source": [
    "Shuffle and export"
   ]
  },
  {
   "cell_type": "code",
   "execution_count": 14,
   "metadata": {},
   "outputs": [],
   "source": [
    "X_train.sample(frac=1).to_json('Robot_Arm_Data/train.json', orient='records', indent=4, force_ascii=False)\n",
    "X_test.sample(frac=1).to_json('Robot_Arm_Data/test.json', orient='records', indent=4, force_ascii=False)"
   ]
  },
  {
   "cell_type": "code",
   "execution_count": null,
   "metadata": {},
   "outputs": [],
   "source": []
  }
 ],
 "metadata": {
  "kernelspec": {
   "display_name": "base",
   "language": "python",
   "name": "python3"
  },
  "language_info": {
   "codemirror_mode": {
    "name": "ipython",
    "version": 3
   },
   "file_extension": ".py",
   "mimetype": "text/x-python",
   "name": "python",
   "nbconvert_exporter": "python",
   "pygments_lexer": "ipython3",
   "version": "3.12.4"
  }
 },
 "nbformat": 4,
 "nbformat_minor": 2
}
