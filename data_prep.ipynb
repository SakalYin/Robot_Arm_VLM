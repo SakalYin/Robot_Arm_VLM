{
 "cells": [
  {
   "cell_type": "markdown",
   "metadata": {},
   "source": [
    "# Process Each Scenario Dataset"
   ]
  },
  {
   "cell_type": "code",
   "execution_count": 1,
   "metadata": {},
   "outputs": [],
   "source": [
    "from model.data_prep import prepare_data"
   ]
  },
  {
   "cell_type": "code",
   "execution_count": null,
   "metadata": {},
   "outputs": [
    {
     "name": "stdout",
     "output_type": "stream",
     "text": [
      "Removed 108 static images\n",
      "Removed 12 static images\n",
      "Removed 21 static images\n",
      "Removed 24 static images\n",
      "Removed 18 static images\n",
      "Removed 21 static images\n",
      "Removed 15 static images\n",
      "Removed 30 static images\n",
      "Removed 24 static images\n",
      "Removed 27 static images\n",
      "Removed 24 static images\n",
      "Removed 12 static images\n",
      "Removed 30 static images\n",
      "Removed 18 static images\n",
      "Removed 21 static images\n",
      "Removed 9 static images\n",
      "Removed 15 static images\n",
      "Removed 21 static images\n",
      "Removed 27 static images\n",
      "Removed 9 static images\n"
     ]
    }
   ],
   "source": [
    "# Train with camera location\n",
    "# prepare_data('Robot_Arm_Data/bright_default_cam', camera_loc='0.5,-0.75,1.8', drop_static=True)\n",
    "# prepare_data('Robot_Arm_Data/dark_default_cam', camera_loc='0.5,-0.75,1.8', drop_static=True)\n",
    "# prepare_data('Robot_Arm_Data/bright_offset1', camera_loc='0.7,-0.75,1.8', drop_static=True)\n",
    "# prepare_data('Robot_Arm_Data/dark_offset2', camera_loc='0.65,-0.65,1.7', drop_static=True)\n",
    "# prepare_data('Robot_Arm_Data/bright_offset3_mud', camera_loc='0.75,-0.7,1.7', drop_static=True)\n",
    "# prepare_data('Robot_Arm_Data/dark_offset4_mud', camera_loc='0.78,-0.68,1.7', drop_static=True)\n",
    "# prepare_data('Robot_Arm_Data/bright_offset5_cafe1_cafetable', camera_loc='0.71,-0.65,1.85', drop_static=True)\n",
    "# prepare_data('Robot_Arm_Data/dark_offset6_cafe1_cafetable', camera_loc='0.68,-0.72,1.75', drop_static=True)\n",
    "# prepare_data('Robot_Arm_Data/bright_offset7_mud_cafetable', camera_loc='0.71,-0.72,1.75', drop_static=True)\n",
    "# prepare_data('Robot_Arm_Data/bright_offset8_cafe2_cafetable', camera_loc='0.64,-0.65,1.75', drop_static=True)\n",
    "# prepare_data('Robot_Arm_Data/dark_offset9_cafe2_cafetable', camera_loc='0.53,-0.61,1.71', drop_static=True)\n",
    "# prepare_data('Robot_Arm_Data/bright_offset10_field_cafetable', camera_loc='0.62,-0.62,1.77', drop_static=True)\n",
    "# prepare_data('Robot_Arm_Data/dark_offset11_field_cafetable', camera_loc='0.54,-0.64,1.79', drop_static=True)\n",
    "# prepare_data('Robot_Arm_Data/bright_offset12_field_marbletable', camera_loc='0.58,-0.67,1.84', drop_static=True)\n",
    "# prepare_data('Robot_Arm_Data/dark_offset13_field_marbletable', camera_loc='0.59,-0.68,1.79', drop_static=True)\n",
    "# prepare_data('Robot_Arm_Data/bright_offset14_cafe2_marbletable', camera_loc='0.77,-0.61,1.75', drop_static=True)\n",
    "# prepare_data('Robot_Arm_Data/dark_offset15_cafe2_marbletable', camera_loc='0.5,-0.7,1.83', drop_static=True)\n",
    "# prepare_data('Robot_Arm_Data/bright_offset16_cafe1_marbletable', camera_loc='0.78,-0.67,1.81', drop_static=True)\n",
    "# prepare_data('Robot_Arm_Data/dark_offset17_cafe1_marbletable', camera_loc='0.59,-0.67,1.71', drop_static=True)\n",
    "# prepare_data('Robot_Arm_Data/bright_offset18_mud_marbletable', camera_loc='0.72,-0.71,1.73', drop_static=True)\n",
    "\n",
    "# Train without camera location\n",
    "prepare_data('Robot_Arm_Data/bright_default_cam', drop_static=True)\n",
    "prepare_data('Robot_Arm_Data/dark_default_cam', drop_static=True)\n",
    "prepare_data('Robot_Arm_Data/bright_offset1', drop_static=True)\n",
    "prepare_data('Robot_Arm_Data/dark_offset2', drop_static=True)\n",
    "prepare_data('Robot_Arm_Data/bright_offset3_mud', drop_static=True)\n",
    "prepare_data('Robot_Arm_Data/dark_offset4_mud', drop_static=True)\n",
    "prepare_data('Robot_Arm_Data/bright_offset5_cafe1_cafetable', drop_static=True)\n",
    "prepare_data('Robot_Arm_Data/dark_offset6_cafe1_cafetable', drop_static=True)\n",
    "prepare_data('Robot_Arm_Data/bright_offset7_mud_cafetable', drop_static=True)\n",
    "prepare_data('Robot_Arm_Data/bright_offset8_cafe2_cafetable', drop_static=True)\n",
    "prepare_data('Robot_Arm_Data/dark_offset9_cafe2_cafetable', drop_static=True)\n",
    "prepare_data('Robot_Arm_Data/bright_offset10_field_cafetable',drop_static=True)\n",
    "prepare_data('Robot_Arm_Data/dark_offset11_field_cafetable', drop_static=True)\n",
    "prepare_data('Robot_Arm_Data/bright_offset12_field_marbletable', drop_static=True)\n",
    "prepare_data('Robot_Arm_Data/dark_offset13_field_marbletable', drop_static=True)\n",
    "prepare_data('Robot_Arm_Data/bright_offset14_cafe2_marbletable', drop_static=True)\n",
    "prepare_data('Robot_Arm_Data/dark_offset15_cafe2_marbletable', drop_static=True)\n",
    "prepare_data('Robot_Arm_Data/bright_offset16_cafe1_marbletable', drop_static=True)\n",
    "prepare_data('Robot_Arm_Data/dark_offset17_cafe1_marbletable',  drop_static=True)\n",
    "prepare_data('Robot_Arm_Data/bright_offset18_mud_marbletable',  drop_static=True)"
   ]
  },
  {
   "cell_type": "markdown",
   "metadata": {},
   "source": [
    "# Combine for Training"
   ]
  },
  {
   "cell_type": "code",
   "execution_count": 3,
   "metadata": {},
   "outputs": [],
   "source": [
    "import pandas as pd\n",
    "from sklearn.model_selection import train_test_split"
   ]
  },
  {
   "cell_type": "code",
   "execution_count": 4,
   "metadata": {},
   "outputs": [],
   "source": [
    "bright_default_cam = pd.read_json('Robot_Arm_Data/bright_default_cam.json')\n",
    "bright_default_cam['name'] = 'bright_default_cam'\n",
    "bright_default_cam = bright_default_cam.sample(n=300)\n",
    "\n",
    "dark_default_cam = pd.read_json('Robot_Arm_Data/dark_default_cam.json')\n",
    "dark_default_cam['name'] = 'dark_default_cam'\n",
    "\n",
    "bright_offset1 = pd.read_json('Robot_Arm_Data/bright_offset1.json')\n",
    "bright_offset1['name'] = 'bright_offset1'\n",
    "\n",
    "dark_offset2 = pd.read_json('Robot_Arm_Data/dark_offset2.json')\n",
    "dark_offset2['name'] = 'dark_offset2'\n",
    "\n",
    "bright_offset3_mud = pd.read_json('Robot_Arm_Data/bright_offset3_mud.json')\n",
    "bright_offset3_mud['name'] = 'bright_offset3_mud'\n",
    "\n",
    "dark_offset4_mud = pd.read_json('Robot_Arm_Data/dark_offset4_mud.json')\n",
    "dark_offset4_mud['name'] = 'dark_offset4_mud'\n",
    "\n",
    "bright_offset5_cafe1_cafetable = pd.read_json('Robot_Arm_Data/bright_offset5_cafe1_cafetable.json')\n",
    "bright_offset5_cafe1_cafetable['name'] = 'bright_offset5_cafe1_cafetable'\n",
    "\n",
    "dark_offset6_cafe1_cafetable = pd.read_json('Robot_Arm_Data/dark_offset6_cafe1_cafetable.json')\n",
    "dark_offset6_cafe1_cafetable['name'] = 'dark_offset6_cafe1_cafetable'\n",
    "\n",
    "bright_offset7_mud_cafetable = pd.read_json('Robot_Arm_Data/bright_offset7_mud_cafetable.json')\n",
    "bright_offset7_mud_cafetable['name'] = 'bright_offset7_mud_cafetable'\n",
    "\n",
    "bright_offset8_cafe2_cafetable = pd.read_json('Robot_Arm_Data/bright_offset8_cafe2_cafetable.json')\n",
    "bright_offset8_cafe2_cafetable['name'] = 'bright_offset8_cafe2_cafetable'\n",
    "\n",
    "dark_offset9_cafe2_cafetable = pd.read_json('Robot_Arm_Data/dark_offset9_cafe2_cafetable.json')\n",
    "dark_offset9_cafe2_cafetable['name'] = 'dark_offset9_cafe2_cafetable'\n",
    "\n",
    "bright_offset10_field_cafetable = pd.read_json('Robot_Arm_Data/bright_offset10_field_cafetable.json')\n",
    "bright_offset10_field_cafetable['name'] = 'bright_offset10_field_cafetable'\n",
    "\n",
    "dark_offset11_field_cafetable = pd.read_json('Robot_Arm_Data/dark_offset11_field_cafetable.json')\n",
    "dark_offset11_field_cafetable['name'] = 'dark_offset11_field_cafetable'\n",
    "\n",
    "bright_offset12_field_marbletable = pd.read_json('Robot_Arm_Data/bright_offset12_field_marbletable.json')\n",
    "bright_offset12_field_marbletable['name'] = 'bright_offset12_field_marbletable'\n",
    "\n",
    "dark_offset13_field_marbletable = pd.read_json('Robot_Arm_Data/dark_offset13_field_marbletable.json')\n",
    "dark_offset13_field_marbletable['name'] = 'dark_offset13_field_marbletable'\n",
    "\n",
    "bright_offset14_cafe2_marbletable = pd.read_json('Robot_Arm_Data/bright_offset14_cafe2_marbletable.json')\n",
    "bright_offset14_cafe2_marbletable['name'] = 'bright_offset14_cafe2_marbletable'\n",
    "\n",
    "dark_offset15_cafe2_marbletable = pd.read_json('Robot_Arm_Data/dark_offset15_cafe2_marbletable.json')\n",
    "dark_offset15_cafe2_marbletable['name'] = 'dark_offset15_cafe2_marbletable'\n",
    "\n",
    "bright_offset16_cafe1_marbletable = pd.read_json('Robot_Arm_Data/bright_offset16_cafe1_marbletable.json')\n",
    "bright_offset16_cafe1_marbletable['name'] = 'bright_offset16_cafe1_marbletable'\n",
    "\n",
    "dark_offset17_cafe1_marbletable = pd.read_json('Robot_Arm_Data/dark_offset17_cafe1_marbletable.json')\n",
    "dark_offset17_cafe1_marbletable['name'] = 'dark_offset17_cafe1_marbletable'\n",
    "\n",
    "bright_offset18_mud_marbletable = pd.read_json('Robot_Arm_Data/bright_offset18_mud_marbletable.json')\n",
    "bright_offset18_mud_marbletable['name'] = 'bright_offset18_mud_marbletable'"
   ]
  },
  {
   "cell_type": "code",
   "execution_count": 5,
   "metadata": {},
   "outputs": [],
   "source": [
    "df = pd.concat([bright_default_cam, dark_default_cam, bright_offset1, dark_offset2,\n",
    "                bright_offset3_mud, dark_offset4_mud, bright_offset5_cafe1_cafetable, dark_offset6_cafe1_cafetable,\n",
    "                bright_offset7_mud_cafetable, bright_offset8_cafe2_cafetable, dark_offset9_cafe2_cafetable, bright_offset10_field_cafetable,\n",
    "                dark_offset11_field_cafetable, bright_offset12_field_marbletable, dark_offset13_field_marbletable, bright_offset14_cafe2_marbletable,\n",
    "                dark_offset15_cafe2_marbletable, bright_offset16_cafe1_marbletable, dark_offset17_cafe1_marbletable, bright_offset18_mud_marbletable\n",
    "                ], ignore_index=True)"
   ]
  },
  {
   "cell_type": "code",
   "execution_count": 6,
   "metadata": {},
   "outputs": [
    {
     "data": {
      "text/plain": [
       "name\n",
       "bright_default_cam                   300\n",
       "bright_offset14_cafe2_marbletable    155\n",
       "bright_offset10_field_cafetable      152\n",
       "dark_default_cam                     152\n",
       "dark_offset15_cafe2_marbletable      149\n",
       "bright_offset18_mud_marbletable      149\n",
       "bright_offset5_cafe1_cafetable       149\n",
       "bright_offset12_field_marbletable    145\n",
       "bright_offset3_mud                   145\n",
       "bright_offset16_cafe1_marbletable    142\n",
       "dark_offset4_mud                     142\n",
       "bright_offset1                       142\n",
       "dark_offset13_field_marbletable      142\n",
       "dark_offset2                         139\n",
       "dark_offset9_cafe2_cafetable         139\n",
       "bright_offset7_mud_cafetable         139\n",
       "dark_offset17_cafe1_marbletable      135\n",
       "bright_offset8_cafe2_cafetable       135\n",
       "dark_offset6_cafe1_cafetable         134\n",
       "dark_offset11_field_cafetable        132\n",
       "Name: count, dtype: int64"
      ]
     },
     "execution_count": 6,
     "metadata": {},
     "output_type": "execute_result"
    }
   ],
   "source": [
    "df.value_counts('name')"
   ]
  },
  {
   "cell_type": "code",
   "execution_count": 7,
   "metadata": {},
   "outputs": [
    {
     "data": {
      "text/plain": [
       "3017"
      ]
     },
     "execution_count": 7,
     "metadata": {},
     "output_type": "execute_result"
    }
   ],
   "source": [
    "len(df)"
   ]
  },
  {
   "cell_type": "markdown",
   "metadata": {},
   "source": [
    "Check Object counts"
   ]
  },
  {
   "cell_type": "code",
   "execution_count": 8,
   "metadata": {},
   "outputs": [
    {
     "data": {
      "application/vnd.microsoft.datawrangler.viewer.v0+json": {
       "columns": [
        {
         "name": "index",
         "rawType": "int64",
         "type": "integer"
        },
        {
         "name": "images",
         "rawType": "object",
         "type": "string"
        },
        {
         "name": "prompt",
         "rawType": "object",
         "type": "string"
        },
        {
         "name": "output",
         "rawType": "object",
         "type": "string"
        },
        {
         "name": "name",
         "rawType": "object",
         "type": "string"
        },
        {
         "name": "object",
         "rawType": "object",
         "type": "string"
        }
       ],
       "conversionMethod": "pd.DataFrame",
       "ref": "5e7ebefc-1b00-47e1-9a90-84e6ae8b8f50",
       "rows": [
        [
         "0",
         "Robot_Arm_Data/bright_default_cam/image_20250325_082407_2.png",
         "Move to the original spot.<camera>0.5,-0.75,1.8</camera>",
         "<obj>reset</obj> <pose>0.32,-0.65897,1.5002</pose> <orient>0.70711,0.0006,0.00068,0.70711</orient>",
         "bright_default_cam",
         "<obj>reset</obj>"
        ],
        [
         "1",
         "Robot_Arm_Data/bright_default_cam/image_20250324_162504_2.png",
         "I need a simple, unbreakable container to pour my drink into.<camera>0.5,-0.75,1.8</camera>",
         "<obj>plastic_cup</obj> <pose>0.625,-0.11,0.548</pose> <orient>0.35478,0.71881,0.30505,0.5141</orient>",
         "bright_default_cam",
         "<obj>plastic_cup</obj>"
        ],
        [
         "2",
         "Robot_Arm_Data/bright_default_cam/image_20250324_162955_0.png",
         "I need a container for my cereal.<camera>0.5,-0.75,1.8</camera>",
         "<obj>bowl</obj> <pose>0.415,-0.375,0.58</pose> <orient>0.4468,0.8508,0.2185,0.147</orient>",
         "bright_default_cam",
         "<obj>bowl</obj>"
        ],
        [
         "3",
         "Robot_Arm_Data/bright_default_cam/image_20250325_082005_2.png",
         "A cup that doesn’t feel heavy but does the job is what I need.<camera>0.5,-0.75,1.8</camera>",
         "<obj>plastic_cup</obj> <pose>0.885,-0.425,0.548</pose> <orient>0.35478,0.71881,0.30505,0.5141</orient>",
         "bright_default_cam",
         "<obj>plastic_cup</obj>"
        ],
        [
         "4",
         "Robot_Arm_Data/bright_default_cam/image_20250324_165532_2.png",
         "A cup that doesn’t feel heavy but does the job is what I need.<camera>0.5,-0.75,1.8</camera>",
         "<obj>plastic_cup</obj> <pose>0.525,-0.095,0.548</pose> <orient>0.35478,0.71881,0.30505,0.5141</orient>",
         "bright_default_cam",
         "<obj>plastic_cup</obj>"
        ]
       ],
       "shape": {
        "columns": 5,
        "rows": 5
       }
      },
      "text/html": [
       "<div>\n",
       "<style scoped>\n",
       "    .dataframe tbody tr th:only-of-type {\n",
       "        vertical-align: middle;\n",
       "    }\n",
       "\n",
       "    .dataframe tbody tr th {\n",
       "        vertical-align: top;\n",
       "    }\n",
       "\n",
       "    .dataframe thead th {\n",
       "        text-align: right;\n",
       "    }\n",
       "</style>\n",
       "<table border=\"1\" class=\"dataframe\">\n",
       "  <thead>\n",
       "    <tr style=\"text-align: right;\">\n",
       "      <th></th>\n",
       "      <th>images</th>\n",
       "      <th>prompt</th>\n",
       "      <th>output</th>\n",
       "      <th>name</th>\n",
       "      <th>object</th>\n",
       "    </tr>\n",
       "  </thead>\n",
       "  <tbody>\n",
       "    <tr>\n",
       "      <th>0</th>\n",
       "      <td>Robot_Arm_Data/bright_default_cam/image_202503...</td>\n",
       "      <td>Move to the original spot.&lt;camera&gt;0.5,-0.75,1....</td>\n",
       "      <td>&lt;obj&gt;reset&lt;/obj&gt; &lt;pose&gt;0.32,-0.65897,1.5002&lt;/p...</td>\n",
       "      <td>bright_default_cam</td>\n",
       "      <td>&lt;obj&gt;reset&lt;/obj&gt;</td>\n",
       "    </tr>\n",
       "    <tr>\n",
       "      <th>1</th>\n",
       "      <td>Robot_Arm_Data/bright_default_cam/image_202503...</td>\n",
       "      <td>I need a simple, unbreakable container to pour...</td>\n",
       "      <td>&lt;obj&gt;plastic_cup&lt;/obj&gt; &lt;pose&gt;0.625,-0.11,0.548...</td>\n",
       "      <td>bright_default_cam</td>\n",
       "      <td>&lt;obj&gt;plastic_cup&lt;/obj&gt;</td>\n",
       "    </tr>\n",
       "    <tr>\n",
       "      <th>2</th>\n",
       "      <td>Robot_Arm_Data/bright_default_cam/image_202503...</td>\n",
       "      <td>I need a container for my cereal.&lt;camera&gt;0.5,-...</td>\n",
       "      <td>&lt;obj&gt;bowl&lt;/obj&gt; &lt;pose&gt;0.415,-0.375,0.58&lt;/pose&gt;...</td>\n",
       "      <td>bright_default_cam</td>\n",
       "      <td>&lt;obj&gt;bowl&lt;/obj&gt;</td>\n",
       "    </tr>\n",
       "    <tr>\n",
       "      <th>3</th>\n",
       "      <td>Robot_Arm_Data/bright_default_cam/image_202503...</td>\n",
       "      <td>A cup that doesn’t feel heavy but does the job...</td>\n",
       "      <td>&lt;obj&gt;plastic_cup&lt;/obj&gt; &lt;pose&gt;0.885,-0.425,0.54...</td>\n",
       "      <td>bright_default_cam</td>\n",
       "      <td>&lt;obj&gt;plastic_cup&lt;/obj&gt;</td>\n",
       "    </tr>\n",
       "    <tr>\n",
       "      <th>4</th>\n",
       "      <td>Robot_Arm_Data/bright_default_cam/image_202503...</td>\n",
       "      <td>A cup that doesn’t feel heavy but does the job...</td>\n",
       "      <td>&lt;obj&gt;plastic_cup&lt;/obj&gt; &lt;pose&gt;0.525,-0.095,0.54...</td>\n",
       "      <td>bright_default_cam</td>\n",
       "      <td>&lt;obj&gt;plastic_cup&lt;/obj&gt;</td>\n",
       "    </tr>\n",
       "  </tbody>\n",
       "</table>\n",
       "</div>"
      ],
      "text/plain": [
       "                                              images  \\\n",
       "0  Robot_Arm_Data/bright_default_cam/image_202503...   \n",
       "1  Robot_Arm_Data/bright_default_cam/image_202503...   \n",
       "2  Robot_Arm_Data/bright_default_cam/image_202503...   \n",
       "3  Robot_Arm_Data/bright_default_cam/image_202503...   \n",
       "4  Robot_Arm_Data/bright_default_cam/image_202503...   \n",
       "\n",
       "                                              prompt  \\\n",
       "0  Move to the original spot.<camera>0.5,-0.75,1....   \n",
       "1  I need a simple, unbreakable container to pour...   \n",
       "2  I need a container for my cereal.<camera>0.5,-...   \n",
       "3  A cup that doesn’t feel heavy but does the job...   \n",
       "4  A cup that doesn’t feel heavy but does the job...   \n",
       "\n",
       "                                              output                name  \\\n",
       "0  <obj>reset</obj> <pose>0.32,-0.65897,1.5002</p...  bright_default_cam   \n",
       "1  <obj>plastic_cup</obj> <pose>0.625,-0.11,0.548...  bright_default_cam   \n",
       "2  <obj>bowl</obj> <pose>0.415,-0.375,0.58</pose>...  bright_default_cam   \n",
       "3  <obj>plastic_cup</obj> <pose>0.885,-0.425,0.54...  bright_default_cam   \n",
       "4  <obj>plastic_cup</obj> <pose>0.525,-0.095,0.54...  bright_default_cam   \n",
       "\n",
       "                   object  \n",
       "0        <obj>reset</obj>  \n",
       "1  <obj>plastic_cup</obj>  \n",
       "2         <obj>bowl</obj>  \n",
       "3  <obj>plastic_cup</obj>  \n",
       "4  <obj>plastic_cup</obj>  "
      ]
     },
     "execution_count": 8,
     "metadata": {},
     "output_type": "execute_result"
    }
   ],
   "source": [
    "df['object'] = df['output'].apply(lambda x: x.split(' ')[0])\n",
    "df.head()"
   ]
  },
  {
   "cell_type": "code",
   "execution_count": 9,
   "metadata": {},
   "outputs": [
    {
     "data": {
      "text/plain": [
       "object\n",
       "<obj>coke_can</obj>            511\n",
       "<obj>samsung_j8_black</obj>    472\n",
       "<obj>bowl</obj>                470\n",
       "<obj>strawberry</obj>          436\n",
       "<obj>peach</obj>               426\n",
       "<obj>plastic_cup</obj>         421\n",
       "<obj>reset</obj>               281\n",
       "Name: count, dtype: int64"
      ]
     },
     "execution_count": 9,
     "metadata": {},
     "output_type": "execute_result"
    }
   ],
   "source": [
    "df.value_counts('object')"
   ]
  },
  {
   "cell_type": "markdown",
   "metadata": {},
   "source": [
    "## Split dataset"
   ]
  },
  {
   "cell_type": "markdown",
   "metadata": {},
   "source": [
    "Split dataset by stratifying based on the \"scenario + object type\""
   ]
  },
  {
   "cell_type": "code",
   "execution_count": 10,
   "metadata": {},
   "outputs": [],
   "source": [
    "y = df['name'] + df['object']\n",
    "X_train, X_test, y_train, y_test = train_test_split(df, y, test_size=0.1, stratify=y)"
   ]
  },
  {
   "cell_type": "code",
   "execution_count": 11,
   "metadata": {},
   "outputs": [
    {
     "data": {
      "text/plain": [
       "object\n",
       "<obj>coke_can</obj>            459\n",
       "<obj>samsung_j8_black</obj>    427\n",
       "<obj>bowl</obj>                423\n",
       "<obj>strawberry</obj>          389\n",
       "<obj>peach</obj>               382\n",
       "<obj>plastic_cup</obj>         376\n",
       "<obj>reset</obj>               259\n",
       "Name: count, dtype: int64"
      ]
     },
     "execution_count": 11,
     "metadata": {},
     "output_type": "execute_result"
    }
   ],
   "source": [
    "X_train.object.value_counts()"
   ]
  },
  {
   "cell_type": "code",
   "execution_count": 12,
   "metadata": {},
   "outputs": [
    {
     "data": {
      "text/plain": [
       "object\n",
       "<obj>coke_can</obj>            52\n",
       "<obj>bowl</obj>                47\n",
       "<obj>strawberry</obj>          47\n",
       "<obj>plastic_cup</obj>         45\n",
       "<obj>samsung_j8_black</obj>    45\n",
       "<obj>peach</obj>               44\n",
       "<obj>reset</obj>               22\n",
       "Name: count, dtype: int64"
      ]
     },
     "execution_count": 12,
     "metadata": {},
     "output_type": "execute_result"
    }
   ],
   "source": [
    "X_test.object.value_counts()"
   ]
  },
  {
   "cell_type": "code",
   "execution_count": 13,
   "metadata": {},
   "outputs": [
    {
     "data": {
      "text/plain": [
       "name\n",
       "bright_default_cam                   269\n",
       "bright_offset14_cafe2_marbletable    139\n",
       "bright_offset10_field_cafetable      137\n",
       "dark_default_cam                     136\n",
       "bright_offset5_cafe1_cafetable       135\n",
       "dark_offset15_cafe2_marbletable      134\n",
       "bright_offset18_mud_marbletable      133\n",
       "bright_offset12_field_marbletable    131\n",
       "bright_offset3_mud                   131\n",
       "bright_offset1                       129\n",
       "dark_offset4_mud                     128\n",
       "dark_offset13_field_marbletable      128\n",
       "bright_offset16_cafe1_marbletable    128\n",
       "dark_offset9_cafe2_cafetable         126\n",
       "bright_offset7_mud_cafetable         125\n",
       "dark_offset2                         124\n",
       "dark_offset17_cafe1_marbletable      122\n",
       "bright_offset8_cafe2_cafetable       121\n",
       "dark_offset6_cafe1_cafetable         120\n",
       "dark_offset11_field_cafetable        119\n",
       "Name: count, dtype: int64"
      ]
     },
     "execution_count": 13,
     "metadata": {},
     "output_type": "execute_result"
    }
   ],
   "source": [
    "X_train.name.value_counts()"
   ]
  },
  {
   "cell_type": "code",
   "execution_count": 14,
   "metadata": {},
   "outputs": [
    {
     "data": {
      "text/plain": [
       "name\n",
       "bright_default_cam                   31\n",
       "bright_offset18_mud_marbletable      16\n",
       "bright_offset14_cafe2_marbletable    16\n",
       "dark_default_cam                     16\n",
       "dark_offset2                         15\n",
       "dark_offset15_cafe2_marbletable      15\n",
       "bright_offset10_field_cafetable      15\n",
       "dark_offset6_cafe1_cafetable         14\n",
       "bright_offset7_mud_cafetable         14\n",
       "bright_offset3_mud                   14\n",
       "bright_offset12_field_marbletable    14\n",
       "bright_offset16_cafe1_marbletable    14\n",
       "bright_offset8_cafe2_cafetable       14\n",
       "dark_offset13_field_marbletable      14\n",
       "bright_offset5_cafe1_cafetable       14\n",
       "dark_offset4_mud                     14\n",
       "bright_offset1                       13\n",
       "dark_offset17_cafe1_marbletable      13\n",
       "dark_offset9_cafe2_cafetable         13\n",
       "dark_offset11_field_cafetable        13\n",
       "Name: count, dtype: int64"
      ]
     },
     "execution_count": 14,
     "metadata": {},
     "output_type": "execute_result"
    }
   ],
   "source": [
    "X_test.name.value_counts()"
   ]
  },
  {
   "cell_type": "markdown",
   "metadata": {},
   "source": [
    "Shuffle and export"
   ]
  },
  {
   "cell_type": "code",
   "execution_count": 15,
   "metadata": {},
   "outputs": [],
   "source": [
    "X_train.sample(frac=1).to_json('Robot_Arm_Data/train_balanced.json', orient='records', indent=4, force_ascii=False)\n",
    "X_test.sample(frac=1).to_json('Robot_Arm_Data/test_balanced.json', orient='records', indent=4, force_ascii=False)"
   ]
  }
 ],
 "metadata": {
  "kernelspec": {
   "display_name": "base",
   "language": "python",
   "name": "python3"
  },
  "language_info": {
   "codemirror_mode": {
    "name": "ipython",
    "version": 3
   },
   "file_extension": ".py",
   "mimetype": "text/x-python",
   "name": "python",
   "nbconvert_exporter": "python",
   "pygments_lexer": "ipython3",
   "version": "3.12.4"
  }
 },
 "nbformat": 4,
 "nbformat_minor": 2
}
