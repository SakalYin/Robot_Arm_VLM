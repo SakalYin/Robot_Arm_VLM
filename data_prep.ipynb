{
 "cells": [
  {
   "cell_type": "markdown",
   "metadata": {},
   "source": [
    "# Process Each Scenario Dataset"
   ]
  },
  {
   "cell_type": "code",
   "execution_count": 1,
   "metadata": {},
   "outputs": [],
   "source": [
    "from model.data_prep import prepare_data"
   ]
  },
  {
   "cell_type": "markdown",
   "metadata": {},
   "source": [
    "Camera Location: <br>\n",
    "default     0.5 -0.75 1.8 <br>\n",
    "offset1     0.7 -0.75 1.8 <br>\n",
    "offset2     0.65 -0.60 1.7 <br>\n",
    "offset3     0.75 -0.7 1.7 <br>\n",
    "offset4     0.78 -0.68 1.7"
   ]
  },
  {
   "cell_type": "code",
   "execution_count": 2,
   "metadata": {},
   "outputs": [
    {
     "name": "stdout",
     "output_type": "stream",
     "text": [
      "Removed 108 static images\n",
      "Removed 12 static images\n",
      "Removed 21 static images\n",
      "Removed 24 static images\n",
      "Removed 18 static images\n",
      "Removed 21 static images\n"
     ]
    }
   ],
   "source": [
    "prepare_data('Robot_Arm_Data/bright_default_cam', camera_loc='0.5,-0.75,1.8', drop_static=True)\n",
    "prepare_data('Robot_Arm_Data/dark_default_cam', camera_loc='0.5,-0.75,1.8', drop_static=True)\n",
    "prepare_data('Robot_Arm_Data/bright_offset1', camera_loc='0.7,-0.75,1.8', drop_static=True)\n",
    "prepare_data('Robot_Arm_Data/dark_offset2', camera_loc='0.65,-0.65,1.7', drop_static=True)\n",
    "prepare_data('Robot_Arm_Data/bright_offset3_mud', camera_loc='0.75,-0.7,1.7', drop_static=True)\n",
    "prepare_data('Robot_Arm_Data/dark_offset4_mud', camera_loc='0.78,-0.68,1.7', drop_static=True)"
   ]
  },
  {
   "cell_type": "markdown",
   "metadata": {},
   "source": [
    "# Combine for Training"
   ]
  },
  {
   "cell_type": "code",
   "execution_count": 3,
   "metadata": {},
   "outputs": [],
   "source": [
    "import pandas as pd\n",
    "from sklearn.model_selection import train_test_split"
   ]
  },
  {
   "cell_type": "code",
   "execution_count": 4,
   "metadata": {},
   "outputs": [],
   "source": [
    "bright_default_cam = pd.read_json('Robot_Arm_Data/bright_default_cam.json')\n",
    "bright_default_cam['name'] = 'bright_default_cam'\n",
    "\n",
    "dark_default_cam = pd.read_json('Robot_Arm_Data/dark_default_cam.json')\n",
    "dark_default_cam['name'] = 'dark_default_cam'\n",
    "\n",
    "bright_offset1 = pd.read_json('Robot_Arm_Data/bright_offset1.json')\n",
    "bright_offset1['name'] = 'bright_offset1'\n",
    "\n",
    "dark_offset2 = pd.read_json('Robot_Arm_Data/dark_offset2.json')\n",
    "dark_offset2['name'] = 'dark_offset2'\n",
    "\n",
    "bright_offset3_mud = pd.read_json('Robot_Arm_Data/bright_offset3_mud.json')\n",
    "bright_offset3_mud['name'] = 'bright_offset3_mud'\n",
    "\n",
    "dark_offset4_mud = pd.read_json('Robot_Arm_Data/dark_offset4_mud.json')\n",
    "dark_offset4_mud['name'] = 'dark_offset4_mud'"
   ]
  },
  {
   "cell_type": "code",
   "execution_count": 5,
   "metadata": {},
   "outputs": [],
   "source": [
    "df = pd.concat([bright_default_cam, dark_default_cam, bright_offset1, dark_offset2, bright_offset3_mud, dark_offset4_mud], ignore_index=True)"
   ]
  },
  {
   "cell_type": "markdown",
   "metadata": {},
   "source": [
    "Check Object counts"
   ]
  },
  {
   "cell_type": "code",
   "execution_count": 6,
   "metadata": {},
   "outputs": [
    {
     "data": {
      "application/vnd.microsoft.datawrangler.viewer.v0+json": {
       "columns": [
        {
         "name": "index",
         "rawType": "int64",
         "type": "integer"
        },
        {
         "name": "images",
         "rawType": "object",
         "type": "string"
        },
        {
         "name": "prompt",
         "rawType": "object",
         "type": "string"
        },
        {
         "name": "output",
         "rawType": "object",
         "type": "string"
        },
        {
         "name": "name",
         "rawType": "object",
         "type": "string"
        },
        {
         "name": "object",
         "rawType": "object",
         "type": "string"
        }
       ],
       "conversionMethod": "pd.DataFrame",
       "ref": "ea31c607-8920-46ad-bcc7-33df02068699",
       "rows": [
        [
         "0",
         "Robot_Arm_Data/bright_default_cam/image_20250324_162955_0.png",
         "I need to separate this portion from the rest.<camera>0.5,-0.75,1.8</camera>",
         "<obj>bowl</obj> <pose>0.415,-0.375,0.58</pose> <orient>0.4468,0.8508,0.2185,0.147</orient>",
         "bright_default_cam",
         "<obj>bowl</obj>"
        ],
        [
         "1",
         "Robot_Arm_Data/bright_default_cam/image_20250324_154321_0.png",
         "I should grab a plastic cup for my coffee.<camera>0.5,-0.75,1.8</camera>",
         "<obj>plastic_cup</obj> <pose>0.6,-0.905,0.548</pose> <orient>0.35478,0.71881,0.30505,0.5141</orient>",
         "bright_default_cam",
         "<obj>plastic_cup</obj>"
        ],
        [
         "2",
         "Robot_Arm_Data/bright_default_cam/image_20250324_154107_0.png",
         "This meal would be easier to eat with something to hold it.<camera>0.5,-0.75,1.8</camera>",
         "<obj>bowl</obj> <pose>0.485,-0.94,0.58</pose> <orient>0.4468,0.8508,0.2185,0.147</orient>",
         "bright_default_cam",
         "<obj>bowl</obj>"
        ],
        [
         "3",
         "Robot_Arm_Data/bright_default_cam/image_20250324_165249_1.png",
         "I want to keep all my food together instead of it spreading out.<camera>0.5,-0.75,1.8</camera>",
         "<obj>bowl</obj> <pose>0.53,-1.02,0.58</pose> <orient>0.4468,0.8508,0.2185,0.147</orient>",
         "bright_default_cam",
         "<obj>bowl</obj>"
        ],
        [
         "4",
         "Robot_Arm_Data/bright_default_cam/image_20250324_154056_0.png",
         "I need something that lets me access information instantly.<camera>0.5,-0.75,1.8</camera>",
         "<obj>samsung_j8_black</obj> <pose>0.59,-1.12,0.58</pose> <orient>0.37508,0.92699,-0.00045,0.00284</orient>",
         "bright_default_cam",
         "<obj>samsung_j8_black</obj>"
        ]
       ],
       "shape": {
        "columns": 5,
        "rows": 5
       }
      },
      "text/html": [
       "<div>\n",
       "<style scoped>\n",
       "    .dataframe tbody tr th:only-of-type {\n",
       "        vertical-align: middle;\n",
       "    }\n",
       "\n",
       "    .dataframe tbody tr th {\n",
       "        vertical-align: top;\n",
       "    }\n",
       "\n",
       "    .dataframe thead th {\n",
       "        text-align: right;\n",
       "    }\n",
       "</style>\n",
       "<table border=\"1\" class=\"dataframe\">\n",
       "  <thead>\n",
       "    <tr style=\"text-align: right;\">\n",
       "      <th></th>\n",
       "      <th>images</th>\n",
       "      <th>prompt</th>\n",
       "      <th>output</th>\n",
       "      <th>name</th>\n",
       "      <th>object</th>\n",
       "    </tr>\n",
       "  </thead>\n",
       "  <tbody>\n",
       "    <tr>\n",
       "      <th>0</th>\n",
       "      <td>Robot_Arm_Data/bright_default_cam/image_202503...</td>\n",
       "      <td>I need to separate this portion from the rest....</td>\n",
       "      <td>&lt;obj&gt;bowl&lt;/obj&gt; &lt;pose&gt;0.415,-0.375,0.58&lt;/pose&gt;...</td>\n",
       "      <td>bright_default_cam</td>\n",
       "      <td>&lt;obj&gt;bowl&lt;/obj&gt;</td>\n",
       "    </tr>\n",
       "    <tr>\n",
       "      <th>1</th>\n",
       "      <td>Robot_Arm_Data/bright_default_cam/image_202503...</td>\n",
       "      <td>I should grab a plastic cup for my coffee.&lt;cam...</td>\n",
       "      <td>&lt;obj&gt;plastic_cup&lt;/obj&gt; &lt;pose&gt;0.6,-0.905,0.548&lt;...</td>\n",
       "      <td>bright_default_cam</td>\n",
       "      <td>&lt;obj&gt;plastic_cup&lt;/obj&gt;</td>\n",
       "    </tr>\n",
       "    <tr>\n",
       "      <th>2</th>\n",
       "      <td>Robot_Arm_Data/bright_default_cam/image_202503...</td>\n",
       "      <td>This meal would be easier to eat with somethin...</td>\n",
       "      <td>&lt;obj&gt;bowl&lt;/obj&gt; &lt;pose&gt;0.485,-0.94,0.58&lt;/pose&gt; ...</td>\n",
       "      <td>bright_default_cam</td>\n",
       "      <td>&lt;obj&gt;bowl&lt;/obj&gt;</td>\n",
       "    </tr>\n",
       "    <tr>\n",
       "      <th>3</th>\n",
       "      <td>Robot_Arm_Data/bright_default_cam/image_202503...</td>\n",
       "      <td>I want to keep all my food together instead of...</td>\n",
       "      <td>&lt;obj&gt;bowl&lt;/obj&gt; &lt;pose&gt;0.53,-1.02,0.58&lt;/pose&gt; &lt;...</td>\n",
       "      <td>bright_default_cam</td>\n",
       "      <td>&lt;obj&gt;bowl&lt;/obj&gt;</td>\n",
       "    </tr>\n",
       "    <tr>\n",
       "      <th>4</th>\n",
       "      <td>Robot_Arm_Data/bright_default_cam/image_202503...</td>\n",
       "      <td>I need something that lets me access informati...</td>\n",
       "      <td>&lt;obj&gt;samsung_j8_black&lt;/obj&gt; &lt;pose&gt;0.59,-1.12,0...</td>\n",
       "      <td>bright_default_cam</td>\n",
       "      <td>&lt;obj&gt;samsung_j8_black&lt;/obj&gt;</td>\n",
       "    </tr>\n",
       "  </tbody>\n",
       "</table>\n",
       "</div>"
      ],
      "text/plain": [
       "                                              images  \\\n",
       "0  Robot_Arm_Data/bright_default_cam/image_202503...   \n",
       "1  Robot_Arm_Data/bright_default_cam/image_202503...   \n",
       "2  Robot_Arm_Data/bright_default_cam/image_202503...   \n",
       "3  Robot_Arm_Data/bright_default_cam/image_202503...   \n",
       "4  Robot_Arm_Data/bright_default_cam/image_202503...   \n",
       "\n",
       "                                              prompt  \\\n",
       "0  I need to separate this portion from the rest....   \n",
       "1  I should grab a plastic cup for my coffee.<cam...   \n",
       "2  This meal would be easier to eat with somethin...   \n",
       "3  I want to keep all my food together instead of...   \n",
       "4  I need something that lets me access informati...   \n",
       "\n",
       "                                              output                name  \\\n",
       "0  <obj>bowl</obj> <pose>0.415,-0.375,0.58</pose>...  bright_default_cam   \n",
       "1  <obj>plastic_cup</obj> <pose>0.6,-0.905,0.548<...  bright_default_cam   \n",
       "2  <obj>bowl</obj> <pose>0.485,-0.94,0.58</pose> ...  bright_default_cam   \n",
       "3  <obj>bowl</obj> <pose>0.53,-1.02,0.58</pose> <...  bright_default_cam   \n",
       "4  <obj>samsung_j8_black</obj> <pose>0.59,-1.12,0...  bright_default_cam   \n",
       "\n",
       "                        object  \n",
       "0              <obj>bowl</obj>  \n",
       "1       <obj>plastic_cup</obj>  \n",
       "2              <obj>bowl</obj>  \n",
       "3              <obj>bowl</obj>  \n",
       "4  <obj>samsung_j8_black</obj>  "
      ]
     },
     "execution_count": 6,
     "metadata": {},
     "output_type": "execute_result"
    }
   ],
   "source": [
    "df['object'] = df['output'].apply(lambda x: x.split(' ')[0])\n",
    "df.head()"
   ]
  },
  {
   "cell_type": "code",
   "execution_count": 7,
   "metadata": {},
   "outputs": [
    {
     "data": {
      "text/plain": [
       "object\n",
       "<obj>coke_can</obj>            327\n",
       "<obj>peach</obj>               315\n",
       "<obj>samsung_j8_black</obj>    303\n",
       "<obj>strawberry</obj>          288\n",
       "<obj>plastic_cup</obj>         276\n",
       "<obj>bowl</obj>                234\n",
       "<obj>reset</obj>               175\n",
       "Name: count, dtype: int64"
      ]
     },
     "execution_count": 7,
     "metadata": {},
     "output_type": "execute_result"
    }
   ],
   "source": [
    "df.value_counts('object')"
   ]
  },
  {
   "cell_type": "markdown",
   "metadata": {},
   "source": [
    "## Split dataset"
   ]
  },
  {
   "cell_type": "markdown",
   "metadata": {},
   "source": [
    "Split dataset by stratifying based on the \"scenario + object type\""
   ]
  },
  {
   "cell_type": "code",
   "execution_count": 8,
   "metadata": {},
   "outputs": [],
   "source": [
    "y = df['name'] + df['object']\n",
    "X_train, X_test, y_train, y_test = train_test_split(df, y, test_size=0.1, stratify=y)"
   ]
  },
  {
   "cell_type": "code",
   "execution_count": 9,
   "metadata": {},
   "outputs": [
    {
     "data": {
      "text/plain": [
       "object\n",
       "<obj>coke_can</obj>            295\n",
       "<obj>peach</obj>               282\n",
       "<obj>samsung_j8_black</obj>    273\n",
       "<obj>strawberry</obj>          259\n",
       "<obj>plastic_cup</obj>         248\n",
       "<obj>bowl</obj>                210\n",
       "<obj>reset</obj>               159\n",
       "Name: count, dtype: int64"
      ]
     },
     "execution_count": 9,
     "metadata": {},
     "output_type": "execute_result"
    }
   ],
   "source": [
    "X_train.object.value_counts()"
   ]
  },
  {
   "cell_type": "code",
   "execution_count": 10,
   "metadata": {},
   "outputs": [
    {
     "data": {
      "text/plain": [
       "object\n",
       "<obj>peach</obj>               33\n",
       "<obj>coke_can</obj>            32\n",
       "<obj>samsung_j8_black</obj>    30\n",
       "<obj>strawberry</obj>          29\n",
       "<obj>plastic_cup</obj>         28\n",
       "<obj>bowl</obj>                24\n",
       "<obj>reset</obj>               16\n",
       "Name: count, dtype: int64"
      ]
     },
     "execution_count": 10,
     "metadata": {},
     "output_type": "execute_result"
    }
   ],
   "source": [
    "X_test.object.value_counts()"
   ]
  },
  {
   "cell_type": "code",
   "execution_count": 11,
   "metadata": {},
   "outputs": [
    {
     "data": {
      "text/plain": [
       "name\n",
       "bright_default_cam    1078\n",
       "dark_default_cam       136\n",
       "bright_offset3_mud     131\n",
       "bright_offset1         129\n",
       "dark_offset4_mud       128\n",
       "dark_offset2           124\n",
       "Name: count, dtype: int64"
      ]
     },
     "execution_count": 11,
     "metadata": {},
     "output_type": "execute_result"
    }
   ],
   "source": [
    "X_train.name.value_counts()"
   ]
  },
  {
   "cell_type": "code",
   "execution_count": 12,
   "metadata": {},
   "outputs": [
    {
     "data": {
      "text/plain": [
       "name\n",
       "bright_default_cam    120\n",
       "dark_default_cam       16\n",
       "dark_offset2           15\n",
       "dark_offset4_mud       14\n",
       "bright_offset3_mud     14\n",
       "bright_offset1         13\n",
       "Name: count, dtype: int64"
      ]
     },
     "execution_count": 12,
     "metadata": {},
     "output_type": "execute_result"
    }
   ],
   "source": [
    "X_test.name.value_counts()"
   ]
  },
  {
   "cell_type": "markdown",
   "metadata": {},
   "source": [
    "Shuffle and export"
   ]
  },
  {
   "cell_type": "code",
   "execution_count": null,
   "metadata": {},
   "outputs": [],
   "source": [
    "X_train.sample(frac=1).to_json('Robot_Arm_Data/train.json', orient='records', indent=4, force_ascii=False)"
   ]
  },
  {
   "cell_type": "code",
   "execution_count": null,
   "metadata": {},
   "outputs": [],
   "source": [
    "X_test.sample(frac=1).to_json('Robot_Arm_Data/test.json', orient='records', indent=4, force_ascii=False)"
   ]
  },
  {
   "cell_type": "code",
   "execution_count": null,
   "metadata": {},
   "outputs": [],
   "source": []
  }
 ],
 "metadata": {
  "kernelspec": {
   "display_name": "base",
   "language": "python",
   "name": "python3"
  },
  "language_info": {
   "codemirror_mode": {
    "name": "ipython",
    "version": 3
   },
   "file_extension": ".py",
   "mimetype": "text/x-python",
   "name": "python",
   "nbconvert_exporter": "python",
   "pygments_lexer": "ipython3",
   "version": "3.12.4"
  }
 },
 "nbformat": 4,
 "nbformat_minor": 2
}
