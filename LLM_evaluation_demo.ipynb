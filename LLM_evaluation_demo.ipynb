{
 "cells": [
  {
   "cell_type": "code",
   "execution_count": 1,
   "id": "9bc45c3e-b911-4226-8c21-ee4d5d57a807",
   "metadata": {
    "scrolled": true
   },
   "outputs": [],
   "source": [
    "import sys\n",
    "from tqdm import tqdm\n",
    "from typing import List, Dict, Tuple"
   ]
  },
  {
   "cell_type": "code",
   "execution_count": 2,
   "id": "4c0694cc-bc4d-43a9-8c03-b01c4335f3b8",
   "metadata": {},
   "outputs": [],
   "source": [
    "import matplotlib.pyplot as plt\n",
    "%matplotlib inline"
   ]
  },
  {
   "cell_type": "code",
   "execution_count": 3,
   "id": "2564d590-f9d1-4380-b30c-a7b28b325b63",
   "metadata": {},
   "outputs": [],
   "source": [
    "from pathlib import Path\n",
    "import math\n",
    "import json\n",
    "import re\n",
    "def load_jsonl(path: Path):\n",
    "    \"\"\"\n",
    "    Load cleaned json file for testing\n",
    "    path: path to the file containing the data for processing\n",
    "    \"\"\"\n",
    "    if not path.exists():\n",
    "        return []\n",
    "    with open(path, \"r\") as fid:\n",
    "        # no sanity check because the data was already cleaned\n",
    "        data = [json.loads(l) for l in fid]\n",
    "    return data"
   ]
  },
  {
   "cell_type": "markdown",
   "id": "1a416b0a-d266-4349-8001-a0c461a35290",
   "metadata": {},
   "source": [
    "# Specific to `mlx` framework\n",
    "\n",
    "The code here is specific to my machine which is based on MacOS.\n",
    "\n",
    "Here, I use `mlx` framework to train LLM. Your case is different but the pattern and process should be similar."
   ]
  },
  {
   "cell_type": "code",
   "execution_count": 4,
   "id": "63462e3b-8d8e-4b9d-8087-5219c82459b4",
   "metadata": {},
   "outputs": [
    {
     "name": "stderr",
     "output_type": "stream",
     "text": [
      "/Users/cto/Library/Caches/pypoetry/virtualenvs/chatwithfasthtml-43dZcm8R-py3.11/lib/python3.11/site-packages/tqdm/auto.py:21: TqdmWarning: IProgress not found. Please update jupyter and ipywidgets. See https://ipywidgets.readthedocs.io/en/stable/user_install.html\n",
      "  from .autonotebook import tqdm as notebook_tqdm\n"
     ]
    }
   ],
   "source": [
    "from mlx_lm import load, generate\n",
    "from mlx_lm.sample_utils import make_sampler"
   ]
  },
  {
   "cell_type": "markdown",
   "id": "d4a2b61b-c842-4422-bacc-af6caf224cae",
   "metadata": {},
   "source": [
    "## Load finetuned LLM"
   ]
  },
  {
   "cell_type": "code",
   "execution_count": 5,
   "id": "5daea921-5cb6-4e85-91b1-0fd086421703",
   "metadata": {},
   "outputs": [
    {
     "name": "stderr",
     "output_type": "stream",
     "text": [
      "Fetching 9 files: 100%|██████████████████████████████████████████████████████████████████████████████████████████████████████████████████| 9/9 [00:00<00:00, 73156.47it/s]\n"
     ]
    }
   ],
   "source": [
    "# load finetuned LLM and its tokenizer\n",
    "model, tokenizer = load(\"mlx-community/gemma-3-1b-it-8bit\", adapter_path=\"./robot-command-retrieval/adapters-gemma-3-1b-it-8bit/\")\n",
    "# model, tokenizer = load(\"mlx-community/gemma-2-2b-it-4bit\", adapter_path=\"./robot-command-retrieval/adapters-gemma-2-2b-it-4bit/\")"
   ]
  },
  {
   "cell_type": "code",
   "execution_count": 6,
   "id": "1397cd71-8ee0-4aef-b71e-85bfc7e40f2c",
   "metadata": {},
   "outputs": [],
   "source": [
    "# this is specific to mlx framework\n",
    "# here I need to explicitly add eos token to allow mlx to stop generate tokens after encountering eos token\n",
    "tokenizer.add_eos_token(\"<end_of_turn>\")"
   ]
  },
  {
   "cell_type": "code",
   "execution_count": 7,
   "id": "330a6161-4613-45bc-bad8-54d9b0580635",
   "metadata": {},
   "outputs": [],
   "source": [
    "#### Configuration for LLM to generate answer\n",
    "temperature = 1.5 # 0.0 # the randomness of LLM answer, the smaller, the more deterministic the answer is. the bigger, the more random the answer is\n",
    "top_p = 1.0\n",
    "min_p = 0.1 # 0.0\n",
    "min_tokens_to_keep = 1"
   ]
  },
  {
   "cell_type": "code",
   "execution_count": 8,
   "id": "6165915f-d142-4a41-a186-c6b706d15a2a",
   "metadata": {},
   "outputs": [],
   "source": [
    "# this is specific to mlx framework\n",
    "sampler = make_sampler(temperature, top_p, min_p, min_tokens_to_keep)"
   ]
  },
  {
   "cell_type": "code",
   "execution_count": 9,
   "id": "c6c4919c-3eec-4e71-af46-5c73df6c1c30",
   "metadata": {},
   "outputs": [
    {
     "name": "stdout",
     "output_type": "stream",
     "text": [
      "Respond strictly in a JSON array format for a Khmer robot assistant. ទៅមុខមួយម៉ែត្រ\n"
     ]
    },
    {
     "data": {
      "text/plain": [
       "\"{'action': 'move', 'params': {'unit': 1, 'is_forward': True, 'scale': 'meter', 'result': 'unit'}}\""
      ]
     },
     "execution_count": 9,
     "metadata": {},
     "output_type": "execute_result"
    }
   ],
   "source": [
    "# test the finetuned LLM\n",
    "# in my finetuning, I add additional prompt \"Respond strictly in a JSON array format for a Khmer robot assistant\".\n",
    "# So, when deploying, I need to add this additional prompt to the user command.\n",
    "add_prompt = \"Respond strictly in a JSON array format for a Khmer robot assistant.\"\n",
    "prompt = f\"{add_prompt} ទៅមុខមួយម៉ែត្រ\"\n",
    "print(prompt)\n",
    "#prompt = \"ទៅមុខមួយម៉ែត្រ\"\n",
    "messages = [\n",
    "    {\"role\": \"user\", \"content\": prompt}\n",
    "]\n",
    "prompt = tokenizer.apply_chat_template(\n",
    "    messages, add_generation_prompt=True\n",
    ")\n",
    "\n",
    "generate(model, tokenizer, prompt=prompt, verbose=False, sampler=sampler)"
   ]
  },
  {
   "cell_type": "markdown",
   "id": "a231a6ad-62a1-42a5-a287-38c06e76c5f0",
   "metadata": {},
   "source": [
    "## Load Data"
   ]
  },
  {
   "cell_type": "code",
   "execution_count": 10,
   "id": "45c47e00-da32-4db3-ac45-e2104c4c46ed",
   "metadata": {},
   "outputs": [],
   "source": [
    "data = load_jsonl(Path(\"./robot-command-retrieval/data/valid.jsonl\"))"
   ]
  },
  {
   "cell_type": "markdown",
   "id": "f4aa743c-3a01-4c1a-87fb-61b985b476c3",
   "metadata": {},
   "source": [
    "We can check the data by printing a few elements."
   ]
  },
  {
   "cell_type": "code",
   "execution_count": 11,
   "id": "643a341a-da1b-48fd-afcd-119fdee45a80",
   "metadata": {},
   "outputs": [
    {
     "data": {
      "text/plain": [
       "{'messages': [{'role': 'user',\n",
       "   'content': 'Respond strictly in a JSON array format for a robot assistant. រ៉ូបូតទៅមុខ ១២.៦៥ ម៉ែត្រ ដោយល្បឿន ៥.៨៥ ម៉ែត្រ/វិ'},\n",
       "  {'role': 'assistant',\n",
       "   'content': \"{'action': 'move', 'params': {'speed': 5.85, 'unit': 12.65, 'is_forward': True, 'scale': 'meter'}}\"}]}"
      ]
     },
     "execution_count": 11,
     "metadata": {},
     "output_type": "execute_result"
    }
   ],
   "source": [
    "data[3]"
   ]
  },
  {
   "cell_type": "markdown",
   "id": "f5750338-c2de-43c7-b03e-6631403683a8",
   "metadata": {},
   "source": [
    "Each element of `data` is a dictionary with a single key `messages`. Its value is a `list` of dictionaries containing user's prompt and the expected answer from the LLM."
   ]
  },
  {
   "cell_type": "code",
   "execution_count": 12,
   "id": "49c48f91-7e38-47aa-be2c-76dd71511bfa",
   "metadata": {},
   "outputs": [
    {
     "data": {
      "text/plain": [
       "[{'role': 'user',\n",
       "  'content': 'Respond strictly in a JSON array format for a robot assistant. រ៉ូបូតទៅមុខ ១២.៦៥ ម៉ែត្រ ដោយល្បឿន ៥.៨៥ ម៉ែត្រ/វិ'},\n",
       " {'role': 'assistant',\n",
       "  'content': \"{'action': 'move', 'params': {'speed': 5.85, 'unit': 12.65, 'is_forward': True, 'scale': 'meter'}}\"}]"
      ]
     },
     "execution_count": 12,
     "metadata": {},
     "output_type": "execute_result"
    }
   ],
   "source": [
    "data[3]['messages']"
   ]
  },
  {
   "cell_type": "markdown",
   "id": "0c581ead-0ff1-4697-8214-03202d6bfdf7",
   "metadata": {},
   "source": [
    "## Post process the prediction of LLM\n",
    "\n",
    "From now on, we will call `prediction` the output from LLM and `label` the answer expected from LLM."
   ]
  },
  {
   "cell_type": "code",
   "execution_count": 13,
   "id": "b8863f2a-f33c-4a54-b019-10b5bdc937a2",
   "metadata": {},
   "outputs": [],
   "source": [
    "def validate_and_get_polar_coord(pred_cmd: str, label_cmd: str):\n",
    "    \"\"\"\n",
    "    We first validate the correctness of form of LLM's prediction.\n",
    "    After that, we deduce the polar coordinates corresponding to the prediction.\n",
    "\n",
    "    In case that the prediction is not valid, we return [0.0, 0.0] to say\n",
    "    that the robot does not move.\n",
    "    \"\"\"\n",
    "    try:\n",
    "        dict_pred_cmd = eval(pred_cmd)\n",
    "        assert isinstance(dict_pred_cmd, dict)\n",
    "        assert 'action' in dict_pred_cmd\n",
    "        assert 'params' in dict_pred_cmd\n",
    "        for k in eval(label_cmd)['params']:\n",
    "            assert k in dict_pred_cmd['params']\n",
    "        return get_distance_and_angle(dict_pred_cmd)\n",
    "    except:\n",
    "        print(\"Unexpected error:\", sys.exc_info()[0])\n",
    "        return [0.0, 0.0]"
   ]
  },
  {
   "cell_type": "code",
   "execution_count": 14,
   "id": "f7de4b6f-b531-4ded-b7b5-4569836697cc",
   "metadata": {},
   "outputs": [],
   "source": [
    "def get_distance_and_angle(cmd: dict):\n",
    "    \"\"\"\n",
    "    Given the correct JSON format, deduce the corresponding polar coordinates\n",
    "    \"\"\"\n",
    "    polar_coord = [0.0, 0.0]\n",
    "    unit = float(cmd['params'].get('unit', 0.0))\n",
    "    scale = cmd['params'].get('scale', '')\n",
    "    duration = cmd['params'].get('duration', 0)\n",
    "    if cmd['action'] == 'move':\n",
    "        if scale == 'centimeter':\n",
    "            # convert to meter\n",
    "            unit /= 100.0\n",
    "        direction = cmd['params'].get('is_forward', True)\n",
    "        if direction: polar_coord[0] += unit\n",
    "        else: polar_coord[0] -= unit\n",
    "    elif cmd['action'] == 'rotate':\n",
    "        if scale == 'degree' or scale == '':\n",
    "            # convert degree to radian\n",
    "            unit = math.radians(unit)\n",
    "        direction = cmd['params'].get('is_clockwise', True)\n",
    "        if direction: polar_coord[1] += unit\n",
    "        else: polar_coord[1] -= unit\n",
    "    return polar_coord"
   ]
  },
  {
   "cell_type": "code",
   "execution_count": 15,
   "id": "0367afee-e3bb-4702-8672-a677d0a9a3f5",
   "metadata": {},
   "outputs": [],
   "source": [
    "def update_robot_pose(x, y, t, polar_coord):\n",
    "    \"\"\"\n",
    "    In 2D movement, the pose of robot is characterised by its position (x,y) and orientation (t)\n",
    "    In our setup, either radius (first component) or orientation (second component) is not null.\n",
    "    In case, both radius and orientation are not null, we encounter an error.\n",
    "    \"\"\"\n",
    "    if polar_coord[0] != 0.0 and polar_coord[1] == 0.0:\n",
    "        x += polar_coord[0]*math.cos(t)\n",
    "        y += polar_coord[0]*math.sin(t)\n",
    "        return x, y, t\n",
    "    elif polar_coord[0] == 0.0 and polar_coord[1] != 0.0:\n",
    "        t += polar_coord[1]\n",
    "        return x, y, t\n",
    "    elif polar_coord[0] != 0.0 and polar_coord[1] != 0.0:\n",
    "        print(\"error\", polar_coord)\n",
    "        return x, y, t\n",
    "    else:\n",
    "        return x, y, t"
   ]
  },
  {
   "cell_type": "code",
   "execution_count": 16,
   "id": "d07397f4-7d87-4fc2-9bae-29b616db8782",
   "metadata": {},
   "outputs": [],
   "source": [
    "def riemanian_distance(x_pred, y_pred, t_pred, x_label, y_label, t_label):\n",
    "    \"\"\"\n",
    "    Formula to compute the distance between 2 robot's poses in 2D movement\n",
    "    \"\"\"\n",
    "    alpha = 1.0 # calibrate the importance between translation and rotation\n",
    "    d = math.sqrt((x_pred - x_label)**2 + (y_pred - y_label)**2 + alpha * ((t_pred - t_label)**2))\n",
    "    return d"
   ]
  },
  {
   "cell_type": "code",
   "execution_count": 17,
   "id": "7fe77ed4-ca0d-452a-aba1-703ded74ba17",
   "metadata": {},
   "outputs": [],
   "source": [
    "def update_polar_coord(to_update, for_update):\n",
    "    return [to_update[0] + for_update[0], to_update[1] + for_update[1]]"
   ]
  },
  {
   "cell_type": "code",
   "execution_count": 18,
   "id": "ce2c26ca-2c83-4ca7-a668-8d80c58bc98d",
   "metadata": {},
   "outputs": [
    {
     "name": "stderr",
     "output_type": "stream",
     "text": [
      "  1%|█▎                                                                                                                                 | 6/598 [01:09<1:49:39, 11.11s/it]"
     ]
    },
    {
     "name": "stdout",
     "output_type": "stream",
     "text": [
      "Unexpected error: <class 'AssertionError'>\n",
      "Unexpected error: <class 'AssertionError'>\n",
      "Unexpected error: <class 'AssertionError'>\n",
      "Unexpected error: <class 'AssertionError'>\n"
     ]
    },
    {
     "name": "stderr",
     "output_type": "stream",
     "text": [
      "  1%|█▌                                                                                                                                 | 7/598 [01:19<1:47:09, 10.88s/it]"
     ]
    },
    {
     "name": "stdout",
     "output_type": "stream",
     "text": [
      "Unexpected error: <class 'AssertionError'>\n",
      "Unexpected error: <class 'AssertionError'>\n"
     ]
    },
    {
     "name": "stderr",
     "output_type": "stream",
     "text": [
      "  2%|███                                                                                                                               | 14/598 [02:21<1:42:32, 10.53s/it]"
     ]
    },
    {
     "name": "stdout",
     "output_type": "stream",
     "text": [
      "Unexpected error: <class 'AssertionError'>\n",
      "Unexpected error: <class 'AssertionError'>\n",
      "Unexpected error: <class 'AssertionError'>\n"
     ]
    },
    {
     "name": "stderr",
     "output_type": "stream",
     "text": [
      "  3%|███▋                                                                                                                              | 17/598 [02:56<1:45:49, 10.93s/it]"
     ]
    },
    {
     "name": "stdout",
     "output_type": "stream",
     "text": [
      "Unexpected error: <class 'AssertionError'>\n",
      "Unexpected error: <class 'AssertionError'>\n",
      "Unexpected error: <class 'AssertionError'>\n"
     ]
    },
    {
     "name": "stderr",
     "output_type": "stream",
     "text": [
      "  5%|██████▎                                                                                                                           | 29/598 [05:34<2:18:40, 14.62s/it]"
     ]
    },
    {
     "name": "stdout",
     "output_type": "stream",
     "text": [
      "Unexpected error: <class 'AssertionError'>\n",
      "Unexpected error: <class 'AssertionError'>\n",
      "Unexpected error: <class 'AssertionError'>\n"
     ]
    },
    {
     "name": "stderr",
     "output_type": "stream",
     "text": [
      "  5%|██████▌                                                                                                                           | 30/598 [05:41<1:56:29, 12.30s/it]"
     ]
    },
    {
     "name": "stdout",
     "output_type": "stream",
     "text": [
      "Unexpected error: <class 'AssertionError'>\n"
     ]
    },
    {
     "name": "stderr",
     "output_type": "stream",
     "text": [
      "  6%|████████▎                                                                                                                         | 38/598 [07:26<1:58:33, 12.70s/it]"
     ]
    },
    {
     "name": "stdout",
     "output_type": "stream",
     "text": [
      "Unexpected error: <class 'AssertionError'>\n",
      "Unexpected error: <class 'AssertionError'>\n"
     ]
    },
    {
     "name": "stderr",
     "output_type": "stream",
     "text": [
      "  7%|█████████▎                                                                                                                        | 43/598 [08:32<1:58:15, 12.78s/it]"
     ]
    },
    {
     "name": "stdout",
     "output_type": "stream",
     "text": [
      "Unexpected error: <class 'AssertionError'>\n",
      "Unexpected error: <class 'AssertionError'>\n",
      "Unexpected error: <class 'AssertionError'>\n"
     ]
    },
    {
     "name": "stderr",
     "output_type": "stream",
     "text": [
      " 11%|██████████████▏                                                                                                                   | 65/598 [14:08<2:14:25, 15.13s/it]"
     ]
    },
    {
     "name": "stdout",
     "output_type": "stream",
     "text": [
      "Unexpected error: <class 'AssertionError'>\n",
      "Unexpected error: <class 'AssertionError'>\n",
      "Unexpected error: <class 'AssertionError'>\n"
     ]
    },
    {
     "name": "stderr",
     "output_type": "stream",
     "text": [
      " 11%|██████████████▌                                                                                                                   | 67/598 [14:22<1:36:45, 10.93s/it]"
     ]
    },
    {
     "name": "stdout",
     "output_type": "stream",
     "text": [
      "Unexpected error: <class 'AssertionError'>\n",
      "Unexpected error: <class 'AssertionError'>\n",
      "Unexpected error: <class 'AssertionError'>\n",
      "Unexpected error: <class 'AssertionError'>\n",
      "Unexpected error: <class 'AssertionError'>\n",
      "Unexpected error: <class 'AssertionError'>\n",
      "Unexpected error: <class 'AssertionError'>\n",
      "Unexpected error: <class 'AssertionError'>\n",
      "Unexpected error: <class 'AssertionError'>\n"
     ]
    },
    {
     "name": "stderr",
     "output_type": "stream",
     "text": [
      " 11%|██████████████▊                                                                                                                   | 68/598 [14:30<1:29:41, 10.15s/it]"
     ]
    },
    {
     "name": "stdout",
     "output_type": "stream",
     "text": [
      "Unexpected error: <class 'AssertionError'>\n",
      "Unexpected error: <class 'AssertionError'>\n"
     ]
    },
    {
     "name": "stderr",
     "output_type": "stream",
     "text": [
      " 12%|███████████████                                                                                                                   | 69/598 [14:38<1:23:29,  9.47s/it]"
     ]
    },
    {
     "name": "stdout",
     "output_type": "stream",
     "text": [
      "Unexpected error: <class 'ValueError'>\n"
     ]
    },
    {
     "name": "stderr",
     "output_type": "stream",
     "text": [
      " 12%|███████████████▏                                                                                                                  | 70/598 [14:42<1:09:27,  7.89s/it]"
     ]
    },
    {
     "name": "stdout",
     "output_type": "stream",
     "text": [
      "Unexpected error: <class 'AssertionError'>\n",
      "Unexpected error: <class 'AssertionError'>\n"
     ]
    },
    {
     "name": "stderr",
     "output_type": "stream",
     "text": [
      " 13%|█████████████████▏                                                                                                                | 79/598 [16:20<1:38:03, 11.34s/it]"
     ]
    },
    {
     "name": "stdout",
     "output_type": "stream",
     "text": [
      "Unexpected error: <class 'AssertionError'>\n"
     ]
    },
    {
     "name": "stderr",
     "output_type": "stream",
     "text": [
      " 14%|██████████████████▋                                                                                                               | 86/598 [17:47<1:42:20, 11.99s/it]"
     ]
    },
    {
     "name": "stdout",
     "output_type": "stream",
     "text": [
      "Unexpected error: <class 'AssertionError'>\n",
      "Unexpected error: <class 'AssertionError'>\n",
      "Unexpected error: <class 'AssertionError'>\n",
      "Unexpected error: <class 'AssertionError'>\n",
      "Unexpected error: <class 'AssertionError'>\n"
     ]
    },
    {
     "name": "stderr",
     "output_type": "stream",
     "text": [
      " 15%|███████████████████▏                                                                                                              | 88/598 [18:02<1:22:44,  9.73s/it]"
     ]
    },
    {
     "name": "stdout",
     "output_type": "stream",
     "text": [
      "Unexpected error: <class 'SyntaxError'>\n",
      "Unexpected error: <class 'AssertionError'>\n",
      "Unexpected error: <class 'AssertionError'>\n",
      "Unexpected error: <class 'AssertionError'>\n",
      "Unexpected error: <class 'SyntaxError'>\n",
      "Unexpected error: <class 'AssertionError'>\n",
      "Unexpected error: <class 'AssertionError'>\n",
      "Unexpected error: <class 'AssertionError'>\n"
     ]
    },
    {
     "name": "stderr",
     "output_type": "stream",
     "text": [
      " 15%|███████████████████▎                                                                                                              | 89/598 [18:24<1:54:59, 13.56s/it]"
     ]
    },
    {
     "name": "stdout",
     "output_type": "stream",
     "text": [
      "Unexpected error: <class 'AssertionError'>\n",
      "Unexpected error: <class 'AssertionError'>\n"
     ]
    },
    {
     "name": "stderr",
     "output_type": "stream",
     "text": [
      " 16%|█████████████████████                                                                                                             | 97/598 [19:57<1:22:47,  9.92s/it]"
     ]
    },
    {
     "name": "stdout",
     "output_type": "stream",
     "text": [
      "Unexpected error: <class 'AssertionError'>\n",
      "Unexpected error: <class 'AssertionError'>\n",
      "Unexpected error: <class 'AssertionError'>\n",
      "Unexpected error: <class 'AssertionError'>\n",
      "Unexpected error: <class 'AssertionError'>\n"
     ]
    },
    {
     "name": "stderr",
     "output_type": "stream",
     "text": [
      " 16%|█████████████████████▎                                                                                                            | 98/598 [20:13<1:37:52, 11.74s/it]"
     ]
    },
    {
     "name": "stdout",
     "output_type": "stream",
     "text": [
      "Unexpected error: <class 'AssertionError'>\n",
      "Unexpected error: <class 'AssertionError'>\n"
     ]
    },
    {
     "name": "stderr",
     "output_type": "stream",
     "text": [
      " 17%|██████████████████████                                                                                                           | 102/598 [21:05<1:45:19, 12.74s/it]"
     ]
    },
    {
     "name": "stdout",
     "output_type": "stream",
     "text": [
      "Unexpected error: <class 'AssertionError'>\n",
      "Unexpected error: <class 'AssertionError'>\n",
      "Unexpected error: <class 'AssertionError'>\n",
      "Unexpected error: <class 'AssertionError'>\n",
      "Unexpected error: <class 'AssertionError'>\n",
      "Unexpected error: <class 'AssertionError'>\n"
     ]
    },
    {
     "name": "stderr",
     "output_type": "stream",
     "text": [
      " 17%|██████████████████████▏                                                                                                          | 103/598 [21:13<1:34:06, 11.41s/it]"
     ]
    },
    {
     "name": "stdout",
     "output_type": "stream",
     "text": [
      "Unexpected error: <class 'AssertionError'>\n"
     ]
    },
    {
     "name": "stderr",
     "output_type": "stream",
     "text": [
      " 18%|██████████████████████▋                                                                                                          | 105/598 [21:33<1:28:01, 10.71s/it]"
     ]
    },
    {
     "name": "stdout",
     "output_type": "stream",
     "text": [
      "Unexpected error: <class 'AssertionError'>\n",
      "Unexpected error: <class 'AssertionError'>\n",
      "Unexpected error: <class 'AssertionError'>\n",
      "Unexpected error: <class 'AssertionError'>\n"
     ]
    },
    {
     "name": "stderr",
     "output_type": "stream",
     "text": [
      " 18%|██████████████████████▊                                                                                                          | 106/598 [21:50<1:43:46, 12.66s/it]"
     ]
    },
    {
     "name": "stdout",
     "output_type": "stream",
     "text": [
      "Unexpected error: <class 'AssertionError'>\n",
      "Unexpected error: <class 'AssertionError'>\n"
     ]
    },
    {
     "name": "stderr",
     "output_type": "stream",
     "text": [
      " 19%|████████████████████████▏                                                                                                        | 112/598 [23:30<2:14:56, 16.66s/it]"
     ]
    },
    {
     "name": "stdout",
     "output_type": "stream",
     "text": [
      "Unexpected error: <class 'AssertionError'>\n",
      "Unexpected error: <class 'AssertionError'>\n",
      "Unexpected error: <class 'AssertionError'>\n",
      "Unexpected error: <class 'AssertionError'>\n",
      "Unexpected error: <class 'AssertionError'>\n"
     ]
    },
    {
     "name": "stderr",
     "output_type": "stream",
     "text": [
      " 19%|████████████████████████▍                                                                                                        | 113/598 [23:40<1:58:23, 14.65s/it]"
     ]
    },
    {
     "name": "stdout",
     "output_type": "stream",
     "text": [
      "Unexpected error: <class 'AssertionError'>\n",
      "Unexpected error: <class 'AssertionError'>\n",
      "Unexpected error: <class 'AssertionError'>\n"
     ]
    },
    {
     "name": "stderr",
     "output_type": "stream",
     "text": [
      " 19%|████████████████████████▌                                                                                                        | 114/598 [23:58<2:05:53, 15.61s/it]"
     ]
    },
    {
     "name": "stdout",
     "output_type": "stream",
     "text": [
      "Unexpected error: <class 'AssertionError'>\n",
      "Unexpected error: <class 'AssertionError'>\n"
     ]
    },
    {
     "name": "stderr",
     "output_type": "stream",
     "text": [
      " 19%|█████████████████████████                                                                                                        | 116/598 [24:33<2:13:33, 16.62s/it]"
     ]
    },
    {
     "name": "stdout",
     "output_type": "stream",
     "text": [
      "Unexpected error: <class 'ValueError'>\n",
      "Unexpected error: <class 'ValueError'>\n"
     ]
    },
    {
     "name": "stderr",
     "output_type": "stream",
     "text": [
      " 20%|█████████████████████████▉                                                                                                       | 120/598 [25:15<1:38:56, 12.42s/it]"
     ]
    },
    {
     "name": "stdout",
     "output_type": "stream",
     "text": [
      "Unexpected error: <class 'AssertionError'>\n",
      "Unexpected error: <class 'AssertionError'>\n"
     ]
    },
    {
     "name": "stderr",
     "output_type": "stream",
     "text": [
      " 20%|██████████████████████████                                                                                                       | 121/598 [25:26<1:33:53, 11.81s/it]"
     ]
    },
    {
     "name": "stdout",
     "output_type": "stream",
     "text": [
      "Unexpected error: <class 'SyntaxError'>\n"
     ]
    },
    {
     "name": "stderr",
     "output_type": "stream",
     "text": [
      " 22%|████████████████████████████▎                                                                                                    | 131/598 [27:34<1:41:21, 13.02s/it]"
     ]
    },
    {
     "name": "stdout",
     "output_type": "stream",
     "text": [
      "Unexpected error: <class 'AssertionError'>\n"
     ]
    },
    {
     "name": "stderr",
     "output_type": "stream",
     "text": [
      " 22%|████████████████████████████▍                                                                                                    | 132/598 [27:42<1:28:36, 11.41s/it]"
     ]
    },
    {
     "name": "stdout",
     "output_type": "stream",
     "text": [
      "Unexpected error: <class 'AssertionError'>\n",
      "Unexpected error: <class 'AssertionError'>\n",
      "Unexpected error: <class 'AssertionError'>\n",
      "Unexpected error: <class 'AssertionError'>\n",
      "Unexpected error: <class 'AssertionError'>\n",
      "Unexpected error: <class 'AssertionError'>\n",
      "Unexpected error: <class 'AssertionError'>\n",
      "Unexpected error: <class 'AssertionError'>\n",
      "Unexpected error: <class 'AssertionError'>\n",
      "Unexpected error: <class 'AssertionError'>\n"
     ]
    },
    {
     "name": "stderr",
     "output_type": "stream",
     "text": [
      " 22%|████████████████████████████▋                                                                                                    | 133/598 [28:02<1:49:04, 14.07s/it]"
     ]
    },
    {
     "name": "stdout",
     "output_type": "stream",
     "text": [
      "Unexpected error: <class 'AssertionError'>\n",
      "Unexpected error: <class 'AssertionError'>\n"
     ]
    },
    {
     "name": "stderr",
     "output_type": "stream",
     "text": [
      " 27%|██████████████████████████████████▋                                                                                              | 161/598 [34:40<1:38:56, 13.58s/it]"
     ]
    },
    {
     "name": "stdout",
     "output_type": "stream",
     "text": [
      "Unexpected error: <class 'ValueError'>\n",
      "Unexpected error: <class 'SyntaxError'>\n",
      "Unexpected error: <class 'ValueError'>\n",
      "Unexpected error: <class 'ValueError'>\n",
      "Unexpected error: <class 'ValueError'>\n"
     ]
    },
    {
     "name": "stderr",
     "output_type": "stream",
     "text": [
      " 27%|██████████████████████████████████▉                                                                                              | 162/598 [34:47<1:24:04, 11.57s/it]"
     ]
    },
    {
     "name": "stdout",
     "output_type": "stream",
     "text": [
      "Unexpected error: <class 'ValueError'>\n",
      "Unexpected error: <class 'ValueError'>\n"
     ]
    },
    {
     "name": "stderr",
     "output_type": "stream",
     "text": [
      " 27%|███████████████████████████████████▍                                                                                             | 164/598 [35:07<1:18:24, 10.84s/it]"
     ]
    },
    {
     "name": "stdout",
     "output_type": "stream",
     "text": [
      "Unexpected error: <class 'AssertionError'>\n",
      "Unexpected error: <class 'AssertionError'>\n"
     ]
    },
    {
     "name": "stderr",
     "output_type": "stream",
     "text": [
      " 28%|████████████████████████████████████▍                                                                                            | 169/598 [36:36<1:59:32, 16.72s/it]"
     ]
    },
    {
     "name": "stdout",
     "output_type": "stream",
     "text": [
      "Unexpected error: <class 'AssertionError'>\n",
      "Unexpected error: <class 'AssertionError'>\n",
      "Unexpected error: <class 'AssertionError'>\n",
      "Unexpected error: <class 'AssertionError'>\n"
     ]
    },
    {
     "name": "stderr",
     "output_type": "stream",
     "text": [
      " 29%|█████████████████████████████████████▎                                                                                           | 173/598 [37:41<1:52:29, 15.88s/it]"
     ]
    },
    {
     "name": "stdout",
     "output_type": "stream",
     "text": [
      "Unexpected error: <class 'AssertionError'>\n"
     ]
    },
    {
     "name": "stderr",
     "output_type": "stream",
     "text": [
      " 29%|█████████████████████████████████████▌                                                                                           | 174/598 [38:02<2:03:01, 17.41s/it]"
     ]
    },
    {
     "name": "stdout",
     "output_type": "stream",
     "text": [
      "Unexpected error: <class 'AssertionError'>\n"
     ]
    },
    {
     "name": "stderr",
     "output_type": "stream",
     "text": [
      " 31%|████████████████████████████████████████▎                                                                                        | 187/598 [41:21<1:53:10, 16.52s/it]"
     ]
    },
    {
     "name": "stdout",
     "output_type": "stream",
     "text": [
      "Unexpected error: <class 'ValueError'>\n"
     ]
    },
    {
     "name": "stderr",
     "output_type": "stream",
     "text": [
      " 31%|████████████████████████████████████████▌                                                                                        | 188/598 [41:26<1:29:03, 13.03s/it]"
     ]
    },
    {
     "name": "stdout",
     "output_type": "stream",
     "text": [
      "Unexpected error: <class 'ValueError'>\n"
     ]
    },
    {
     "name": "stderr",
     "output_type": "stream",
     "text": [
      " 32%|█████████████████████████████████████████▍                                                                                       | 192/598 [42:19<1:41:38, 15.02s/it]"
     ]
    },
    {
     "name": "stdout",
     "output_type": "stream",
     "text": [
      "Unexpected error: <class 'AssertionError'>\n",
      "Unexpected error: <class 'AssertionError'>\n",
      "Unexpected error: <class 'AssertionError'>\n"
     ]
    },
    {
     "name": "stderr",
     "output_type": "stream",
     "text": [
      " 32%|█████████████████████████████████████████▋                                                                                       | 193/598 [42:30<1:34:02, 13.93s/it]"
     ]
    },
    {
     "name": "stdout",
     "output_type": "stream",
     "text": [
      "Unexpected error: <class 'AssertionError'>\n"
     ]
    },
    {
     "name": "stderr",
     "output_type": "stream",
     "text": [
      " 33%|██████████████████████████████████████████▋                                                                                      | 198/598 [43:38<1:24:46, 12.72s/it]"
     ]
    },
    {
     "name": "stdout",
     "output_type": "stream",
     "text": [
      "Unexpected error: <class 'AssertionError'>\n",
      "Unexpected error: <class 'AssertionError'>\n"
     ]
    },
    {
     "name": "stderr",
     "output_type": "stream",
     "text": [
      " 34%|███████████████████████████████████████████▌                                                                                     | 202/598 [44:38<1:31:48, 13.91s/it]"
     ]
    },
    {
     "name": "stdout",
     "output_type": "stream",
     "text": [
      "Unexpected error: <class 'ValueError'>\n",
      "Unexpected error: <class 'ValueError'>\n"
     ]
    },
    {
     "name": "stderr",
     "output_type": "stream",
     "text": [
      " 36%|███████████████████████████████████████████████                                                                                  | 218/598 [48:10<1:19:22, 12.53s/it]"
     ]
    },
    {
     "name": "stdout",
     "output_type": "stream",
     "text": [
      "Unexpected error: <class 'ValueError'>\n"
     ]
    },
    {
     "name": "stderr",
     "output_type": "stream",
     "text": [
      " 37%|███████████████████████████████████████████████▏                                                                                 | 219/598 [48:15<1:06:14, 10.49s/it]"
     ]
    },
    {
     "name": "stdout",
     "output_type": "stream",
     "text": [
      "Unexpected error: <class 'ValueError'>\n",
      "Unexpected error: <class 'ValueError'>\n"
     ]
    },
    {
     "name": "stderr",
     "output_type": "stream",
     "text": [
      " 37%|████████████████████████████████████████████████▏                                                                                  | 220/598 [48:23<59:42,  9.48s/it]"
     ]
    },
    {
     "name": "stdout",
     "output_type": "stream",
     "text": [
      "Unexpected error: <class 'ValueError'>\n"
     ]
    },
    {
     "name": "stderr",
     "output_type": "stream",
     "text": [
      " 39%|██████████████████████████████████████████████████▍                                                                              | 234/598 [51:38<1:27:06, 14.36s/it]"
     ]
    },
    {
     "name": "stdout",
     "output_type": "stream",
     "text": [
      "Unexpected error: <class 'ValueError'>\n"
     ]
    },
    {
     "name": "stderr",
     "output_type": "stream",
     "text": [
      " 39%|██████████████████████████████████████████████████▉                                                                              | 236/598 [52:03<1:25:04, 14.10s/it]"
     ]
    },
    {
     "name": "stdout",
     "output_type": "stream",
     "text": [
      "Unexpected error: <class 'AssertionError'>\n",
      "Unexpected error: <class 'AssertionError'>\n",
      "Unexpected error: <class 'AssertionError'>\n"
     ]
    },
    {
     "name": "stderr",
     "output_type": "stream",
     "text": [
      " 40%|███████████████████████████████████████████████████▏                                                                             | 237/598 [52:12<1:15:28, 12.54s/it]"
     ]
    },
    {
     "name": "stdout",
     "output_type": "stream",
     "text": [
      "Unexpected error: <class 'ValueError'>\n",
      "Unexpected error: <class 'ValueError'>\n"
     ]
    },
    {
     "name": "stderr",
     "output_type": "stream",
     "text": [
      " 40%|████████████████████████████████████████████████████▏                                                                            | 242/598 [53:20<1:23:28, 14.07s/it]"
     ]
    },
    {
     "name": "stdout",
     "output_type": "stream",
     "text": [
      "Unexpected error: <class 'AssertionError'>\n"
     ]
    },
    {
     "name": "stderr",
     "output_type": "stream",
     "text": [
      " 42%|█████████████████████████████████████████████████████▋                                                                           | 249/598 [54:58<1:26:59, 14.96s/it]"
     ]
    },
    {
     "name": "stdout",
     "output_type": "stream",
     "text": [
      "Unexpected error: <class 'AssertionError'>\n",
      "Unexpected error: <class 'AssertionError'>\n",
      "Unexpected error: <class 'AssertionError'>\n",
      "Unexpected error: <class 'AssertionError'>\n",
      "Unexpected error: <class 'AssertionError'>\n",
      "Unexpected error: <class 'AssertionError'>\n"
     ]
    },
    {
     "name": "stderr",
     "output_type": "stream",
     "text": [
      " 42%|█████████████████████████████████████████████████████▉                                                                           | 250/598 [55:14<1:28:53, 15.33s/it]"
     ]
    },
    {
     "name": "stdout",
     "output_type": "stream",
     "text": [
      "Unexpected error: <class 'AssertionError'>\n"
     ]
    },
    {
     "name": "stderr",
     "output_type": "stream",
     "text": [
      " 43%|███████████████████████████████████████████████████████▋                                                                         | 258/598 [57:11<1:27:34, 15.45s/it]"
     ]
    },
    {
     "name": "stdout",
     "output_type": "stream",
     "text": [
      "Unexpected error: <class 'AssertionError'>\n",
      "Unexpected error: <class 'AssertionError'>\n",
      "Unexpected error: <class 'AssertionError'>\n",
      "Unexpected error: <class 'AssertionError'>\n",
      "Unexpected error: <class 'AssertionError'>\n"
     ]
    },
    {
     "name": "stderr",
     "output_type": "stream",
     "text": [
      " 43%|███████████████████████████████████████████████████████▊                                                                         | 259/598 [57:22<1:18:59, 13.98s/it]"
     ]
    },
    {
     "name": "stdout",
     "output_type": "stream",
     "text": [
      "Unexpected error: <class 'AssertionError'>\n",
      "Unexpected error: <class 'AssertionError'>\n"
     ]
    },
    {
     "name": "stderr",
     "output_type": "stream",
     "text": [
      " 44%|████████████████████████████████████████████████████████▎                                                                        | 261/598 [57:50<1:21:50, 14.57s/it]"
     ]
    },
    {
     "name": "stdout",
     "output_type": "stream",
     "text": [
      "Unexpected error: <class 'AssertionError'>\n"
     ]
    },
    {
     "name": "stderr",
     "output_type": "stream",
     "text": [
      " 44%|████████████████████████████████████████████████████████▌                                                                        | 262/598 [57:59<1:11:49, 12.83s/it]"
     ]
    },
    {
     "name": "stdout",
     "output_type": "stream",
     "text": [
      "Unexpected error: <class 'AssertionError'>\n"
     ]
    },
    {
     "name": "stderr",
     "output_type": "stream",
     "text": [
      " 44%|████████████████████████████████████████████████████████▋                                                                        | 263/598 [58:10<1:08:52, 12.33s/it]"
     ]
    },
    {
     "name": "stdout",
     "output_type": "stream",
     "text": [
      "Unexpected error: <class 'AssertionError'>\n",
      "Unexpected error: <class 'AssertionError'>\n",
      "Unexpected error: <class 'AssertionError'>\n",
      "Unexpected error: <class 'AssertionError'>\n",
      "Unexpected error: <class 'AssertionError'>\n",
      "Unexpected error: <class 'AssertionError'>\n"
     ]
    },
    {
     "name": "stderr",
     "output_type": "stream",
     "text": [
      " 44%|████████████████████████████████████████████████████████▉                                                                        | 264/598 [58:22<1:07:30, 12.13s/it]"
     ]
    },
    {
     "name": "stdout",
     "output_type": "stream",
     "text": [
      "Unexpected error: <class 'AssertionError'>\n"
     ]
    },
    {
     "name": "stderr",
     "output_type": "stream",
     "text": [
      " 46%|██████████████████████████████████████████████████████████▊                                                                    | 277/598 [1:01:34<1:29:07, 16.66s/it]"
     ]
    },
    {
     "name": "stdout",
     "output_type": "stream",
     "text": [
      "Unexpected error: <class 'AssertionError'>\n",
      "Unexpected error: <class 'AssertionError'>\n",
      "Unexpected error: <class 'AssertionError'>\n",
      "Unexpected error: <class 'AssertionError'>\n"
     ]
    },
    {
     "name": "stderr",
     "output_type": "stream",
     "text": [
      " 46%|███████████████████████████████████████████████████████████                                                                    | 278/598 [1:01:43<1:16:51, 14.41s/it]"
     ]
    },
    {
     "name": "stdout",
     "output_type": "stream",
     "text": [
      "Unexpected error: <class 'AssertionError'>\n"
     ]
    },
    {
     "name": "stderr",
     "output_type": "stream",
     "text": [
      " 47%|███████████████████████████████████████████████████████████▋                                                                   | 281/598 [1:02:34<1:28:32, 16.76s/it]"
     ]
    },
    {
     "name": "stdout",
     "output_type": "stream",
     "text": [
      "Unexpected error: <class 'AssertionError'>\n",
      "Unexpected error: <class 'AssertionError'>\n"
     ]
    },
    {
     "name": "stderr",
     "output_type": "stream",
     "text": [
      " 48%|█████████████████████████████████████████████████████████████▌                                                                 | 290/598 [1:04:55<1:26:57, 16.94s/it]"
     ]
    },
    {
     "name": "stdout",
     "output_type": "stream",
     "text": [
      "Unexpected error: <class 'AssertionError'>\n",
      "Unexpected error: <class 'AssertionError'>\n",
      "Unexpected error: <class 'AssertionError'>\n",
      "Unexpected error: <class 'AssertionError'>\n",
      "Unexpected error: <class 'AssertionError'>\n",
      "Unexpected error: <class 'AssertionError'>\n"
     ]
    },
    {
     "name": "stderr",
     "output_type": "stream",
     "text": [
      " 49%|█████████████████████████████████████████████████████████████▊                                                                 | 291/598 [1:05:12<1:26:15, 16.86s/it]"
     ]
    },
    {
     "name": "stdout",
     "output_type": "stream",
     "text": [
      "Unexpected error: <class 'AssertionError'>\n"
     ]
    },
    {
     "name": "stderr",
     "output_type": "stream",
     "text": [
      " 49%|██████████████████████████████████████████████████████████████▏                                                                | 293/598 [1:05:49<1:29:58, 17.70s/it]"
     ]
    },
    {
     "name": "stdout",
     "output_type": "stream",
     "text": [
      "Unexpected error: <class 'AssertionError'>\n",
      "Unexpected error: <class 'AssertionError'>\n",
      "Unexpected error: <class 'AssertionError'>\n",
      "Unexpected error: <class 'AssertionError'>\n"
     ]
    },
    {
     "name": "stderr",
     "output_type": "stream",
     "text": [
      " 49%|██████████████████████████████████████████████████████████████▍                                                                | 294/598 [1:06:01<1:21:56, 16.17s/it]"
     ]
    },
    {
     "name": "stdout",
     "output_type": "stream",
     "text": [
      "Unexpected error: <class 'AssertionError'>\n"
     ]
    },
    {
     "name": "stderr",
     "output_type": "stream",
     "text": [
      " 51%|████████████████████████████████████████████████████████████████▌                                                              | 304/598 [1:08:24<1:19:23, 16.20s/it]"
     ]
    },
    {
     "name": "stdout",
     "output_type": "stream",
     "text": [
      "Unexpected error: <class 'AssertionError'>\n",
      "Unexpected error: <class 'AssertionError'>\n"
     ]
    },
    {
     "name": "stderr",
     "output_type": "stream",
     "text": [
      " 51%|████████████████████████████████████████████████████████████████▊                                                              | 305/598 [1:08:36<1:12:13, 14.79s/it]"
     ]
    },
    {
     "name": "stdout",
     "output_type": "stream",
     "text": [
      "Unexpected error: <class 'AssertionError'>\n",
      "Unexpected error: <class 'AssertionError'>\n"
     ]
    },
    {
     "name": "stderr",
     "output_type": "stream",
     "text": [
      " 51%|████████████████████████████████████████████████████████████████▉                                                              | 306/598 [1:08:44<1:03:13, 12.99s/it]"
     ]
    },
    {
     "name": "stdout",
     "output_type": "stream",
     "text": [
      "Unexpected error: <class 'AssertionError'>\n"
     ]
    },
    {
     "name": "stderr",
     "output_type": "stream",
     "text": [
      " 52%|██████████████████████████████████████████████████████████████████▍                                                            | 313/598 [1:10:45<1:23:35, 17.60s/it]"
     ]
    },
    {
     "name": "stdout",
     "output_type": "stream",
     "text": [
      "Unexpected error: <class 'AssertionError'>\n",
      "Unexpected error: <class 'AssertionError'>\n",
      "Unexpected error: <class 'AssertionError'>\n",
      "Unexpected error: <class 'AssertionError'>\n",
      "Unexpected error: <class 'AssertionError'>\n"
     ]
    },
    {
     "name": "stderr",
     "output_type": "stream",
     "text": [
      " 53%|██████████████████████████████████████████████████████████████████▋                                                            | 314/598 [1:10:57<1:15:24, 15.93s/it]"
     ]
    },
    {
     "name": "stdout",
     "output_type": "stream",
     "text": [
      "Unexpected error: <class 'AssertionError'>\n",
      "Unexpected error: <class 'AssertionError'>\n"
     ]
    },
    {
     "name": "stderr",
     "output_type": "stream",
     "text": [
      " 53%|███████████████████████████████████████████████████████████████████                                                            | 316/598 [1:11:26<1:13:35, 15.66s/it]"
     ]
    },
    {
     "name": "stdout",
     "output_type": "stream",
     "text": [
      "Unexpected error: <class 'AssertionError'>\n",
      "Unexpected error: <class 'AssertionError'>\n",
      "Unexpected error: <class 'AssertionError'>\n",
      "Unexpected error: <class 'AssertionError'>\n",
      "Unexpected error: <class 'AssertionError'>\n"
     ]
    },
    {
     "name": "stderr",
     "output_type": "stream",
     "text": [
      " 53%|███████████████████████████████████████████████████████████████████▎                                                           | 317/598 [1:11:37<1:07:10, 14.34s/it]"
     ]
    },
    {
     "name": "stdout",
     "output_type": "stream",
     "text": [
      "Unexpected error: <class 'AssertionError'>\n",
      "Unexpected error: <class 'AssertionError'>\n"
     ]
    },
    {
     "name": "stderr",
     "output_type": "stream",
     "text": [
      " 54%|█████████████████████████████████████████████████████████████████████                                                          | 325/598 [1:14:20<1:52:33, 24.74s/it]"
     ]
    },
    {
     "name": "stdout",
     "output_type": "stream",
     "text": [
      "Unexpected error: <class 'AssertionError'>\n",
      "Unexpected error: <class 'AssertionError'>\n"
     ]
    },
    {
     "name": "stderr",
     "output_type": "stream",
     "text": [
      " 55%|█████████████████████████████████████████████████████████████████████▊                                                         | 329/598 [1:15:17<1:15:10, 16.77s/it]"
     ]
    },
    {
     "name": "stdout",
     "output_type": "stream",
     "text": [
      "Unexpected error: <class 'AssertionError'>\n",
      "Unexpected error: <class 'AssertionError'>\n",
      "Unexpected error: <class 'AssertionError'>\n"
     ]
    },
    {
     "name": "stderr",
     "output_type": "stream",
     "text": [
      " 56%|██████████████████████████████████████████████████████████████████████▋                                                        | 333/598 [1:16:04<1:02:38, 14.18s/it]"
     ]
    },
    {
     "name": "stdout",
     "output_type": "stream",
     "text": [
      "Unexpected error: <class 'AssertionError'>\n",
      "Unexpected error: <class 'AssertionError'>\n",
      "Unexpected error: <class 'AssertionError'>\n",
      "Unexpected error: <class 'AssertionError'>\n",
      "Unexpected error: <class 'AssertionError'>\n",
      "Unexpected error: <class 'AssertionError'>\n",
      "Unexpected error: <class 'AssertionError'>\n"
     ]
    },
    {
     "name": "stderr",
     "output_type": "stream",
     "text": [
      " 56%|██████████████████████████████████████████████████████████████████████▉                                                        | 334/598 [1:16:17<1:00:34, 13.77s/it]"
     ]
    },
    {
     "name": "stdout",
     "output_type": "stream",
     "text": [
      "Unexpected error: <class 'AssertionError'>\n",
      "Unexpected error: <class 'AssertionError'>\n"
     ]
    },
    {
     "name": "stderr",
     "output_type": "stream",
     "text": [
      " 56%|███████████████████████████████████████████████████████████████████████▏                                                       | 335/598 [1:16:35<1:06:06, 15.08s/it]"
     ]
    },
    {
     "name": "stdout",
     "output_type": "stream",
     "text": [
      "Unexpected error: <class 'AssertionError'>\n",
      "Unexpected error: <class 'AssertionError'>\n",
      "Unexpected error: <class 'AssertionError'>\n"
     ]
    },
    {
     "name": "stderr",
     "output_type": "stream",
     "text": [
      " 56%|████████████████████████████████████████████████████████████████████████▍                                                        | 336/598 [1:16:45<59:34, 13.64s/it]"
     ]
    },
    {
     "name": "stdout",
     "output_type": "stream",
     "text": [
      "Unexpected error: <class 'AssertionError'>\n",
      "Unexpected error: <class 'AssertionError'>\n"
     ]
    },
    {
     "name": "stderr",
     "output_type": "stream",
     "text": [
      " 57%|████████████████████████████████████████████████████████████████████████▏                                                      | 340/598 [1:17:41<1:00:37, 14.10s/it]"
     ]
    },
    {
     "name": "stdout",
     "output_type": "stream",
     "text": [
      "Unexpected error: <class 'AssertionError'>\n",
      "Unexpected error: <class 'AssertionError'>\n",
      "Unexpected error: <class 'AssertionError'>\n"
     ]
    },
    {
     "name": "stderr",
     "output_type": "stream",
     "text": [
      " 57%|█████████████████████████████████████████████████████████████████████████▊                                                       | 342/598 [1:18:06<58:02, 13.60s/it]"
     ]
    },
    {
     "name": "stdout",
     "output_type": "stream",
     "text": [
      "Unexpected error: <class 'AssertionError'>\n"
     ]
    },
    {
     "name": "stderr",
     "output_type": "stream",
     "text": [
      " 59%|████████████████████████████████████████████████████████████████████████████▎                                                    | 354/598 [1:20:25<41:22, 10.17s/it]"
     ]
    },
    {
     "name": "stdout",
     "output_type": "stream",
     "text": [
      "Unexpected error: <class 'ValueError'>\n",
      "Unexpected error: <class 'ValueError'>\n"
     ]
    },
    {
     "name": "stderr",
     "output_type": "stream",
     "text": [
      " 59%|████████████████████████████████████████████████████████████████████████████▌                                                    | 355/598 [1:20:31<36:26,  9.00s/it]"
     ]
    },
    {
     "name": "stdout",
     "output_type": "stream",
     "text": [
      "Unexpected error: <class 'AssertionError'>\n",
      "Unexpected error: <class 'AssertionError'>\n",
      "Unexpected error: <class 'AssertionError'>\n",
      "Unexpected error: <class 'AssertionError'>\n",
      "Unexpected error: <class 'AssertionError'>\n",
      "Unexpected error: <class 'AssertionError'>\n",
      "Unexpected error: <class 'AssertionError'>\n",
      "Unexpected error: <class 'AssertionError'>\n"
     ]
    },
    {
     "name": "stderr",
     "output_type": "stream",
     "text": [
      " 60%|████████████████████████████████████████████████████████████████████████████▊                                                    | 356/598 [1:20:41<37:09,  9.21s/it]"
     ]
    },
    {
     "name": "stdout",
     "output_type": "stream",
     "text": [
      "Unexpected error: <class 'AssertionError'>\n",
      "Unexpected error: <class 'AssertionError'>\n"
     ]
    },
    {
     "name": "stderr",
     "output_type": "stream",
     "text": [
      " 60%|█████████████████████████████████████████████████████████████████████████████▊                                                   | 361/598 [1:21:43<50:02, 12.67s/it]"
     ]
    },
    {
     "name": "stdout",
     "output_type": "stream",
     "text": [
      "Unexpected error: <class 'AssertionError'>\n"
     ]
    },
    {
     "name": "stderr",
     "output_type": "stream",
     "text": [
      " 62%|██████████████████████████████████████████████████████████████████████████████▏                                                | 368/598 [1:23:30<1:01:25, 16.02s/it]"
     ]
    },
    {
     "name": "stdout",
     "output_type": "stream",
     "text": [
      "Unexpected error: <class 'AssertionError'>\n",
      "Unexpected error: <class 'AssertionError'>\n",
      "Unexpected error: <class 'AssertionError'>\n",
      "Unexpected error: <class 'AssertionError'>\n",
      "Unexpected error: <class 'AssertionError'>\n",
      "Unexpected error: <class 'AssertionError'>\n"
     ]
    },
    {
     "name": "stderr",
     "output_type": "stream",
     "text": [
      " 62%|███████████████████████████████████████████████████████████████████████████████▌                                                 | 369/598 [1:23:42<56:45, 14.87s/it]"
     ]
    },
    {
     "name": "stdout",
     "output_type": "stream",
     "text": [
      "Unexpected error: <class 'AssertionError'>\n",
      "Unexpected error: <class 'AssertionError'>\n"
     ]
    },
    {
     "name": "stderr",
     "output_type": "stream",
     "text": [
      " 62%|████████████████████████████████████████████████████████████████████████████████▏                                                | 372/598 [1:24:26<52:05, 13.83s/it]"
     ]
    },
    {
     "name": "stdout",
     "output_type": "stream",
     "text": [
      "Unexpected error: <class 'AssertionError'>\n",
      "Unexpected error: <class 'AssertionError'>\n",
      "Unexpected error: <class 'AssertionError'>\n",
      "Unexpected error: <class 'AssertionError'>\n",
      "Unexpected error: <class 'AssertionError'>\n",
      "Unexpected error: <class 'AssertionError'>\n",
      "Unexpected error: <class 'AssertionError'>\n",
      "Unexpected error: <class 'AssertionError'>\n",
      "Unexpected error: <class 'AssertionError'>\n"
     ]
    },
    {
     "name": "stderr",
     "output_type": "stream",
     "text": [
      " 62%|████████████████████████████████████████████████████████████████████████████████▍                                                | 373/598 [1:24:35<47:02, 12.54s/it]"
     ]
    },
    {
     "name": "stdout",
     "output_type": "stream",
     "text": [
      "Unexpected error: <class 'AssertionError'>\n",
      "Unexpected error: <class 'AssertionError'>\n"
     ]
    },
    {
     "name": "stderr",
     "output_type": "stream",
     "text": [
      " 64%|███████████████████████████████████████████████████████████████████████████████████                                              | 385/598 [1:27:15<49:56, 14.07s/it]"
     ]
    },
    {
     "name": "stdout",
     "output_type": "stream",
     "text": [
      "Unexpected error: <class 'AssertionError'>\n",
      "Unexpected error: <class 'AssertionError'>\n",
      "Unexpected error: <class 'AssertionError'>\n",
      "Unexpected error: <class 'AssertionError'>\n",
      "Unexpected error: <class 'AssertionError'>\n",
      "Unexpected error: <class 'AssertionError'>\n"
     ]
    },
    {
     "name": "stderr",
     "output_type": "stream",
     "text": [
      " 65%|███████████████████████████████████████████████████████████████████████████████████▎                                             | 386/598 [1:27:27<47:48, 13.53s/it]"
     ]
    },
    {
     "name": "stdout",
     "output_type": "stream",
     "text": [
      "Unexpected error: <class 'AssertionError'>\n",
      "Unexpected error: <class 'AssertionError'>\n"
     ]
    },
    {
     "name": "stderr",
     "output_type": "stream",
     "text": [
      " 66%|█████████████████████████████████████████████████████████████████████████████████████▋                                           | 397/598 [1:30:09<48:23, 14.44s/it]"
     ]
    },
    {
     "name": "stdout",
     "output_type": "stream",
     "text": [
      "Unexpected error: <class 'AssertionError'>\n"
     ]
    },
    {
     "name": "stderr",
     "output_type": "stream",
     "text": [
      " 67%|██████████████████████████████████████████████████████████████████████████████████████                                           | 399/598 [1:30:41<49:00, 14.78s/it]"
     ]
    },
    {
     "name": "stdout",
     "output_type": "stream",
     "text": [
      "Unexpected error: <class 'AssertionError'>\n",
      "Unexpected error: <class 'AssertionError'>\n",
      "Unexpected error: <class 'AssertionError'>\n",
      "Unexpected error: <class 'AssertionError'>\n",
      "Unexpected error: <class 'AssertionError'>\n",
      "Unexpected error: <class 'AssertionError'>\n"
     ]
    },
    {
     "name": "stderr",
     "output_type": "stream",
     "text": [
      " 70%|█████████████████████████████████████████████████████████████████████████████████████████▋                                       | 416/598 [1:34:56<50:23, 16.61s/it]"
     ]
    },
    {
     "name": "stdout",
     "output_type": "stream",
     "text": [
      "Unexpected error: <class 'AssertionError'>\n",
      "Unexpected error: <class 'AssertionError'>\n",
      "Unexpected error: <class 'AssertionError'>\n",
      "Unexpected error: <class 'AssertionError'>\n",
      "Unexpected error: <class 'AssertionError'>\n",
      "Unexpected error: <class 'AssertionError'>\n",
      "Unexpected error: <class 'AssertionError'>\n",
      "Unexpected error: <class 'AssertionError'>\n",
      "Unexpected error: <class 'AssertionError'>\n"
     ]
    },
    {
     "name": "stderr",
     "output_type": "stream",
     "text": [
      " 70%|█████████████████████████████████████████████████████████████████████████████████████████▉                                       | 417/598 [1:35:11<49:06, 16.28s/it]"
     ]
    },
    {
     "name": "stdout",
     "output_type": "stream",
     "text": [
      "Unexpected error: <class 'AssertionError'>\n",
      "Unexpected error: <class 'AssertionError'>\n"
     ]
    },
    {
     "name": "stderr",
     "output_type": "stream",
     "text": [
      " 70%|██████████████████████████████████████████████████████████████████████████████████████████▍                                      | 419/598 [1:35:56<57:59, 19.44s/it]"
     ]
    },
    {
     "name": "stdout",
     "output_type": "stream",
     "text": [
      "Unexpected error: <class 'AssertionError'>\n",
      "Unexpected error: <class 'AssertionError'>\n"
     ]
    },
    {
     "name": "stderr",
     "output_type": "stream",
     "text": [
      " 70%|██████████████████████████████████████████████████████████████████████████████████████████▌                                      | 420/598 [1:36:07<49:47, 16.78s/it]"
     ]
    },
    {
     "name": "stdout",
     "output_type": "stream",
     "text": [
      "Unexpected error: <class 'AssertionError'>\n",
      "Unexpected error: <class 'AssertionError'>\n",
      "Unexpected error: <class 'AssertionError'>\n"
     ]
    },
    {
     "name": "stderr",
     "output_type": "stream",
     "text": [
      " 70%|██████████████████████████████████████████████████████████████████████████████████████████▊                                      | 421/598 [1:36:16<42:56, 14.56s/it]"
     ]
    },
    {
     "name": "stdout",
     "output_type": "stream",
     "text": [
      "Unexpected error: <class 'AssertionError'>\n",
      "Unexpected error: <class 'AssertionError'>\n",
      "Unexpected error: <class 'AssertionError'>\n",
      "Unexpected error: <class 'AssertionError'>\n",
      "Unexpected error: <class 'AssertionError'>\n"
     ]
    },
    {
     "name": "stderr",
     "output_type": "stream",
     "text": [
      " 71%|███████████████████████████████████████████████████████████████████████████████████████████                                      | 422/598 [1:36:29<40:57, 13.96s/it]"
     ]
    },
    {
     "name": "stdout",
     "output_type": "stream",
     "text": [
      "Unexpected error: <class 'AssertionError'>\n"
     ]
    },
    {
     "name": "stderr",
     "output_type": "stream",
     "text": [
      " 71%|███████████████████████████████████████████████████████████████████████████████████████████▍                                     | 424/598 [1:36:48<34:04, 11.75s/it]"
     ]
    },
    {
     "name": "stdout",
     "output_type": "stream",
     "text": [
      "Unexpected error: <class 'AssertionError'>\n",
      "Unexpected error: <class 'AssertionError'>\n",
      "Unexpected error: <class 'AssertionError'>\n"
     ]
    },
    {
     "name": "stderr",
     "output_type": "stream",
     "text": [
      " 73%|█████████████████████████████████████████████████████████████████████████████████████████████▌                                   | 434/598 [1:39:18<37:21, 13.67s/it]"
     ]
    },
    {
     "name": "stdout",
     "output_type": "stream",
     "text": [
      "Unexpected error: <class 'AssertionError'>\n",
      "Unexpected error: <class 'AssertionError'>\n",
      "Unexpected error: <class 'AssertionError'>\n",
      "Unexpected error: <class 'AssertionError'>\n",
      "Unexpected error: <class 'AssertionError'>\n",
      "Unexpected error: <class 'AssertionError'>\n",
      "Unexpected error: <class 'AssertionError'>\n",
      "Unexpected error: <class 'AssertionError'>\n",
      "Unexpected error: <class 'AssertionError'>\n"
     ]
    },
    {
     "name": "stderr",
     "output_type": "stream",
     "text": [
      " 73%|█████████████████████████████████████████████████████████████████████████████████████████████▊                                   | 435/598 [1:39:32<37:11, 13.69s/it]"
     ]
    },
    {
     "name": "stdout",
     "output_type": "stream",
     "text": [
      "Unexpected error: <class 'AssertionError'>\n",
      "Unexpected error: <class 'AssertionError'>\n",
      "Unexpected error: <class 'AssertionError'>\n",
      "Unexpected error: <class 'AssertionError'>\n",
      "Unexpected error: <class 'AssertionError'>\n"
     ]
    },
    {
     "name": "stderr",
     "output_type": "stream",
     "text": [
      " 73%|██████████████████████████████████████████████████████████████████████████████████████████████▋                                  | 439/598 [1:40:22<35:28, 13.39s/it]"
     ]
    },
    {
     "name": "stdout",
     "output_type": "stream",
     "text": [
      "Unexpected error: <class 'AssertionError'>\n",
      "Unexpected error: <class 'AssertionError'>\n"
     ]
    },
    {
     "name": "stderr",
     "output_type": "stream",
     "text": [
      " 74%|██████████████████████████████████████████████████████████████████████████████████████████████▉                                  | 440/598 [1:40:30<30:56, 11.75s/it]"
     ]
    },
    {
     "name": "stdout",
     "output_type": "stream",
     "text": [
      "Unexpected error: <class 'AssertionError'>\n",
      "Unexpected error: <class 'AssertionError'>\n",
      "Unexpected error: <class 'AssertionError'>\n"
     ]
    },
    {
     "name": "stderr",
     "output_type": "stream",
     "text": [
      " 75%|████████████████████████████████████████████████████████████████████████████████████████████████▊                                | 449/598 [1:42:31<36:31, 14.71s/it]"
     ]
    },
    {
     "name": "stdout",
     "output_type": "stream",
     "text": [
      "Unexpected error: <class 'ValueError'>\n"
     ]
    },
    {
     "name": "stderr",
     "output_type": "stream",
     "text": [
      " 77%|███████████████████████████████████████████████████████████████████████████████████████████████████▏                             | 460/598 [1:44:52<30:47, 13.39s/it]"
     ]
    },
    {
     "name": "stdout",
     "output_type": "stream",
     "text": [
      "Unexpected error: <class 'SyntaxError'>\n"
     ]
    },
    {
     "name": "stderr",
     "output_type": "stream",
     "text": [
      " 77%|███████████████████████████████████████████████████████████████████████████████████████████████████▉                             | 463/598 [1:45:45<36:36, 16.27s/it]"
     ]
    },
    {
     "name": "stdout",
     "output_type": "stream",
     "text": [
      "Unexpected error: <class 'AssertionError'>\n",
      "Unexpected error: <class 'AssertionError'>\n",
      "Unexpected error: <class 'AssertionError'>\n",
      "Unexpected error: <class 'AssertionError'>\n"
     ]
    },
    {
     "name": "stderr",
     "output_type": "stream",
     "text": [
      " 80%|███████████████████████████████████████████████████████████████████████████████████████████████████████▌                         | 480/598 [1:49:49<27:59, 14.23s/it]"
     ]
    },
    {
     "name": "stdout",
     "output_type": "stream",
     "text": [
      "Unexpected error: <class 'ValueError'>\n"
     ]
    },
    {
     "name": "stderr",
     "output_type": "stream",
     "text": [
      " 82%|█████████████████████████████████████████████████████████████████████████████████████████████████████████▎                       | 488/598 [1:51:32<23:21, 12.74s/it]"
     ]
    },
    {
     "name": "stdout",
     "output_type": "stream",
     "text": [
      "Unexpected error: <class 'AssertionError'>\n",
      "Unexpected error: <class 'AssertionError'>\n",
      "Unexpected error: <class 'AssertionError'>\n",
      "Unexpected error: <class 'AssertionError'>\n"
     ]
    },
    {
     "name": "stderr",
     "output_type": "stream",
     "text": [
      " 82%|█████████████████████████████████████████████████████████████████████████████████████████████████████████▍                       | 489/598 [1:51:43<21:56, 12.08s/it]"
     ]
    },
    {
     "name": "stdout",
     "output_type": "stream",
     "text": [
      "Unexpected error: <class 'AssertionError'>\n",
      "Unexpected error: <class 'AssertionError'>\n"
     ]
    },
    {
     "name": "stderr",
     "output_type": "stream",
     "text": [
      " 82%|██████████████████████████████████████████████████████████████████████████████████████████████████████████▏                      | 492/598 [1:52:26<24:50, 14.07s/it]"
     ]
    },
    {
     "name": "stdout",
     "output_type": "stream",
     "text": [
      "Unexpected error: <class 'AssertionError'>\n"
     ]
    },
    {
     "name": "stderr",
     "output_type": "stream",
     "text": [
      " 84%|████████████████████████████████████████████████████████████████████████████████████████████████████████████▋                    | 504/598 [1:55:04<16:18, 10.41s/it]"
     ]
    },
    {
     "name": "stdout",
     "output_type": "stream",
     "text": [
      "Unexpected error: <class 'AssertionError'>\n",
      "Unexpected error: <class 'AssertionError'>\n",
      "Unexpected error: <class 'AssertionError'>\n",
      "Unexpected error: <class 'AssertionError'>\n",
      "Unexpected error: <class 'AssertionError'>\n"
     ]
    },
    {
     "name": "stderr",
     "output_type": "stream",
     "text": [
      " 84%|████████████████████████████████████████████████████████████████████████████████████████████████████████████▉                    | 505/598 [1:55:14<15:36, 10.07s/it]"
     ]
    },
    {
     "name": "stdout",
     "output_type": "stream",
     "text": [
      "Unexpected error: <class 'SyntaxError'>\n",
      "Unexpected error: <class 'AssertionError'>\n"
     ]
    },
    {
     "name": "stderr",
     "output_type": "stream",
     "text": [
      " 85%|██████████████████████████████████████████████████████████████████████████████████████████████████████████████▏                  | 511/598 [1:56:37<20:56, 14.44s/it]"
     ]
    },
    {
     "name": "stdout",
     "output_type": "stream",
     "text": [
      "Unexpected error: <class 'AssertionError'>\n",
      "Unexpected error: <class 'AssertionError'>\n",
      "Unexpected error: <class 'AssertionError'>\n"
     ]
    },
    {
     "name": "stderr",
     "output_type": "stream",
     "text": [
      " 86%|██████████████████████████████████████████████████████████████████████████████████████████████████████████████▍                  | 512/598 [1:56:46<18:16, 12.75s/it]"
     ]
    },
    {
     "name": "stdout",
     "output_type": "stream",
     "text": [
      "Unexpected error: <class 'AssertionError'>\n"
     ]
    },
    {
     "name": "stderr",
     "output_type": "stream",
     "text": [
      " 86%|███████████████████████████████████████████████████████████████████████████████████████████████████████████████▎                 | 516/598 [1:57:42<18:49, 13.77s/it]"
     ]
    },
    {
     "name": "stdout",
     "output_type": "stream",
     "text": [
      "Unexpected error: <class 'AssertionError'>\n",
      "Unexpected error: <class 'AssertionError'>\n",
      "Unexpected error: <class 'AssertionError'>\n",
      "Unexpected error: <class 'AssertionError'>\n",
      "Unexpected error: <class 'AssertionError'>\n",
      "Unexpected error: <class 'AssertionError'>\n",
      "Unexpected error: <class 'AssertionError'>\n"
     ]
    },
    {
     "name": "stderr",
     "output_type": "stream",
     "text": [
      " 86%|███████████████████████████████████████████████████████████████████████████████████████████████████████████████▌                 | 517/598 [1:57:51<16:43, 12.39s/it]"
     ]
    },
    {
     "name": "stdout",
     "output_type": "stream",
     "text": [
      "Unexpected error: <class 'AssertionError'>\n",
      "Unexpected error: <class 'AssertionError'>\n"
     ]
    },
    {
     "name": "stderr",
     "output_type": "stream",
     "text": [
      " 87%|████████████████████████████████████████████████████████████████████████████████████████████████████████████████▏                | 520/598 [1:58:18<12:31,  9.64s/it]"
     ]
    },
    {
     "name": "stdout",
     "output_type": "stream",
     "text": [
      "Unexpected error: <class 'AssertionError'>\n"
     ]
    },
    {
     "name": "stderr",
     "output_type": "stream",
     "text": [
      " 88%|█████████████████████████████████████████████████████████████████████████████████████████████████████████████████▉               | 528/598 [1:59:32<11:10,  9.59s/it]"
     ]
    },
    {
     "name": "stdout",
     "output_type": "stream",
     "text": [
      "Unexpected error: <class 'ValueError'>\n"
     ]
    },
    {
     "name": "stderr",
     "output_type": "stream",
     "text": [
      " 88%|██████████████████████████████████████████████████████████████████████████████████████████████████████████████████               | 529/598 [1:59:35<08:47,  7.65s/it]"
     ]
    },
    {
     "name": "stdout",
     "output_type": "stream",
     "text": [
      "Unexpected error: <class 'AssertionError'>\n",
      "Unexpected error: <class 'AssertionError'>\n",
      "Unexpected error: <class 'AssertionError'>\n",
      "Unexpected error: <class 'AssertionError'>\n",
      "Unexpected error: <class 'AssertionError'>\n"
     ]
    },
    {
     "name": "stderr",
     "output_type": "stream",
     "text": [
      " 89%|██████████████████████████████████████████████████████████████████████████████████████████████████████████████████▎              | 530/598 [1:59:43<08:54,  7.86s/it]"
     ]
    },
    {
     "name": "stdout",
     "output_type": "stream",
     "text": [
      "Unexpected error: <class 'AssertionError'>\n"
     ]
    },
    {
     "name": "stderr",
     "output_type": "stream",
     "text": [
      " 89%|██████████████████████████████████████████████████████████████████████████████████████████████████████████████████▌              | 531/598 [1:59:59<11:14, 10.07s/it]"
     ]
    },
    {
     "name": "stdout",
     "output_type": "stream",
     "text": [
      "Unexpected error: <class 'AssertionError'>\n",
      "Unexpected error: <class 'AssertionError'>\n",
      "Unexpected error: <class 'AssertionError'>\n",
      "Unexpected error: <class 'AssertionError'>\n",
      "Unexpected error: <class 'AssertionError'>\n",
      "Unexpected error: <class 'AssertionError'>\n",
      "Unexpected error: <class 'AssertionError'>\n",
      "Unexpected error: <class 'AssertionError'>\n",
      "Unexpected error: <class 'AssertionError'>\n",
      "Unexpected error: <class 'AssertionError'>\n"
     ]
    },
    {
     "name": "stderr",
     "output_type": "stream",
     "text": [
      " 89%|██████████████████████████████████████████████████████████████████████████████████████████████████████████████████▊              | 532/598 [2:00:13<12:31, 11.38s/it]"
     ]
    },
    {
     "name": "stdout",
     "output_type": "stream",
     "text": [
      "Unexpected error: <class 'AssertionError'>\n",
      "Unexpected error: <class 'AssertionError'>\n",
      "Unexpected error: <class 'AssertionError'>\n",
      "Unexpected error: <class 'AssertionError'>\n"
     ]
    },
    {
     "name": "stderr",
     "output_type": "stream",
     "text": [
      " 90%|███████████████████████████████████████████████████████████████████████████████████████████████████████████████████▋             | 536/598 [2:00:50<09:47,  9.48s/it]"
     ]
    },
    {
     "name": "stdout",
     "output_type": "stream",
     "text": [
      "Unexpected error: <class 'AssertionError'>\n",
      "Unexpected error: <class 'AssertionError'>\n",
      "Unexpected error: <class 'AssertionError'>\n",
      "Unexpected error: <class 'AssertionError'>\n",
      "Unexpected error: <class 'AssertionError'>\n",
      "Unexpected error: <class 'AssertionError'>\n"
     ]
    },
    {
     "name": "stderr",
     "output_type": "stream",
     "text": [
      " 90%|███████████████████████████████████████████████████████████████████████████████████████████████████████████████████▊             | 537/598 [2:01:02<10:19, 10.15s/it]"
     ]
    },
    {
     "name": "stdout",
     "output_type": "stream",
     "text": [
      "Unexpected error: <class 'AssertionError'>\n",
      "Unexpected error: <class 'AssertionError'>\n"
     ]
    },
    {
     "name": "stderr",
     "output_type": "stream",
     "text": [
      " 93%|███████████████████████████████████████████████████████████████████████████████████████████████████████████████████████▌         | 554/598 [2:04:40<08:47, 12.00s/it]"
     ]
    },
    {
     "name": "stdout",
     "output_type": "stream",
     "text": [
      "Unexpected error: <class 'AssertionError'>\n"
     ]
    },
    {
     "name": "stderr",
     "output_type": "stream",
     "text": [
      " 93%|███████████████████████████████████████████████████████████████████████████████████████████████████████████████████████▋         | 555/598 [2:04:47<07:32, 10.51s/it]"
     ]
    },
    {
     "name": "stdout",
     "output_type": "stream",
     "text": [
      "Unexpected error: <class 'AssertionError'>\n"
     ]
    },
    {
     "name": "stderr",
     "output_type": "stream",
     "text": [
      " 94%|█████████████████████████████████████████████████████████████████████████████████████████████████████████████████████████        | 561/598 [2:05:59<06:45, 10.96s/it]"
     ]
    },
    {
     "name": "stdout",
     "output_type": "stream",
     "text": [
      "Unexpected error: <class 'AssertionError'>\n",
      "Unexpected error: <class 'AssertionError'>\n"
     ]
    },
    {
     "name": "stderr",
     "output_type": "stream",
     "text": [
      " 95%|██████████████████████████████████████████████████████████████████████████████████████████████████████████████████████████▎      | 567/598 [2:07:15<06:37, 12.84s/it]"
     ]
    },
    {
     "name": "stdout",
     "output_type": "stream",
     "text": [
      "Unexpected error: <class 'AssertionError'>\n",
      "Unexpected error: <class 'AssertionError'>\n",
      "Unexpected error: <class 'AssertionError'>\n",
      "Unexpected error: <class 'AssertionError'>\n",
      "Unexpected error: <class 'AssertionError'>\n"
     ]
    },
    {
     "name": "stderr",
     "output_type": "stream",
     "text": [
      " 95%|██████████████████████████████████████████████████████████████████████████████████████████████████████████████████████████▌      | 568/598 [2:07:24<05:54, 11.80s/it]"
     ]
    },
    {
     "name": "stdout",
     "output_type": "stream",
     "text": [
      "Unexpected error: <class 'AssertionError'>\n"
     ]
    },
    {
     "name": "stderr",
     "output_type": "stream",
     "text": [
      " 95%|██████████████████████████████████████████████████████████████████████████████████████████████████████████████████████████▉      | 570/598 [2:07:45<05:06, 10.96s/it]"
     ]
    },
    {
     "name": "stdout",
     "output_type": "stream",
     "text": [
      "Unexpected error: <class 'AssertionError'>\n",
      "Unexpected error: <class 'AssertionError'>\n"
     ]
    },
    {
     "name": "stderr",
     "output_type": "stream",
     "text": [
      " 95%|███████████████████████████████████████████████████████████████████████████████████████████████████████████████████████████▏     | 571/598 [2:08:02<05:45, 12.79s/it]"
     ]
    },
    {
     "name": "stdout",
     "output_type": "stream",
     "text": [
      "Unexpected error: <class 'AssertionError'>\n",
      "Unexpected error: <class 'AssertionError'>\n"
     ]
    },
    {
     "name": "stderr",
     "output_type": "stream",
     "text": [
      " 96%|███████████████████████████████████████████████████████████████████████████████████████████████████████████████████████████▍     | 572/598 [2:08:10<04:53, 11.30s/it]"
     ]
    },
    {
     "name": "stdout",
     "output_type": "stream",
     "text": [
      "Unexpected error: <class 'AssertionError'>\n",
      "Unexpected error: <class 'AssertionError'>\n"
     ]
    },
    {
     "name": "stderr",
     "output_type": "stream",
     "text": [
      " 97%|█████████████████████████████████████████████████████████████████████████████████████████████████████████████████████████████    | 580/598 [2:09:53<03:48, 12.70s/it]"
     ]
    },
    {
     "name": "stdout",
     "output_type": "stream",
     "text": [
      "Unexpected error: <class 'ValueError'>\n",
      "Unexpected error: <class 'ValueError'>\n",
      "Unexpected error: <class 'ValueError'>\n"
     ]
    },
    {
     "name": "stderr",
     "output_type": "stream",
     "text": [
      " 97%|█████████████████████████████████████████████████████████████████████████████████████████████████████████████████████████████▎   | 581/598 [2:09:57<02:52, 10.17s/it]"
     ]
    },
    {
     "name": "stdout",
     "output_type": "stream",
     "text": [
      "Unexpected error: <class 'ValueError'>\n"
     ]
    },
    {
     "name": "stderr",
     "output_type": "stream",
     "text": [
      " 98%|██████████████████████████████████████████████████████████████████████████████████████████████████████████████████████████████▏  | 585/598 [2:10:56<03:01, 13.98s/it]"
     ]
    },
    {
     "name": "stdout",
     "output_type": "stream",
     "text": [
      "Unexpected error: <class 'AssertionError'>\n",
      "Unexpected error: <class 'AssertionError'>\n",
      "Unexpected error: <class 'AssertionError'>\n"
     ]
    },
    {
     "name": "stderr",
     "output_type": "stream",
     "text": [
      " 99%|███████████████████████████████████████████████████████████████████████████████████████████████████████████████████████████████▎ | 590/598 [2:11:50<01:25, 10.70s/it]"
     ]
    },
    {
     "name": "stdout",
     "output_type": "stream",
     "text": [
      "Unexpected error: <class 'AssertionError'>\n",
      "Unexpected error: <class 'AssertionError'>\n",
      "Unexpected error: <class 'AssertionError'>\n",
      "Unexpected error: <class 'AssertionError'>\n"
     ]
    },
    {
     "name": "stderr",
     "output_type": "stream",
     "text": [
      " 99%|███████████████████████████████████████████████████████████████████████████████████████████████████████████████████████████████▍ | 591/598 [2:12:04<01:22, 11.83s/it]"
     ]
    },
    {
     "name": "stdout",
     "output_type": "stream",
     "text": [
      "Unexpected error: <class 'AssertionError'>\n",
      "Unexpected error: <class 'AssertionError'>\n",
      "Unexpected error: <class 'ValueError'>\n",
      "Unexpected error: <class 'ValueError'>\n"
     ]
    },
    {
     "name": "stderr",
     "output_type": "stream",
     "text": [
      " 99%|███████████████████████████████████████████████████████████████████████████████████████████████████████████████████████████████▋ | 592/598 [2:12:12<01:03, 10.56s/it]"
     ]
    },
    {
     "name": "stdout",
     "output_type": "stream",
     "text": [
      "Unexpected error: <class 'SyntaxError'>\n",
      "Unexpected error: <class 'SyntaxError'>\n"
     ]
    },
    {
     "name": "stderr",
     "output_type": "stream",
     "text": [
      "100%|█████████████████████████████████████████████████████████████████████████████████████████████████████████████████████████████████| 598/598 [2:13:17<00:00, 13.37s/it]\n"
     ]
    }
   ],
   "source": [
    "x_start, y_start, t_start = 0.0, 0.0, 0.0\n",
    "\n",
    "k = 10 # the number of times LLM can answer\n",
    "\n",
    "pred_r, pred_t, rd = [], [], []\n",
    "label_r, label_t = [], []\n",
    "predictions = []\n",
    "references = []\n",
    "for i in tqdm(range(len(data))):\n",
    "    # we split string by `\\n` to cover multiple action case\n",
    "    label_list_str_dict: List[str] = data[i]['messages'][1]['content'].split('\\n')\n",
    "    \n",
    "    prompt = tokenizer.apply_chat_template(\n",
    "        [data[i]['messages'][0]], add_generation_prompt=True\n",
    "    )\n",
    "    votes: Dict[str, int] = {}\n",
    "    dict_pairs: Dict[str, List[str]] = {}\n",
    "    for _ in range(k):\n",
    "        pred = generate(model, tokenizer, prompt=prompt, verbose=False, sampler=sampler)\n",
    "        pred_list_str_dict = pred.split('\\n')\n",
    "        key = \"\"\n",
    "        for pred_str_d, lab_str_d in zip(pred_list_str_dict, label_list_str_dict):\n",
    "            pred_coord = validate_and_get_polar_coord(pred_str_d, lab_str_d)\n",
    "            key += str(pred_coord)\n",
    "        try:\n",
    "            votes[key] += 1\n",
    "        except KeyError:\n",
    "            votes[key] = 1\n",
    "            dict_pairs[key] = list(pred_list_str_dict)\n",
    "    \n",
    "    voted_pred_list_str_dict = []\n",
    "    nb_vote = 0\n",
    "    for key, vote in votes.items():\n",
    "        if vote >= nb_vote:\n",
    "            voted_pred_list_str_dict = list(dict_pairs[key])\n",
    "            nb_vote = vote\n",
    "        \n",
    "    pred_coord = [0.0, 0.0]\n",
    "    label_coord = [0.0, 0.0]\n",
    "\n",
    "    x_pred, y_pred, t_pred = x_start, y_start, t_start\n",
    "    x_label, y_label, t_label = x_start, y_start, t_start\n",
    "    for pred_str_d, lab_str_d in zip(voted_pred_list_str_dict, label_list_str_dict):\n",
    "        # print(pred_str_d)\n",
    "        predictions.append(pred_str_d)\n",
    "        tmp_pred_coord = validate_and_get_polar_coord(pred_str_d, lab_str_d)\n",
    "        x_pred, y_pred, t_pred = update_robot_pose(x_pred, y_pred, t_pred, tmp_pred_coord)\n",
    "        pred_coord = update_polar_coord(pred_coord, tmp_pred_coord)\n",
    "\n",
    "        references.append(lab_str_d)\n",
    "        tmp_label_coord = get_distance_and_angle(eval(lab_str_d))\n",
    "        x_label, y_label, t_label = update_robot_pose(x_label, y_label, t_label, tmp_label_coord)\n",
    "        label_coord = update_polar_coord(label_coord, tmp_label_coord)\n",
    "\n",
    "    rd.append(riemanian_distance(x_pred, y_pred, t_pred, x_label, y_label, t_label))\n",
    "    pred_r.append(pred_coord[0])\n",
    "    pred_t.append(pred_coord[1])\n",
    "    label_r.append(label_coord[0])\n",
    "    label_t.append(label_coord[1])\n",
    "# print(err_r)\n",
    "# print(err_t)"
   ]
  },
  {
   "cell_type": "markdown",
   "id": "832b2f78-0ad3-49e7-8a55-b46248d1e666",
   "metadata": {},
   "source": [
    "In the testing above, LLM answers the same prompt $10$ times. Then, we choose the answer that appears the most frequently.\n",
    "\n",
    "Now, we can work on data visualization.\n",
    "\n",
    "In particular, I validated `gemma-2-2b-4bit` on the same `valid.jsonl` dataset and recorded the result locally. I will load the result and do a comparison."
   ]
  },
  {
   "cell_type": "code",
   "execution_count": 19,
   "id": "64bf958d-0f60-492c-a9db-c25765d03999",
   "metadata": {},
   "outputs": [],
   "source": [
    "import numpy as np"
   ]
  },
  {
   "cell_type": "code",
   "execution_count": 20,
   "id": "e33f16b7-9a70-4d9c-9aed-3d6dfb492c0a",
   "metadata": {},
   "outputs": [],
   "source": [
    "err_r_gemma2 = np.load('err_r_gemma2.npy', allow_pickle=True)\n",
    "err_t_gemma2 = np.load('err_t_gemma2.npy', allow_pickle=True)\n",
    "rd_gemma2 = np.load('rd_gemma2.npy', allow_pickle=True)"
   ]
  },
  {
   "cell_type": "code",
   "execution_count": 21,
   "id": "430459ce-0684-48ee-9075-5e0150a6b599",
   "metadata": {},
   "outputs": [],
   "source": [
    "# since I have ground r and t and gemma2's error for r and t, I can retrieve\n",
    "# the predicted r and t by simple arithmetic.\n",
    "pred_r_gemma2, pred_t_gemma2 = [], []\n",
    "for i in range(len(data)):\n",
    "    pred_r_gemma2.append(err_r_gemma2[i] + label_r[i])\n",
    "    pred_t_gemma2.append(err_t_gemma2[i] + label_t[i])"
   ]
  },
  {
   "cell_type": "code",
   "execution_count": 22,
   "id": "a31401ae-3a3a-4d08-b997-c6bc0bc75570",
   "metadata": {},
   "outputs": [
    {
     "data": {
      "image/png": "[encoded data removed]",
      "text/plain": [
       "<Figure size 640x480 with 1 Axes>"
      ]
     },
     "metadata": {},
     "output_type": "display_data"
    }
   ],
   "source": [
    "plt.scatter(pred_r_gemma2, pred_t_gemma2, marker=\"v\", label=\"gemma-2\")\n",
    "plt.scatter(pred_r, pred_t, marker=\".\", label=\"gemma-3\")\n",
    "plt.scatter(label_r, label_t, marker=\"+\", label=\"ground-truth\")\n",
    "plt.legend(loc='best');"
   ]
  },
  {
   "cell_type": "markdown",
   "id": "a758eec4-d080-4967-9719-b144f055ecb1",
   "metadata": {},
   "source": [
    "In this graph, the horizontal axis is the distance to be made by the robot and the vertical axis is the orientation to be made by the robot.\n",
    "\n",
    "The green + presents the ground-truth pose modification, the blue triangle represents the pose modification by gemma-2-2b-4bit, and the orange dot represents the pose modification by gemma-3-1b-8bit (with 10 times sampling).\n",
    "\n",
    "In this figure, gemma-3 performs worst than gemma-2 since more orange dots are not covered by the green plus than the blue triangle."
   ]
  },
  {
   "cell_type": "code",
   "execution_count": 23,
   "id": "8ca4a1fa-7516-47e7-a1a7-714ef9a8d437",
   "metadata": {},
   "outputs": [
    {
     "data": {
      "text/plain": [
       "<matplotlib.collections.PathCollection at 0x33ace6550>"
      ]
     },
     "execution_count": 23,
     "metadata": {},
     "output_type": "execute_result"
    },
    {
     "data": {
      "image/png": "[encoded data removed]",
      "text/plain": [
       "<Figure size 640x480 with 1 Axes>"
      ]
     },
     "metadata": {},
     "output_type": "display_data"
    }
   ],
   "source": [
    "plt.scatter(err_r_gemma2, err_t_gemma2, label=\"gemma-2-2b\")"
   ]
  },
  {
   "cell_type": "code",
   "execution_count": 24,
   "id": "bb54d6c9-a26a-4364-aa32-843d87b68653",
   "metadata": {},
   "outputs": [
    {
     "data": {
      "text/plain": [
       "<matplotlib.legend.Legend at 0x330d26390>"
      ]
     },
     "execution_count": 24,
     "metadata": {},
     "output_type": "execute_result"
    },
    {
     "data": {
      "image/png": "[encoded data removed]",
      "text/plain": [
       "<Figure size 640x480 with 1 Axes>"
      ]
     },
     "metadata": {},
     "output_type": "display_data"
    }
   ],
   "source": [
    "err_r = np.array(pred_r) - np.array(label_r)\n",
    "err_t = np.array(pred_t) - np.array(label_t)\n",
    "plt.scatter(err_r, err_t, label=\"gemma-3-1b\")\n",
    "plt.scatter(err_r_gemma2, err_t_gemma2, label=\"gemma-2-2b\")\n",
    "plt.legend(loc='best')"
   ]
  },
  {
   "cell_type": "code",
   "execution_count": 25,
   "id": "b79db940-030b-471d-9751-bd1d6037b239",
   "metadata": {},
   "outputs": [
    {
     "data": {
      "text/plain": [
       "<matplotlib.collections.PathCollection at 0x3314f6550>"
      ]
     },
     "execution_count": 25,
     "metadata": {},
     "output_type": "execute_result"
    },
    {
     "data": {
      "image/png": "[encoded data removed]",
      "text/plain": [
       "<Figure size 640x480 with 1 Axes>"
      ]
     },
     "metadata": {},
     "output_type": "display_data"
    }
   ],
   "source": [
    "plt.scatter(err_r, err_t)"
   ]
  },
  {
   "cell_type": "code",
   "execution_count": 26,
   "id": "9425c2e6-eda6-4e21-b10b-918f699cde1a",
   "metadata": {},
   "outputs": [
    {
     "data": {
      "text/plain": [
       "[<matplotlib.lines.Line2D at 0x1209bc090>]"
      ]
     },
     "execution_count": 26,
     "metadata": {},
     "output_type": "execute_result"
    },
    {
     "data": {
      "image/png": "[encoded data removed]",
      "text/plain": [
       "<Figure size 640x480 with 1 Axes>"
      ]
     },
     "metadata": {},
     "output_type": "display_data"
    }
   ],
   "source": [
    "plt.plot(rd, label=\"gemma-3-1b\")"
   ]
  },
  {
   "cell_type": "code",
   "execution_count": 27,
   "id": "ecdaab84-9a72-41f9-a572-068309890759",
   "metadata": {},
   "outputs": [
    {
     "data": {
      "text/plain": [
       "<matplotlib.legend.Legend at 0x33097b990>"
      ]
     },
     "execution_count": 27,
     "metadata": {},
     "output_type": "execute_result"
    },
    {
     "data": {
      "image/png": "[encoded data removed]",
      "text/plain": [
       "<Figure size 640x480 with 1 Axes>"
      ]
     },
     "metadata": {},
     "output_type": "display_data"
    }
   ],
   "source": [
    "plt.plot(rd, label=\"gemma-3-1b\")\n",
    "plt.plot(rd_gemma2, label=\"gemma-2-2b\")\n",
    "plt.legend(loc='best')"
   ]
  },
  {
   "cell_type": "code",
   "execution_count": 28,
   "id": "149fe37a-cedf-4609-a679-e687607357a6",
   "metadata": {},
   "outputs": [
    {
     "data": {
      "text/plain": [
       "np.float64(4.21793609104979)"
      ]
     },
     "execution_count": 28,
     "metadata": {},
     "output_type": "execute_result"
    }
   ],
   "source": [
    "np.mean(rd)"
   ]
  },
  {
   "cell_type": "markdown",
   "id": "e62d46c4-f8d0-44dc-8af2-d6fcc4012fcc",
   "metadata": {},
   "source": [
    "$4.2179$ is the pose error induced by the finetuned gemma-3 averaged over `valid.jsonl` dataset."
   ]
  },
  {
   "cell_type": "markdown",
   "id": "5df1123a-0e8e-4397-9957-ce85b93a106c",
   "metadata": {},
   "source": [
    "## Other performance metrics"
   ]
  },
  {
   "cell_type": "code",
   "execution_count": 29,
   "id": "1e9e7b95-405b-4af7-8969-36e9d84c9f40",
   "metadata": {},
   "outputs": [
    {
     "name": "stderr",
     "output_type": "stream",
     "text": [
      "Using the latest cached version of the module from /Users/cto/.cache/huggingface/modules/evaluate_modules/metrics/evaluate-metric--cer/9cb90b752d5f15fb41161efdbefd13570adb3f32fa157290d8a55093c47428e1 (last modified on Mon Mar 24 21:41:43 2025) since it couldn't be found locally at evaluate-metric--cer, or remotely on the Hugging Face Hub.\n",
      "Using the latest cached version of the module from /Users/cto/.cache/huggingface/modules/evaluate_modules/metrics/evaluate-metric--wer/85bee9e4216a78bb09b2d0d500f6af5c23da58f9210e661add540f5df6630fcd (last modified on Mon Mar 24 21:42:52 2025) since it couldn't be found locally at evaluate-metric--wer, or remotely on the Hugging Face Hub.\n"
     ]
    }
   ],
   "source": [
    "from evaluate import load\n",
    "cer = load(\"cer\")\n",
    "wer = load(\"wer\")"
   ]
  },
  {
   "cell_type": "code",
   "execution_count": 30,
   "id": "e08a5f84-56f5-4e0c-9c28-2fa01dd6c840",
   "metadata": {},
   "outputs": [
    {
     "name": "stdout",
     "output_type": "stream",
     "text": [
      "0.025793322734499205\n"
     ]
    }
   ],
   "source": [
    "cer_score = cer.compute(predictions=predictions, references=references)\n",
    "print(cer_score)"
   ]
  },
  {
   "cell_type": "code",
   "execution_count": 31,
   "id": "32b05443-0abb-4cd2-99db-171ba1d1d6e6",
   "metadata": {},
   "outputs": [
    {
     "name": "stdout",
     "output_type": "stream",
     "text": [
      "0.04765779379286295\n"
     ]
    }
   ],
   "source": [
    "wer_score = wer.compute(predictions=predictions, references=references)\n",
    "print(wer_score)"
   ]
  },
  {
   "cell_type": "code",
   "execution_count": null,
   "id": "73440060-0516-4547-bf67-2f78cf15aecd",
   "metadata": {},
   "outputs": [],
   "source": []
  },
  {
   "cell_type": "code",
   "execution_count": 26,
   "id": "0abfa829-b408-41fe-b6e9-26351dd4c2f0",
   "metadata": {},
   "outputs": [],
   "source": [
    "np.save('pred_r_g3', np.array(pred_r, dtype=object), allow_pickle=True)\n",
    "np.save('pred_t_g3', np.array(pred_t, dtype=object), allow_pickle=True)\n",
    "np.save('rd_g3', np.array(rd, dtype=object), allow_pickle=True)"
   ]
  },
  {
   "cell_type": "code",
   "execution_count": null,
   "id": "35a8117a-d0d4-43ed-bf29-b16d37983028",
   "metadata": {},
   "outputs": [],
   "source": []
  },
  {
   "cell_type": "code",
   "execution_count": null,
   "id": "d1746e5c-ba66-4380-bc3e-8e167c8c914f",
   "metadata": {},
   "outputs": [],
   "source": []
  },
  {
   "cell_type": "code",
   "execution_count": null,
   "id": "3ab41cde-d363-49d8-a349-18855eca1c17",
   "metadata": {},
   "outputs": [],
   "source": []
  },
  {
   "cell_type": "code",
   "execution_count": null,
   "id": "876a5c6b-6a2b-4441-a3bd-56e670c27d96",
   "metadata": {},
   "outputs": [],
   "source": [
    "model, tokenizer = load(\"mlx-community/gemma-2-2b-it-4bit\", adapter_path=\"./robot-command-retrieval/adapters-gemma-2-2b-it-4bit/\")"
   ]
  },
  {
   "cell_type": "code",
   "execution_count": null,
   "id": "e22f385a-7909-4c24-ba45-ca6d445bc037",
   "metadata": {},
   "outputs": [],
   "source": []
  }
 ],
 "metadata": {
  "kernelspec": {
   "display_name": "Python 3 (ipykernel)",
   "language": "python",
   "name": "python3"
  },
  "language_info": {
   "codemirror_mode": {
    "name": "ipython",
    "version": 3
   },
   "file_extension": ".py",
   "mimetype": "text/x-python",
   "name": "python",
   "nbconvert_exporter": "python",
   "pygments_lexer": "ipython3",
   "version": "3.11.11"
  }
 },
 "nbformat": 4,
 "nbformat_minor": 5
}
